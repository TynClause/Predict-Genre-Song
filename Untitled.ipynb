{
 "cells": [
  {
   "cell_type": "markdown",
   "metadata": {},
   "source": [
    "# Prediksi Genre Lagu berdasarkan Audio\n",
    "\n",
    "![img](https://tech.ebu.ch/files/live/sites/tech/files/shared/events/nga18/nga_workshop_wave_833x469.jpg)\n",
    "\n",
    "## Oleh:\n",
    "\n",
    "* Elvin Nur Furqon (1103174048)\n",
    "* M. Randi Prawira Irawan (1103174055)\n",
    "* Muhammad Naafi Hardia (1103170212)\n",
    "\n",
    "### Source :\n",
    "* UCI DATASET"
   ]
  },
  {
   "cell_type": "markdown",
   "metadata": {},
   "source": [
    "# Library\n",
    "\n",
    "* Pandas\n",
    "* Numpy\n",
    "* Sklearn\n",
    "* Seaborn\n",
    "* Matplotlib\n"
   ]
  },
  {
   "cell_type": "code",
   "execution_count": 123,
   "metadata": {},
   "outputs": [],
   "source": [
    "#import library\n",
    "import pandas as pd\n",
    "import numpy as np\n",
    "import matplotlib.pyplot as plt\n",
    "import seaborn as sns\n",
    "from sklearn.preprocessing import StandardScaler\n",
    "from sklearn.decomposition import PCA"
   ]
  },
  {
   "cell_type": "code",
   "execution_count": 124,
   "metadata": {},
   "outputs": [
    {
     "data": {
      "text/html": [
       "<div>\n",
       "<style scoped>\n",
       "    .dataframe tbody tr th:only-of-type {\n",
       "        vertical-align: middle;\n",
       "    }\n",
       "\n",
       "    .dataframe tbody tr th {\n",
       "        vertical-align: top;\n",
       "    }\n",
       "\n",
       "    .dataframe thead th {\n",
       "        text-align: right;\n",
       "    }\n",
       "</style>\n",
       "<table border=\"1\" class=\"dataframe\">\n",
       "  <thead>\n",
       "    <tr style=\"text-align: right;\">\n",
       "      <th></th>\n",
       "      <th>track_id</th>\n",
       "      <th>bit_rate</th>\n",
       "      <th>comments</th>\n",
       "      <th>composer</th>\n",
       "      <th>date_created</th>\n",
       "      <th>date_recorded</th>\n",
       "      <th>duration</th>\n",
       "      <th>favorites</th>\n",
       "      <th>genre_top</th>\n",
       "      <th>genres</th>\n",
       "      <th>...</th>\n",
       "      <th>information</th>\n",
       "      <th>interest</th>\n",
       "      <th>language_code</th>\n",
       "      <th>license</th>\n",
       "      <th>listens</th>\n",
       "      <th>lyricist</th>\n",
       "      <th>number</th>\n",
       "      <th>publisher</th>\n",
       "      <th>tags</th>\n",
       "      <th>title</th>\n",
       "    </tr>\n",
       "  </thead>\n",
       "  <tbody>\n",
       "    <tr>\n",
       "      <th>0</th>\n",
       "      <td>135</td>\n",
       "      <td>256000</td>\n",
       "      <td>1</td>\n",
       "      <td>NaN</td>\n",
       "      <td>2008-11-26 01:43:26</td>\n",
       "      <td>2008-11-26 00:00:00</td>\n",
       "      <td>837</td>\n",
       "      <td>0</td>\n",
       "      <td>Rock</td>\n",
       "      <td>[45, 58]</td>\n",
       "      <td>...</td>\n",
       "      <td>NaN</td>\n",
       "      <td>2484</td>\n",
       "      <td>en</td>\n",
       "      <td>Attribution-NonCommercial-ShareAlike 3.0 Inter...</td>\n",
       "      <td>1832</td>\n",
       "      <td>NaN</td>\n",
       "      <td>0</td>\n",
       "      <td>NaN</td>\n",
       "      <td>[]</td>\n",
       "      <td>Father's Day</td>\n",
       "    </tr>\n",
       "    <tr>\n",
       "      <th>1</th>\n",
       "      <td>136</td>\n",
       "      <td>256000</td>\n",
       "      <td>1</td>\n",
       "      <td>NaN</td>\n",
       "      <td>2008-11-26 01:43:35</td>\n",
       "      <td>2008-11-26 00:00:00</td>\n",
       "      <td>509</td>\n",
       "      <td>0</td>\n",
       "      <td>Rock</td>\n",
       "      <td>[45, 58]</td>\n",
       "      <td>...</td>\n",
       "      <td>NaN</td>\n",
       "      <td>1948</td>\n",
       "      <td>en</td>\n",
       "      <td>Attribution-NonCommercial-ShareAlike 3.0 Inter...</td>\n",
       "      <td>1498</td>\n",
       "      <td>NaN</td>\n",
       "      <td>0</td>\n",
       "      <td>NaN</td>\n",
       "      <td>[]</td>\n",
       "      <td>Peel Back The Mountain Sky</td>\n",
       "    </tr>\n",
       "    <tr>\n",
       "      <th>2</th>\n",
       "      <td>151</td>\n",
       "      <td>192000</td>\n",
       "      <td>0</td>\n",
       "      <td>NaN</td>\n",
       "      <td>2008-11-26 01:44:55</td>\n",
       "      <td>NaN</td>\n",
       "      <td>192</td>\n",
       "      <td>0</td>\n",
       "      <td>Rock</td>\n",
       "      <td>[25]</td>\n",
       "      <td>...</td>\n",
       "      <td>NaN</td>\n",
       "      <td>701</td>\n",
       "      <td>en</td>\n",
       "      <td>Attribution-NonCommercial-ShareAlike 3.0 Inter...</td>\n",
       "      <td>148</td>\n",
       "      <td>NaN</td>\n",
       "      <td>4</td>\n",
       "      <td>NaN</td>\n",
       "      <td>[]</td>\n",
       "      <td>Untitled 04</td>\n",
       "    </tr>\n",
       "    <tr>\n",
       "      <th>3</th>\n",
       "      <td>152</td>\n",
       "      <td>192000</td>\n",
       "      <td>0</td>\n",
       "      <td>NaN</td>\n",
       "      <td>2008-11-26 01:44:58</td>\n",
       "      <td>NaN</td>\n",
       "      <td>193</td>\n",
       "      <td>0</td>\n",
       "      <td>Rock</td>\n",
       "      <td>[25]</td>\n",
       "      <td>...</td>\n",
       "      <td>NaN</td>\n",
       "      <td>637</td>\n",
       "      <td>en</td>\n",
       "      <td>Attribution-NonCommercial-ShareAlike 3.0 Inter...</td>\n",
       "      <td>98</td>\n",
       "      <td>NaN</td>\n",
       "      <td>11</td>\n",
       "      <td>NaN</td>\n",
       "      <td>[]</td>\n",
       "      <td>Untitled 11</td>\n",
       "    </tr>\n",
       "    <tr>\n",
       "      <th>4</th>\n",
       "      <td>153</td>\n",
       "      <td>256000</td>\n",
       "      <td>0</td>\n",
       "      <td>Arc and Sender</td>\n",
       "      <td>2008-11-26 01:45:00</td>\n",
       "      <td>2008-11-26 00:00:00</td>\n",
       "      <td>405</td>\n",
       "      <td>5</td>\n",
       "      <td>Rock</td>\n",
       "      <td>[26]</td>\n",
       "      <td>...</td>\n",
       "      <td>NaN</td>\n",
       "      <td>354</td>\n",
       "      <td>en</td>\n",
       "      <td>Attribution-NonCommercial-NoDerivatives (aka M...</td>\n",
       "      <td>424</td>\n",
       "      <td>NaN</td>\n",
       "      <td>2</td>\n",
       "      <td>NaN</td>\n",
       "      <td>[]</td>\n",
       "      <td>Hundred-Year Flood</td>\n",
       "    </tr>\n",
       "  </tbody>\n",
       "</table>\n",
       "<p>5 rows × 21 columns</p>\n",
       "</div>"
      ],
      "text/plain": [
       "   track_id  bit_rate  comments        composer         date_created  \\\n",
       "0       135    256000         1             NaN  2008-11-26 01:43:26   \n",
       "1       136    256000         1             NaN  2008-11-26 01:43:35   \n",
       "2       151    192000         0             NaN  2008-11-26 01:44:55   \n",
       "3       152    192000         0             NaN  2008-11-26 01:44:58   \n",
       "4       153    256000         0  Arc and Sender  2008-11-26 01:45:00   \n",
       "\n",
       "         date_recorded  duration  favorites genre_top    genres  ...  \\\n",
       "0  2008-11-26 00:00:00       837          0      Rock  [45, 58]  ...   \n",
       "1  2008-11-26 00:00:00       509          0      Rock  [45, 58]  ...   \n",
       "2                  NaN       192          0      Rock      [25]  ...   \n",
       "3                  NaN       193          0      Rock      [25]  ...   \n",
       "4  2008-11-26 00:00:00       405          5      Rock      [26]  ...   \n",
       "\n",
       "  information interest  language_code  \\\n",
       "0         NaN     2484             en   \n",
       "1         NaN     1948             en   \n",
       "2         NaN      701             en   \n",
       "3         NaN      637             en   \n",
       "4         NaN      354             en   \n",
       "\n",
       "                                             license listens  lyricist number  \\\n",
       "0  Attribution-NonCommercial-ShareAlike 3.0 Inter...    1832       NaN      0   \n",
       "1  Attribution-NonCommercial-ShareAlike 3.0 Inter...    1498       NaN      0   \n",
       "2  Attribution-NonCommercial-ShareAlike 3.0 Inter...     148       NaN      4   \n",
       "3  Attribution-NonCommercial-ShareAlike 3.0 Inter...      98       NaN     11   \n",
       "4  Attribution-NonCommercial-NoDerivatives (aka M...     424       NaN      2   \n",
       "\n",
       "   publisher tags                       title  \n",
       "0        NaN   []                Father's Day  \n",
       "1        NaN   []  Peel Back The Mountain Sky  \n",
       "2        NaN   []                 Untitled 04  \n",
       "3        NaN   []                 Untitled 11  \n",
       "4        NaN   []          Hundred-Year Flood  \n",
       "\n",
       "[5 rows x 21 columns]"
      ]
     },
     "metadata": {},
     "output_type": "display_data"
    },
    {
     "data": {
      "text/html": [
       "<div>\n",
       "<style scoped>\n",
       "    .dataframe tbody tr th:only-of-type {\n",
       "        vertical-align: middle;\n",
       "    }\n",
       "\n",
       "    .dataframe tbody tr th {\n",
       "        vertical-align: top;\n",
       "    }\n",
       "\n",
       "    .dataframe thead th {\n",
       "        text-align: right;\n",
       "    }\n",
       "</style>\n",
       "<table border=\"1\" class=\"dataframe\">\n",
       "  <thead>\n",
       "    <tr style=\"text-align: right;\">\n",
       "      <th></th>\n",
       "      <th>track_id</th>\n",
       "      <th>acousticness</th>\n",
       "      <th>danceability</th>\n",
       "      <th>energy</th>\n",
       "      <th>instrumentalness</th>\n",
       "      <th>liveness</th>\n",
       "      <th>speechiness</th>\n",
       "      <th>tempo</th>\n",
       "      <th>valence</th>\n",
       "    </tr>\n",
       "  </thead>\n",
       "  <tbody>\n",
       "    <tr>\n",
       "      <th>0</th>\n",
       "      <td>2</td>\n",
       "      <td>0.416675</td>\n",
       "      <td>0.675894</td>\n",
       "      <td>0.634476</td>\n",
       "      <td>0.010628</td>\n",
       "      <td>0.177647</td>\n",
       "      <td>0.159310</td>\n",
       "      <td>165.922</td>\n",
       "      <td>0.576661</td>\n",
       "    </tr>\n",
       "    <tr>\n",
       "      <th>1</th>\n",
       "      <td>3</td>\n",
       "      <td>0.374408</td>\n",
       "      <td>0.528643</td>\n",
       "      <td>0.817461</td>\n",
       "      <td>0.001851</td>\n",
       "      <td>0.105880</td>\n",
       "      <td>0.461818</td>\n",
       "      <td>126.957</td>\n",
       "      <td>0.269240</td>\n",
       "    </tr>\n",
       "    <tr>\n",
       "      <th>2</th>\n",
       "      <td>5</td>\n",
       "      <td>0.043567</td>\n",
       "      <td>0.745566</td>\n",
       "      <td>0.701470</td>\n",
       "      <td>0.000697</td>\n",
       "      <td>0.373143</td>\n",
       "      <td>0.124595</td>\n",
       "      <td>100.260</td>\n",
       "      <td>0.621661</td>\n",
       "    </tr>\n",
       "    <tr>\n",
       "      <th>3</th>\n",
       "      <td>10</td>\n",
       "      <td>0.951670</td>\n",
       "      <td>0.658179</td>\n",
       "      <td>0.924525</td>\n",
       "      <td>0.965427</td>\n",
       "      <td>0.115474</td>\n",
       "      <td>0.032985</td>\n",
       "      <td>111.562</td>\n",
       "      <td>0.963590</td>\n",
       "    </tr>\n",
       "    <tr>\n",
       "      <th>4</th>\n",
       "      <td>134</td>\n",
       "      <td>0.452217</td>\n",
       "      <td>0.513238</td>\n",
       "      <td>0.560410</td>\n",
       "      <td>0.019443</td>\n",
       "      <td>0.096567</td>\n",
       "      <td>0.525519</td>\n",
       "      <td>114.290</td>\n",
       "      <td>0.894072</td>\n",
       "    </tr>\n",
       "  </tbody>\n",
       "</table>\n",
       "</div>"
      ],
      "text/plain": [
       "   track_id  acousticness  danceability    energy  instrumentalness  liveness  \\\n",
       "0         2      0.416675      0.675894  0.634476          0.010628  0.177647   \n",
       "1         3      0.374408      0.528643  0.817461          0.001851  0.105880   \n",
       "2         5      0.043567      0.745566  0.701470          0.000697  0.373143   \n",
       "3        10      0.951670      0.658179  0.924525          0.965427  0.115474   \n",
       "4       134      0.452217      0.513238  0.560410          0.019443  0.096567   \n",
       "\n",
       "   speechiness    tempo   valence  \n",
       "0     0.159310  165.922  0.576661  \n",
       "1     0.461818  126.957  0.269240  \n",
       "2     0.124595  100.260  0.621661  \n",
       "3     0.032985  111.562  0.963590  \n",
       "4     0.525519  114.290  0.894072  "
      ]
     },
     "metadata": {},
     "output_type": "display_data"
    }
   ],
   "source": [
    "link_data_csv = 'datasets/dataset.csv'\n",
    "link_data_json = 'datasets/track_id.json'\n",
    "\n",
    "data_csv = pd.read_csv(link_data_csv)\n",
    "data_json = pd.read_json(link_data_json,precise_float=True)\n",
    "\n",
    "display(data_csv.head())\n",
    "display(data_json.head())"
   ]
  },
  {
   "cell_type": "code",
   "execution_count": 125,
   "metadata": {},
   "outputs": [
    {
     "name": "stdout",
     "output_type": "stream",
     "text": [
      "<class 'pandas.core.frame.DataFrame'>\n",
      "RangeIndex: 17734 entries, 0 to 17733\n",
      "Data columns (total 21 columns):\n",
      "track_id         17734 non-null int64\n",
      "bit_rate         17734 non-null int64\n",
      "comments         17734 non-null int64\n",
      "composer         166 non-null object\n",
      "date_created     17734 non-null object\n",
      "date_recorded    1898 non-null object\n",
      "duration         17734 non-null int64\n",
      "favorites        17734 non-null int64\n",
      "genre_top        17734 non-null object\n",
      "genres           17734 non-null object\n",
      "genres_all       17734 non-null object\n",
      "information      482 non-null object\n",
      "interest         17734 non-null int64\n",
      "language_code    4089 non-null object\n",
      "license          17714 non-null object\n",
      "listens          17734 non-null int64\n",
      "lyricist         53 non-null object\n",
      "number           17734 non-null int64\n",
      "publisher        52 non-null object\n",
      "tags             17734 non-null object\n",
      "title            17734 non-null object\n",
      "dtypes: int64(8), object(13)\n",
      "memory usage: 2.8+ MB\n"
     ]
    }
   ],
   "source": [
    "data_csv.info()"
   ]
  },
  {
   "cell_type": "code",
   "execution_count": 126,
   "metadata": {},
   "outputs": [
    {
     "name": "stdout",
     "output_type": "stream",
     "text": [
      "<class 'pandas.core.frame.DataFrame'>\n",
      "Int64Index: 13129 entries, 0 to 13128\n",
      "Data columns (total 9 columns):\n",
      "track_id            13129 non-null int64\n",
      "acousticness        13129 non-null float64\n",
      "danceability        13129 non-null float64\n",
      "energy              13129 non-null float64\n",
      "instrumentalness    13129 non-null float64\n",
      "liveness            13129 non-null float64\n",
      "speechiness         13129 non-null float64\n",
      "tempo               13129 non-null float64\n",
      "valence             13129 non-null float64\n",
      "dtypes: float64(8), int64(1)\n",
      "memory usage: 1.0 MB\n"
     ]
    }
   ],
   "source": [
    "data_json.info()"
   ]
  },
  {
   "cell_type": "code",
   "execution_count": 127,
   "metadata": {},
   "outputs": [
    {
     "data": {
      "text/html": [
       "<div>\n",
       "<style scoped>\n",
       "    .dataframe tbody tr th:only-of-type {\n",
       "        vertical-align: middle;\n",
       "    }\n",
       "\n",
       "    .dataframe tbody tr th {\n",
       "        vertical-align: top;\n",
       "    }\n",
       "\n",
       "    .dataframe thead th {\n",
       "        text-align: right;\n",
       "    }\n",
       "</style>\n",
       "<table border=\"1\" class=\"dataframe\">\n",
       "  <thead>\n",
       "    <tr style=\"text-align: right;\">\n",
       "      <th></th>\n",
       "      <th>track_id</th>\n",
       "      <th>bit_rate</th>\n",
       "      <th>comments</th>\n",
       "      <th>duration</th>\n",
       "      <th>favorites</th>\n",
       "      <th>interest</th>\n",
       "      <th>listens</th>\n",
       "      <th>number</th>\n",
       "    </tr>\n",
       "  </thead>\n",
       "  <tbody>\n",
       "    <tr>\n",
       "      <th>count</th>\n",
       "      <td>17734.000000</td>\n",
       "      <td>17734.000000</td>\n",
       "      <td>17734.000000</td>\n",
       "      <td>17734.000000</td>\n",
       "      <td>17734.000000</td>\n",
       "      <td>1.773400e+04</td>\n",
       "      <td>17734.000000</td>\n",
       "      <td>17734.000000</td>\n",
       "    </tr>\n",
       "    <tr>\n",
       "      <th>mean</th>\n",
       "      <td>69394.145991</td>\n",
       "      <td>258971.413781</td>\n",
       "      <td>0.020695</td>\n",
       "      <td>220.942934</td>\n",
       "      <td>1.685237</td>\n",
       "      <td>1.678238e+03</td>\n",
       "      <td>1079.709541</td>\n",
       "      <td>6.184110</td>\n",
       "    </tr>\n",
       "    <tr>\n",
       "      <th>std</th>\n",
       "      <td>45784.589753</td>\n",
       "      <td>61535.621463</td>\n",
       "      <td>0.270070</td>\n",
       "      <td>177.906821</td>\n",
       "      <td>6.629402</td>\n",
       "      <td>9.394969e+03</td>\n",
       "      <td>4693.497635</td>\n",
       "      <td>7.075062</td>\n",
       "    </tr>\n",
       "    <tr>\n",
       "      <th>min</th>\n",
       "      <td>2.000000</td>\n",
       "      <td>-1.000000</td>\n",
       "      <td>0.000000</td>\n",
       "      <td>2.000000</td>\n",
       "      <td>0.000000</td>\n",
       "      <td>1.800000e+01</td>\n",
       "      <td>9.000000</td>\n",
       "      <td>0.000000</td>\n",
       "    </tr>\n",
       "    <tr>\n",
       "      <th>25%</th>\n",
       "      <td>29979.000000</td>\n",
       "      <td>220982.000000</td>\n",
       "      <td>0.000000</td>\n",
       "      <td>139.000000</td>\n",
       "      <td>0.000000</td>\n",
       "      <td>4.210000e+02</td>\n",
       "      <td>214.000000</td>\n",
       "      <td>2.000000</td>\n",
       "    </tr>\n",
       "    <tr>\n",
       "      <th>50%</th>\n",
       "      <td>64193.500000</td>\n",
       "      <td>256000.000000</td>\n",
       "      <td>0.000000</td>\n",
       "      <td>192.000000</td>\n",
       "      <td>1.000000</td>\n",
       "      <td>8.240000e+02</td>\n",
       "      <td>461.000000</td>\n",
       "      <td>5.000000</td>\n",
       "    </tr>\n",
       "    <tr>\n",
       "      <th>75%</th>\n",
       "      <td>109442.750000</td>\n",
       "      <td>320000.000000</td>\n",
       "      <td>0.000000</td>\n",
       "      <td>255.000000</td>\n",
       "      <td>2.000000</td>\n",
       "      <td>1.628000e+03</td>\n",
       "      <td>1018.000000</td>\n",
       "      <td>8.000000</td>\n",
       "    </tr>\n",
       "    <tr>\n",
       "      <th>max</th>\n",
       "      <td>155319.000000</td>\n",
       "      <td>448000.000000</td>\n",
       "      <td>24.000000</td>\n",
       "      <td>3675.000000</td>\n",
       "      <td>554.000000</td>\n",
       "      <td>1.038669e+06</td>\n",
       "      <td>433992.000000</td>\n",
       "      <td>100.000000</td>\n",
       "    </tr>\n",
       "  </tbody>\n",
       "</table>\n",
       "</div>"
      ],
      "text/plain": [
       "            track_id       bit_rate      comments      duration     favorites  \\\n",
       "count   17734.000000   17734.000000  17734.000000  17734.000000  17734.000000   \n",
       "mean    69394.145991  258971.413781      0.020695    220.942934      1.685237   \n",
       "std     45784.589753   61535.621463      0.270070    177.906821      6.629402   \n",
       "min         2.000000      -1.000000      0.000000      2.000000      0.000000   \n",
       "25%     29979.000000  220982.000000      0.000000    139.000000      0.000000   \n",
       "50%     64193.500000  256000.000000      0.000000    192.000000      1.000000   \n",
       "75%    109442.750000  320000.000000      0.000000    255.000000      2.000000   \n",
       "max    155319.000000  448000.000000     24.000000   3675.000000    554.000000   \n",
       "\n",
       "           interest        listens        number  \n",
       "count  1.773400e+04   17734.000000  17734.000000  \n",
       "mean   1.678238e+03    1079.709541      6.184110  \n",
       "std    9.394969e+03    4693.497635      7.075062  \n",
       "min    1.800000e+01       9.000000      0.000000  \n",
       "25%    4.210000e+02     214.000000      2.000000  \n",
       "50%    8.240000e+02     461.000000      5.000000  \n",
       "75%    1.628000e+03    1018.000000      8.000000  \n",
       "max    1.038669e+06  433992.000000    100.000000  "
      ]
     },
     "execution_count": 127,
     "metadata": {},
     "output_type": "execute_result"
    }
   ],
   "source": [
    "data_csv.describe()"
   ]
  },
  {
   "cell_type": "code",
   "execution_count": 128,
   "metadata": {},
   "outputs": [
    {
     "data": {
      "text/html": [
       "<div>\n",
       "<style scoped>\n",
       "    .dataframe tbody tr th:only-of-type {\n",
       "        vertical-align: middle;\n",
       "    }\n",
       "\n",
       "    .dataframe tbody tr th {\n",
       "        vertical-align: top;\n",
       "    }\n",
       "\n",
       "    .dataframe thead th {\n",
       "        text-align: right;\n",
       "    }\n",
       "</style>\n",
       "<table border=\"1\" class=\"dataframe\">\n",
       "  <thead>\n",
       "    <tr style=\"text-align: right;\">\n",
       "      <th></th>\n",
       "      <th>track_id</th>\n",
       "      <th>acousticness</th>\n",
       "      <th>danceability</th>\n",
       "      <th>energy</th>\n",
       "      <th>instrumentalness</th>\n",
       "      <th>liveness</th>\n",
       "      <th>speechiness</th>\n",
       "      <th>tempo</th>\n",
       "      <th>valence</th>\n",
       "    </tr>\n",
       "  </thead>\n",
       "  <tbody>\n",
       "    <tr>\n",
       "      <th>count</th>\n",
       "      <td>13129.000000</td>\n",
       "      <td>1.312900e+04</td>\n",
       "      <td>13129.000000</td>\n",
       "      <td>13129.000000</td>\n",
       "      <td>13129.000000</td>\n",
       "      <td>13129.000000</td>\n",
       "      <td>13129.000000</td>\n",
       "      <td>13129.000000</td>\n",
       "      <td>13129.000000</td>\n",
       "    </tr>\n",
       "    <tr>\n",
       "      <th>mean</th>\n",
       "      <td>34031.058268</td>\n",
       "      <td>5.246876e-01</td>\n",
       "      <td>0.487290</td>\n",
       "      <td>0.537516</td>\n",
       "      <td>0.640536</td>\n",
       "      <td>0.187804</td>\n",
       "      <td>0.099174</td>\n",
       "      <td>123.080061</td>\n",
       "      <td>0.439761</td>\n",
       "    </tr>\n",
       "    <tr>\n",
       "      <th>std</th>\n",
       "      <td>28950.422182</td>\n",
       "      <td>3.837186e-01</td>\n",
       "      <td>0.190148</td>\n",
       "      <td>0.278049</td>\n",
       "      <td>0.361430</td>\n",
       "      <td>0.158051</td>\n",
       "      <td>0.137381</td>\n",
       "      <td>35.015137</td>\n",
       "      <td>0.276028</td>\n",
       "    </tr>\n",
       "    <tr>\n",
       "      <th>min</th>\n",
       "      <td>2.000000</td>\n",
       "      <td>9.035000e-07</td>\n",
       "      <td>0.051307</td>\n",
       "      <td>0.000020</td>\n",
       "      <td>0.000000</td>\n",
       "      <td>0.025297</td>\n",
       "      <td>0.022324</td>\n",
       "      <td>12.753000</td>\n",
       "      <td>0.000010</td>\n",
       "    </tr>\n",
       "    <tr>\n",
       "      <th>25%</th>\n",
       "      <td>12986.000000</td>\n",
       "      <td>1.037726e-01</td>\n",
       "      <td>0.344759</td>\n",
       "      <td>0.321300</td>\n",
       "      <td>0.323466</td>\n",
       "      <td>0.101406</td>\n",
       "      <td>0.036932</td>\n",
       "      <td>95.967000</td>\n",
       "      <td>0.197321</td>\n",
       "    </tr>\n",
       "    <tr>\n",
       "      <th>50%</th>\n",
       "      <td>28097.000000</td>\n",
       "      <td>5.739848e-01</td>\n",
       "      <td>0.485635</td>\n",
       "      <td>0.549113</td>\n",
       "      <td>0.838134</td>\n",
       "      <td>0.119002</td>\n",
       "      <td>0.049019</td>\n",
       "      <td>120.057000</td>\n",
       "      <td>0.417743</td>\n",
       "    </tr>\n",
       "    <tr>\n",
       "      <th>75%</th>\n",
       "      <td>45021.000000</td>\n",
       "      <td>9.207270e-01</td>\n",
       "      <td>0.629094</td>\n",
       "      <td>0.776254</td>\n",
       "      <td>0.918244</td>\n",
       "      <td>0.211041</td>\n",
       "      <td>0.085452</td>\n",
       "      <td>145.318000</td>\n",
       "      <td>0.665575</td>\n",
       "    </tr>\n",
       "    <tr>\n",
       "      <th>max</th>\n",
       "      <td>124911.000000</td>\n",
       "      <td>9.957965e-01</td>\n",
       "      <td>0.968645</td>\n",
       "      <td>0.999964</td>\n",
       "      <td>0.998016</td>\n",
       "      <td>0.980330</td>\n",
       "      <td>0.966177</td>\n",
       "      <td>251.072000</td>\n",
       "      <td>0.999990</td>\n",
       "    </tr>\n",
       "  </tbody>\n",
       "</table>\n",
       "</div>"
      ],
      "text/plain": [
       "            track_id  acousticness  danceability        energy  \\\n",
       "count   13129.000000  1.312900e+04  13129.000000  13129.000000   \n",
       "mean    34031.058268  5.246876e-01      0.487290      0.537516   \n",
       "std     28950.422182  3.837186e-01      0.190148      0.278049   \n",
       "min         2.000000  9.035000e-07      0.051307      0.000020   \n",
       "25%     12986.000000  1.037726e-01      0.344759      0.321300   \n",
       "50%     28097.000000  5.739848e-01      0.485635      0.549113   \n",
       "75%     45021.000000  9.207270e-01      0.629094      0.776254   \n",
       "max    124911.000000  9.957965e-01      0.968645      0.999964   \n",
       "\n",
       "       instrumentalness      liveness   speechiness         tempo  \\\n",
       "count      13129.000000  13129.000000  13129.000000  13129.000000   \n",
       "mean           0.640536      0.187804      0.099174    123.080061   \n",
       "std            0.361430      0.158051      0.137381     35.015137   \n",
       "min            0.000000      0.025297      0.022324     12.753000   \n",
       "25%            0.323466      0.101406      0.036932     95.967000   \n",
       "50%            0.838134      0.119002      0.049019    120.057000   \n",
       "75%            0.918244      0.211041      0.085452    145.318000   \n",
       "max            0.998016      0.980330      0.966177    251.072000   \n",
       "\n",
       "            valence  \n",
       "count  13129.000000  \n",
       "mean       0.439761  \n",
       "std        0.276028  \n",
       "min        0.000010  \n",
       "25%        0.197321  \n",
       "50%        0.417743  \n",
       "75%        0.665575  \n",
       "max        0.999990  "
      ]
     },
     "execution_count": 128,
     "metadata": {},
     "output_type": "execute_result"
    }
   ],
   "source": [
    "data_json.describe()"
   ]
  },
  {
   "cell_type": "code",
   "execution_count": 129,
   "metadata": {},
   "outputs": [
    {
     "data": {
      "text/plain": [
       "Rock       14182\n",
       "Hip-Hop     3552\n",
       "Name: genre_top, dtype: int64"
      ]
     },
     "execution_count": 129,
     "metadata": {},
     "output_type": "execute_result"
    }
   ],
   "source": [
    "data_csv.genre_top.value_counts()"
   ]
  },
  {
   "cell_type": "code",
   "execution_count": 130,
   "metadata": {},
   "outputs": [
    {
     "data": {
      "text/plain": [
       "Index(['track_id', 'bit_rate', 'comments', 'composer', 'date_created',\n",
       "       'date_recorded', 'duration', 'favorites', 'genre_top', 'genres',\n",
       "       'genres_all', 'information', 'interest', 'language_code', 'license',\n",
       "       'listens', 'lyricist', 'number', 'publisher', 'tags', 'title'],\n",
       "      dtype='object')"
      ]
     },
     "execution_count": 130,
     "metadata": {},
     "output_type": "execute_result"
    }
   ],
   "source": [
    "data_csv.columns"
   ]
  },
  {
   "cell_type": "code",
   "execution_count": 131,
   "metadata": {},
   "outputs": [
    {
     "data": {
      "text/plain": [
       "0    [58, 12, 45]\n",
       "1    [58, 12, 45]\n",
       "2        [25, 12]\n",
       "3        [25, 12]\n",
       "4        [26, 12]\n",
       "Name: genres_all, dtype: object"
      ]
     },
     "execution_count": 131,
     "metadata": {},
     "output_type": "execute_result"
    }
   ],
   "source": [
    "data_csv['genres_all'].head()"
   ]
  },
  {
   "cell_type": "code",
   "execution_count": 132,
   "metadata": {},
   "outputs": [
    {
     "data": {
      "text/plain": [
       "<p><a href=\"http://www.myspace.com/theshamblers\">The Shamblers</a> shambled down from Bay Ridge, Brooklyn to grace us with a live performance last Wednesday.&nbsp; Led by husband/wife team of Peter and Jess Speer, and ably augmented by drummer Ben Truesdale, the Shamblers brought their blend of Beat Happening/Home Blitz pop roughness plus classic garage punk action with lyrics to match.&nbsp; More info at <a href=\"http://www.colonialrecordingsusa.com/\">their label site</a> (where you can purchase their 100-song mp3 album) and <a href=\"http://theshamblers.blogspot.com/\">their blog</a>.&nbsp; The full set, plus two FCC-unfriendly bonus tracks found below.&nbsp; Engineered by Trent Wolbe.&nbsp; You've been shambled.</p>\\n<p><a href=\"http://blog.wfmu.org/freeform/2008/07/the-shamblers-l.html\" target=\"_blank\">http://blog.wfmu.org/freeform/2008/07/the-shamblers-l.html</a></p>\\n<p><a href=\"http://www.wfmu.org/playlists/shows/27951\" target=\"_blank\">http://www.wfmu.org/playlists/shows/27951</a></p>                                                                                                                                                                                                                                                                                                                                                                                                                                                                                                                                                                                                                                                                                                                                                                                                                                                                                                                                                                                                                                                                                                                                                                                                                                                                                                                                                                                                                                                                                                                                                                                                            22\n",
       "<p><em>by Brian Turner via <a href=\"http://blog.wfmu.org/freeform/2008/05/negative-approa.html\" target=\"_blank\">WFMU's Beware of the Blog!</a></em></p>\\n<p>Back in the late 80's I walked into the Ritz in the middle of the Laughing Hyenas and watched in disbelief while singer John Brannon churned out one hell of a gutteral yowl for the duration of a whole set in almost inhuman fashion. The Hyenas channelled extreme rage through total Stooge/primal Alice Cooper mode with a somewhat bluesy Birthday Party swagger, and eventually I learned he fronted Detroit's hardcore godfathers <a href=\"http://www.myspace.com/negativeapproach\">Negative Approach</a> in the early part of that decade. Later it all came into focus: NA were very much first-wave and represented Detroit as one of the pockets dotted around the USA (see Black Flag, Minor Threat, Bad Brains), with Brannon &amp; company consolidating the midwest brotherhood with the Necros and Meatmen and eventually moving into early singles via Corey Rusk's Touch and Go label (originally a zine, where yes, people learned of the underground way before the internet). As far as first-wave HC goes, Negative Approach were among the most vicious feedback-pummel units going. Songs careened by in seconds, were pretty much politics-free, focusing on sheer vocal/instrumental destruction. They were inspired by not only their American peers, but UK groundbreakers like Discharge (who, like, NA, were big Stooges fans). In 2006 they returned to the stage at the Touch and Go label anniversary, with Brannon and original drummer Chris Moore augmented by Ron Sakowski on bass and Harold Richardson on guitar, reportedly wiped the place down. On the day of their recent Southpaw show, they amazingly agreed in a day's notice to come down to <a href=\"http://www.wfmu.org/playlists/BT\">my show on FMU</a>, plugged in and turned us to mush with 16 songs in 25 minutes.</p>\\n<p>Negative Approach live on WFMU 5/14/08 (broadcast 5/27). Host: Brian Turner, engineer: Richard Rusinkovich (edited-for-FCC version appeared over air). Co-interviewer: Tony Rettman. Ken Freedman shot video of \"Hypocrite\" and \"Dead Stop\".</p>\\n<p>Set list: Lost Cause / Can't Tell No One / Sick of Talk / Hypocrite / Dead Stop / Whatever I Do / Tied Down / Evacuate / Your Mistake / Why Be Something That You're Not / Pressure / Fair Warning / Nothing / Borstal Breakout (Sham 69) / Never Surrender (Blitz) /Solitary Confinement.</p>\\n<p>http://www.wfmu.org/playlists/shows/27384</p>\\n<p>Engineered by Richard Rusincovitch<br /></p>    18\n",
       "<p>Bloomfield, New Jersey's very own SUX stops by the WFMU studios for a live set of some blistering hardcore on Pat Duncan's Show, April 25, 2008.</p>\\n<p>Engineered by James Theesfeld.</p>\\n<p><a href=\"http://www.wfmu.org/playlists/shows/27030\" target=\"_blank\">http://www.wfmu.org/playlists/shows/27030</a></p>                                                                                                                                                                                                                                                                                                                                                                                                                                                                                                                                                                                                                                                                                                                                                                                                                                                                                                                                                                                                                                                                                                                                                                                                                                                                                                                                                                                                                                                                                                                                                                                                                                                                                                                                                                                                                                                                                                                                                                                                                                                                                                                                                                                                                                                                                                                                14\n",
       "<p><span style=\"font-family: Verdana,Geneva,Arial; font-size: xx-small;\">http://wfmu.org/playlists/shows/29505 <br /></span></p>                                                                                                                                                                                                                                                                                                                                                                                                                                                                                                                                                                                                                                                                                                                                                                                                                                                                                                                                                                                                                                                                                                                                                                                                                                                                                                                                                                                                                                                                                                                                                                                                                                                                                                                                                                                                                                                                                                                                                                                                                                                                                                                                                                                                                                                                                                                                                                                                                                                                                                                        13\n",
       "<p><span>B.R. Wallers of Britain's legendary Country Teasers has recorded 28 albums on his own as The Rebel. Backed up by three other Teasers, he performs for you today on Brian's show. Says Wallers: \"Country Teasers was a manner and a style, created to execute a disciplined programme against a perceived problem in music and politics; The Rebel is pure music and word. Did you like The Residents but wished the verses weren't always the same scan/rhyme pattern? Do you like the way The Shadow Ring disobey all rules but still produce beauty and real emotion? Tune in, because at least you'll find these problems solved for you, if not your dismay with all music.\" More info at the Rebel's <a href=\"http://www.therebel.co.uk/\">site</a>. The Rebel is: B.R. Wallers: vocals, guitar, synthesizer, keyboard, Sophie Politowicz: the drums, Alastair MacKinven: bass, Robert McNeill: synthesizer, tapes, percussion. Songs: Kissing and Touching the Void Hem of the Cloth/Fuck Syngenta * Bums On a Rock * Kneel, Mulholland: Drive! * Iran's Nuclear Threat * Path To the Lair * Tammy Wynette (You're Just Like) * Scarlett Johansen Conceiving the Design * Why Must I Pay? * Civilian Life * Turtle V. Octopus * Life Is a Rehearsal *</span></p>\\n<p>Engineered by Glenn Luttman</p>\\n<p><a href=\"http://www.wfmu.org/playlists/shows/26706\" target=\"_blank\">http://www.wfmu.org/playlists/shows/26706</a></p>                                                                                                                                                                                                                                                                                                                                                                                                                                                                                                                                                                                                                                                                                                                                                                                                                                                                                                                                                                                                                                                                                                                                                                                                            12\n",
       "                                                                                                                                                                                                                                                                                                                                                                                                                                                                                                                                                                                                                                                                                                                                                                                                                                                                                                                                                                                                                                                                                                                                                                                                                                                                                                                                                                                                                                                                                                                                                                                                                                                                                                                                                                                                                                                                                                                                                                                                                                                                                                                                                                                                                                                                                                                                                                                                                                                                                                                                                                                                                                                        ..\n",
       "<p>Cover art: \\n\\n\\n\\n\\n</p><div class=\"smalltext-cover\">\\n\\n<p><a href=\"http://commons.wikimedia.org/wiki/File:Shalako_011a.jpg\" target=\"_blank\">Dick Dean, July 1, 1969. Source: Dean Family Archive.</a><br /></p><p>For liner notes about the making of Dunebuggy see:</p><p><a target=\"_blank\" title=\"Dunebuggy at Workbench Recordings\" href=\"http://workbenchrecordings.com/posts/marvelry-skimmer-dunebuggy-wbr-39.html\">http://workbenchrecordings.com/posts/marvelry-skimmer-dunebuggy-wbr-39.html</a><br /></p>\\n\\n\\n</div>                                                                                                                                                                                                                                                                                                                                                                                                                                                                                                                                                                                                                                                                                                                                                                                                                                                                                                                                                                                                                                                                                                                                                                                                                                                                                                                                                                                                                                                                                                                                                                                                                                                                                                                                                                                                                                                                                                                                                                                                                                                                                                                   1\n",
       "<p>Although recorded in 1988, <strong>\"That River\"</strong> was included on two 90s UK compilation albums (both on <strong><a title=\"Delerium\" href=\"http://www.delerium.co.uk/delerium/dlrm_net.html\">Delerium</a></strong>): the 2LP version of <em><strong>A Psychedelic Psauna</strong></em> (1991) and on the CD version of <em><strong>Fun With Mushrooms</strong></em> (1992).</p>                                                                                                                                                                                                                                                                                                                                                                                                                                                                                                                                                                                                                                                                                                                                                                                                                                                                                                                                                                                                                                                                                                                                                                                                                                                                                                                                                                                                                                                                                                                                                                                                                                                                                                                                                                                                                                                                                                                                                                                                                                                                                                                                                                                                                                                                1\n",
       "<div>Astronaut is a song about not being able to turn back. Living with decisions that have been made and moving forward. A person stuck in a place only they can manage. </div><div><br></div><div>It was based on a loop the found on freesound.org - “Flower loop 80 bpm 2” by Jovica </div><div><br></div><div>Instrumentation includes bass mandolin, organ sound fonts, electronic and acoustic drums, with vocals sung into a harmonica microphone. </div><div><br></div><div>A single by the band Rom Com released under creative commons BY-SA license. Free to use, remix, build upon or use for video, as long as you attribute us as the original artist and share under the same license. </div><div><br></div><div>Download the stems for this song on BitTorrent Now - <a data-mce-href=\"/manage/artists/edit/goo.gl/9F3XPt\" href=\"/manage/artists/edit/goo.gl/9F3XPt\" target=\"_blank\">goo.gl/9F3XPt</a></div><div><br></div><div><strong>lyrics</strong></div><div>I bet it all </div><div>In just one breath </div><div>Stood on floors </div><div>In open doors </div><div>Took, took, took it back </div><div>Everytime </div><div>When I was caught, at the end of the line </div><div><br></div><div>Won't be easy </div><div>Far from what you know </div><div>Could get hurt </div><div>Could be, oh no </div><div>Won't be easy </div><div>Far from what you know </div><div>Could get hurt </div><div>Could be, oh no </div><div><br></div><div>Eyes go crazy </div><div>Hands get shaky </div><div>He bit the moon with alcohol and hit the wall </div><div>It was such a fall </div><div>In a cloud of dust </div><div>A complicated man, who just died simply </div><div><br></div><div>Won't be easy </div><div>Far from what you know </div><div>Could get hurt </div><div>Could be, oh no </div><div>Won't be easy </div><div>Far from what you know </div><div>Could get hurt </div><div>Could be, oh no</div>                                                                                                                                                                                                                                                                                                                                                                                                                                                                                                                                                                                                                                                                                                           1\n",
       "<p>1) X-BREED - \"Marlene\" (Altice) \\nRecorded in May, 1975.\\nSteve Riddle - Guitar\\nBill Murray - Electric Piano\\nFrank Daniel - Bass &amp; Vocal Richard \"Buck\" Buchanan - Guitar Effect Dennis Madigan - Drums\\nMichael Maurice Garrett - Tenor Sax &amp; Vocal</p>                                                                                                                                                                                                                                                                                                                                                                                                                                                                                                                                                                                                                                                                                                                                                                                                                                                                                                                                                                                                                                                                                                                                                                                                                                                                                                                                                                                                                                                                                                                                                                                                                                                                                                                                                                                                                                                                                                                                                                                                                                                                                                                                                                                                                                                                                                                                                                                    1\n",
       "<p><strong>Mestizo</strong> - vocals / MC   <strong>Gabe Noel</strong> - bass / drums / programming</p>                                                                                                                                                                                                                                                                                                                                                                                                                                                                                                                                                                                                                                                                                                                                                                                                                                                                                                                                                                                                                                                                                                                                                                                                                                                                                                                                                                                                                                                                                                                                                                                                                                                                                                                                                                                                                                                                                                                                                                                                                                                                                                                                                                                                                                                                                                                                                                                                                                                                                                                                                  1\n",
       "Name: information, Length: 110, dtype: int64"
      ]
     },
     "execution_count": 132,
     "metadata": {},
     "output_type": "execute_result"
    }
   ],
   "source": [
    "data_csv.information.value_counts()"
   ]
  },
  {
   "cell_type": "code",
   "execution_count": 133,
   "metadata": {},
   "outputs": [
    {
     "data": {
      "text/plain": [
       "[]                                                                                                                                                                                                                                                                                                                                                                                                                                                                                                                                                15579\n",
       "['new zealand']                                                                                                                                                                                                                                                                                                                                                                                                                                                                                                                                      66\n",
       "['hip-hop']                                                                                                                                                                                                                                                                                                                                                                                                                                                                                                                                          30\n",
       "['horror', 'halloween']                                                                                                                                                                                                                                                                                                                                                                                                                                                                                                                              30\n",
       "['era 1']                                                                                                                                                                                                                                                                                                                                                                                                                                                                                                                                            27\n",
       "                                                                                                                                                                                                                                                                                                                                                                                                                                                                                                                                                  ...  \n",
       "['radon']                                                                                                                                                                                                                                                                                                                                                                                                                                                                                                                                             1\n",
       "['instrumental trap beat', 'love', 'instrumental trap hip hop', 'instrumental trap beats', 'free trap beat hard', 'free instrumentals no tags', 'fleslit', 'love in the sky', 'instrumental trap music', 'free trap beat instrumental 2017', 'free trap beat no copyright', 'free instrumentals beats', 'instrumental', 'sky', 'instrumental trap rap', 'instrumental trap dark', 'free trap beat 2017', 'free trap beat', 'free instrumental trap beat', 'free instrumental trap 2017', 'free instrumental trap', 'free instrumental to use']        1\n",
       "['experimental', 'miloslav kollar', 'lucas perny', 'slovak', 'psychadelic', 'world music', 'drumndrone', 'folk']                                                                                                                                                                                                                                                                                                                                                                                                                                      1\n",
       "['compilation', 'lounge', 'pop', 'classical', 'noise', 'singer-songwriter', 'jazz', 'rock', 'experimental']                                                                                                                                                                                                                                                                                                                                                                                                                                           1\n",
       "['tracks to sync', 'betterwithmusic', 'instrumental', 'pop', 'alt rock', 'powerpop']                                                                                                                                                                                                                                                                                                                                                                                                                                                                  1\n",
       "Name: tags, Length: 282, dtype: int64"
      ]
     },
     "execution_count": 133,
     "metadata": {},
     "output_type": "execute_result"
    }
   ],
   "source": [
    "data_csv.tags.value_counts()"
   ]
  },
  {
   "cell_type": "code",
   "execution_count": 134,
   "metadata": {},
   "outputs": [],
   "source": [
    "data = data_json.merge(data_csv[['track_id','genre_top']],on='track_id')"
   ]
  },
  {
   "cell_type": "code",
   "execution_count": 135,
   "metadata": {},
   "outputs": [
    {
     "data": {
      "text/html": [
       "<div>\n",
       "<style scoped>\n",
       "    .dataframe tbody tr th:only-of-type {\n",
       "        vertical-align: middle;\n",
       "    }\n",
       "\n",
       "    .dataframe tbody tr th {\n",
       "        vertical-align: top;\n",
       "    }\n",
       "\n",
       "    .dataframe thead th {\n",
       "        text-align: right;\n",
       "    }\n",
       "</style>\n",
       "<table border=\"1\" class=\"dataframe\">\n",
       "  <thead>\n",
       "    <tr style=\"text-align: right;\">\n",
       "      <th></th>\n",
       "      <th>track_id</th>\n",
       "      <th>acousticness</th>\n",
       "      <th>danceability</th>\n",
       "      <th>energy</th>\n",
       "      <th>instrumentalness</th>\n",
       "      <th>liveness</th>\n",
       "      <th>speechiness</th>\n",
       "      <th>tempo</th>\n",
       "      <th>valence</th>\n",
       "      <th>genre_top</th>\n",
       "    </tr>\n",
       "  </thead>\n",
       "  <tbody>\n",
       "    <tr>\n",
       "      <th>0</th>\n",
       "      <td>2</td>\n",
       "      <td>0.416675</td>\n",
       "      <td>0.675894</td>\n",
       "      <td>0.634476</td>\n",
       "      <td>0.010628</td>\n",
       "      <td>0.177647</td>\n",
       "      <td>0.159310</td>\n",
       "      <td>165.922</td>\n",
       "      <td>0.576661</td>\n",
       "      <td>Hip-Hop</td>\n",
       "    </tr>\n",
       "    <tr>\n",
       "      <th>1</th>\n",
       "      <td>3</td>\n",
       "      <td>0.374408</td>\n",
       "      <td>0.528643</td>\n",
       "      <td>0.817461</td>\n",
       "      <td>0.001851</td>\n",
       "      <td>0.105880</td>\n",
       "      <td>0.461818</td>\n",
       "      <td>126.957</td>\n",
       "      <td>0.269240</td>\n",
       "      <td>Hip-Hop</td>\n",
       "    </tr>\n",
       "    <tr>\n",
       "      <th>2</th>\n",
       "      <td>5</td>\n",
       "      <td>0.043567</td>\n",
       "      <td>0.745566</td>\n",
       "      <td>0.701470</td>\n",
       "      <td>0.000697</td>\n",
       "      <td>0.373143</td>\n",
       "      <td>0.124595</td>\n",
       "      <td>100.260</td>\n",
       "      <td>0.621661</td>\n",
       "      <td>Hip-Hop</td>\n",
       "    </tr>\n",
       "    <tr>\n",
       "      <th>3</th>\n",
       "      <td>134</td>\n",
       "      <td>0.452217</td>\n",
       "      <td>0.513238</td>\n",
       "      <td>0.560410</td>\n",
       "      <td>0.019443</td>\n",
       "      <td>0.096567</td>\n",
       "      <td>0.525519</td>\n",
       "      <td>114.290</td>\n",
       "      <td>0.894072</td>\n",
       "      <td>Hip-Hop</td>\n",
       "    </tr>\n",
       "    <tr>\n",
       "      <th>4</th>\n",
       "      <td>153</td>\n",
       "      <td>0.988306</td>\n",
       "      <td>0.255661</td>\n",
       "      <td>0.979774</td>\n",
       "      <td>0.973006</td>\n",
       "      <td>0.121342</td>\n",
       "      <td>0.051740</td>\n",
       "      <td>90.241</td>\n",
       "      <td>0.034018</td>\n",
       "      <td>Rock</td>\n",
       "    </tr>\n",
       "  </tbody>\n",
       "</table>\n",
       "</div>"
      ],
      "text/plain": [
       "   track_id  acousticness  danceability    energy  instrumentalness  liveness  \\\n",
       "0         2      0.416675      0.675894  0.634476          0.010628  0.177647   \n",
       "1         3      0.374408      0.528643  0.817461          0.001851  0.105880   \n",
       "2         5      0.043567      0.745566  0.701470          0.000697  0.373143   \n",
       "3       134      0.452217      0.513238  0.560410          0.019443  0.096567   \n",
       "4       153      0.988306      0.255661  0.979774          0.973006  0.121342   \n",
       "\n",
       "   speechiness    tempo   valence genre_top  \n",
       "0     0.159310  165.922  0.576661   Hip-Hop  \n",
       "1     0.461818  126.957  0.269240   Hip-Hop  \n",
       "2     0.124595  100.260  0.621661   Hip-Hop  \n",
       "3     0.525519  114.290  0.894072   Hip-Hop  \n",
       "4     0.051740   90.241  0.034018      Rock  "
      ]
     },
     "metadata": {},
     "output_type": "display_data"
    }
   ],
   "source": [
    "display(data.head())"
   ]
  },
  {
   "cell_type": "code",
   "execution_count": 136,
   "metadata": {},
   "outputs": [
    {
     "name": "stdout",
     "output_type": "stream",
     "text": [
      "                  track_id  acousticness  danceability    energy  \\\n",
      "track_id          1.000000     -0.372282      0.049454  0.140703   \n",
      "acousticness     -0.372282      1.000000     -0.028954 -0.281619   \n",
      "danceability      0.049454     -0.028954      1.000000 -0.242032   \n",
      "energy            0.140703     -0.281619     -0.242032  1.000000   \n",
      "instrumentalness -0.275623      0.194780     -0.255217  0.028238   \n",
      "liveness          0.048231     -0.019991     -0.106584  0.113331   \n",
      "speechiness      -0.026995      0.072204      0.276206 -0.109983   \n",
      "tempo            -0.025392     -0.026310     -0.242089  0.195227   \n",
      "valence           0.010070     -0.013841      0.473165  0.038603   \n",
      "\n",
      "                  instrumentalness  liveness  speechiness     tempo   valence  \n",
      "track_id                 -0.275623  0.048231    -0.026995 -0.025392  0.010070  \n",
      "acousticness              0.194780 -0.019991     0.072204 -0.026310 -0.013841  \n",
      "danceability             -0.255217 -0.106584     0.276206 -0.242089  0.473165  \n",
      "energy                    0.028238  0.113331    -0.109983  0.195227  0.038603  \n",
      "instrumentalness          1.000000 -0.091022    -0.366762  0.022215 -0.219967  \n",
      "liveness                 -0.091022  1.000000     0.041173  0.002732 -0.045093  \n",
      "speechiness              -0.366762  0.041173     1.000000  0.008241  0.149894  \n",
      "tempo                     0.022215  0.002732     0.008241  1.000000  0.052221  \n",
      "valence                  -0.219967 -0.045093     0.149894  0.052221  1.000000  \n"
     ]
    }
   ],
   "source": [
    "correlation_matric = data.corr()\n",
    "print(correlation_matric)"
   ]
  },
  {
   "cell_type": "code",
   "execution_count": 139,
   "metadata": {},
   "outputs": [
    {
     "data": {
      "text/html": [
       "<style  type=\"text/css\" >\n",
       "    #T_0163ebb6_7225_11ea_b13c_f0038c922a4arow0_col0 {\n",
       "            background-color:  #023858;\n",
       "            color:  #f1f1f1;\n",
       "        }    #T_0163ebb6_7225_11ea_b13c_f0038c922a4arow0_col1 {\n",
       "            background-color:  #fff7fb;\n",
       "            color:  #000000;\n",
       "        }    #T_0163ebb6_7225_11ea_b13c_f0038c922a4arow0_col2 {\n",
       "            background-color:  #d2d2e7;\n",
       "            color:  #000000;\n",
       "        }    #T_0163ebb6_7225_11ea_b13c_f0038c922a4arow0_col3 {\n",
       "            background-color:  #b5c4df;\n",
       "            color:  #000000;\n",
       "        }    #T_0163ebb6_7225_11ea_b13c_f0038c922a4arow0_col4 {\n",
       "            background-color:  #f5eef6;\n",
       "            color:  #000000;\n",
       "        }    #T_0163ebb6_7225_11ea_b13c_f0038c922a4arow0_col5 {\n",
       "            background-color:  #e9e5f1;\n",
       "            color:  #000000;\n",
       "        }    #T_0163ebb6_7225_11ea_b13c_f0038c922a4arow0_col6 {\n",
       "            background-color:  #d1d2e6;\n",
       "            color:  #000000;\n",
       "        }    #T_0163ebb6_7225_11ea_b13c_f0038c922a4arow0_col7 {\n",
       "            background-color:  #e1dfed;\n",
       "            color:  #000000;\n",
       "        }    #T_0163ebb6_7225_11ea_b13c_f0038c922a4arow0_col8 {\n",
       "            background-color:  #dedcec;\n",
       "            color:  #000000;\n",
       "        }    #T_0163ebb6_7225_11ea_b13c_f0038c922a4arow1_col0 {\n",
       "            background-color:  #fff7fb;\n",
       "            color:  #000000;\n",
       "        }    #T_0163ebb6_7225_11ea_b13c_f0038c922a4arow1_col1 {\n",
       "            background-color:  #023858;\n",
       "            color:  #f1f1f1;\n",
       "        }    #T_0163ebb6_7225_11ea_b13c_f0038c922a4arow1_col2 {\n",
       "            background-color:  #e0dded;\n",
       "            color:  #000000;\n",
       "        }    #T_0163ebb6_7225_11ea_b13c_f0038c922a4arow1_col3 {\n",
       "            background-color:  #fff7fb;\n",
       "            color:  #000000;\n",
       "        }    #T_0163ebb6_7225_11ea_b13c_f0038c922a4arow1_col4 {\n",
       "            background-color:  #97b7d7;\n",
       "            color:  #000000;\n",
       "        }    #T_0163ebb6_7225_11ea_b13c_f0038c922a4arow1_col5 {\n",
       "            background-color:  #f3edf5;\n",
       "            color:  #000000;\n",
       "        }    #T_0163ebb6_7225_11ea_b13c_f0038c922a4arow1_col6 {\n",
       "            background-color:  #b8c6e0;\n",
       "            color:  #000000;\n",
       "        }    #T_0163ebb6_7225_11ea_b13c_f0038c922a4arow1_col7 {\n",
       "            background-color:  #e1dfed;\n",
       "            color:  #000000;\n",
       "        }    #T_0163ebb6_7225_11ea_b13c_f0038c922a4arow1_col8 {\n",
       "            background-color:  #e2dfee;\n",
       "            color:  #000000;\n",
       "        }    #T_0163ebb6_7225_11ea_b13c_f0038c922a4arow2_col0 {\n",
       "            background-color:  #bdc8e1;\n",
       "            color:  #000000;\n",
       "        }    #T_0163ebb6_7225_11ea_b13c_f0038c922a4arow2_col1 {\n",
       "            background-color:  #d0d1e6;\n",
       "            color:  #000000;\n",
       "        }    #T_0163ebb6_7225_11ea_b13c_f0038c922a4arow2_col2 {\n",
       "            background-color:  #023858;\n",
       "            color:  #f1f1f1;\n",
       "        }    #T_0163ebb6_7225_11ea_b13c_f0038c922a4arow2_col3 {\n",
       "            background-color:  #fbf3f9;\n",
       "            color:  #000000;\n",
       "        }    #T_0163ebb6_7225_11ea_b13c_f0038c922a4arow2_col4 {\n",
       "            background-color:  #f3edf5;\n",
       "            color:  #000000;\n",
       "        }    #T_0163ebb6_7225_11ea_b13c_f0038c922a4arow2_col5 {\n",
       "            background-color:  #fff7fb;\n",
       "            color:  #000000;\n",
       "        }    #T_0163ebb6_7225_11ea_b13c_f0038c922a4arow2_col6 {\n",
       "            background-color:  #80aed2;\n",
       "            color:  #000000;\n",
       "        }    #T_0163ebb6_7225_11ea_b13c_f0038c922a4arow2_col7 {\n",
       "            background-color:  #fff7fb;\n",
       "            color:  #000000;\n",
       "        }    #T_0163ebb6_7225_11ea_b13c_f0038c922a4arow2_col8 {\n",
       "            background-color:  #529bc7;\n",
       "            color:  #000000;\n",
       "        }    #T_0163ebb6_7225_11ea_b13c_f0038c922a4arow3_col0 {\n",
       "            background-color:  #a7bddb;\n",
       "            color:  #000000;\n",
       "        }    #T_0163ebb6_7225_11ea_b13c_f0038c922a4arow3_col1 {\n",
       "            background-color:  #f5eff6;\n",
       "            color:  #000000;\n",
       "        }    #T_0163ebb6_7225_11ea_b13c_f0038c922a4arow3_col2 {\n",
       "            background-color:  #fef6fa;\n",
       "            color:  #000000;\n",
       "        }    #T_0163ebb6_7225_11ea_b13c_f0038c922a4arow3_col3 {\n",
       "            background-color:  #023858;\n",
       "            color:  #f1f1f1;\n",
       "        }    #T_0163ebb6_7225_11ea_b13c_f0038c922a4arow3_col4 {\n",
       "            background-color:  #c4cbe3;\n",
       "            color:  #000000;\n",
       "        }    #T_0163ebb6_7225_11ea_b13c_f0038c922a4arow3_col5 {\n",
       "            background-color:  #dcdaeb;\n",
       "            color:  #000000;\n",
       "        }    #T_0163ebb6_7225_11ea_b13c_f0038c922a4arow3_col6 {\n",
       "            background-color:  #dedcec;\n",
       "            color:  #000000;\n",
       "        }    #T_0163ebb6_7225_11ea_b13c_f0038c922a4arow3_col7 {\n",
       "            background-color:  #adc1dd;\n",
       "            color:  #000000;\n",
       "        }    #T_0163ebb6_7225_11ea_b13c_f0038c922a4arow3_col8 {\n",
       "            background-color:  #d9d8ea;\n",
       "            color:  #000000;\n",
       "        }    #T_0163ebb6_7225_11ea_b13c_f0038c922a4arow4_col0 {\n",
       "            background-color:  #f4eef6;\n",
       "            color:  #000000;\n",
       "        }    #T_0163ebb6_7225_11ea_b13c_f0038c922a4arow4_col1 {\n",
       "            background-color:  #97b7d7;\n",
       "            color:  #000000;\n",
       "        }    #T_0163ebb6_7225_11ea_b13c_f0038c922a4arow4_col2 {\n",
       "            background-color:  #fff7fb;\n",
       "            color:  #000000;\n",
       "        }    #T_0163ebb6_7225_11ea_b13c_f0038c922a4arow4_col3 {\n",
       "            background-color:  #d2d3e7;\n",
       "            color:  #000000;\n",
       "        }    #T_0163ebb6_7225_11ea_b13c_f0038c922a4arow4_col4 {\n",
       "            background-color:  #023858;\n",
       "            color:  #f1f1f1;\n",
       "        }    #T_0163ebb6_7225_11ea_b13c_f0038c922a4arow4_col5 {\n",
       "            background-color:  #fdf5fa;\n",
       "            color:  #000000;\n",
       "        }    #T_0163ebb6_7225_11ea_b13c_f0038c922a4arow4_col6 {\n",
       "            background-color:  #fff7fb;\n",
       "            color:  #000000;\n",
       "        }    #T_0163ebb6_7225_11ea_b13c_f0038c922a4arow4_col7 {\n",
       "            background-color:  #d9d8ea;\n",
       "            color:  #000000;\n",
       "        }    #T_0163ebb6_7225_11ea_b13c_f0038c922a4arow4_col8 {\n",
       "            background-color:  #fff7fb;\n",
       "            color:  #000000;\n",
       "        }    #T_0163ebb6_7225_11ea_b13c_f0038c922a4arow5_col0 {\n",
       "            background-color:  #bdc8e1;\n",
       "            color:  #000000;\n",
       "        }    #T_0163ebb6_7225_11ea_b13c_f0038c922a4arow5_col1 {\n",
       "            background-color:  #ced0e6;\n",
       "            color:  #000000;\n",
       "        }    #T_0163ebb6_7225_11ea_b13c_f0038c922a4arow5_col2 {\n",
       "            background-color:  #ede8f3;\n",
       "            color:  #000000;\n",
       "        }    #T_0163ebb6_7225_11ea_b13c_f0038c922a4arow5_col3 {\n",
       "            background-color:  #bdc8e1;\n",
       "            color:  #000000;\n",
       "        }    #T_0163ebb6_7225_11ea_b13c_f0038c922a4arow5_col4 {\n",
       "            background-color:  #dbdaeb;\n",
       "            color:  #000000;\n",
       "        }    #T_0163ebb6_7225_11ea_b13c_f0038c922a4arow5_col5 {\n",
       "            background-color:  #023858;\n",
       "            color:  #f1f1f1;\n",
       "        }    #T_0163ebb6_7225_11ea_b13c_f0038c922a4arow5_col6 {\n",
       "            background-color:  #c0c9e2;\n",
       "            color:  #000000;\n",
       "        }    #T_0163ebb6_7225_11ea_b13c_f0038c922a4arow5_col7 {\n",
       "            background-color:  #dcdaeb;\n",
       "            color:  #000000;\n",
       "        }    #T_0163ebb6_7225_11ea_b13c_f0038c922a4arow5_col8 {\n",
       "            background-color:  #e8e4f0;\n",
       "            color:  #000000;\n",
       "        }    #T_0163ebb6_7225_11ea_b13c_f0038c922a4arow6_col0 {\n",
       "            background-color:  #d0d1e6;\n",
       "            color:  #000000;\n",
       "        }    #T_0163ebb6_7225_11ea_b13c_f0038c922a4arow6_col1 {\n",
       "            background-color:  #b8c6e0;\n",
       "            color:  #000000;\n",
       "        }    #T_0163ebb6_7225_11ea_b13c_f0038c922a4arow6_col2 {\n",
       "            background-color:  #93b5d6;\n",
       "            color:  #000000;\n",
       "        }    #T_0163ebb6_7225_11ea_b13c_f0038c922a4arow6_col3 {\n",
       "            background-color:  #eae6f1;\n",
       "            color:  #000000;\n",
       "        }    #T_0163ebb6_7225_11ea_b13c_f0038c922a4arow6_col4 {\n",
       "            background-color:  #fff7fb;\n",
       "            color:  #000000;\n",
       "        }    #T_0163ebb6_7225_11ea_b13c_f0038c922a4arow6_col5 {\n",
       "            background-color:  #eae6f1;\n",
       "            color:  #000000;\n",
       "        }    #T_0163ebb6_7225_11ea_b13c_f0038c922a4arow6_col6 {\n",
       "            background-color:  #023858;\n",
       "            color:  #f1f1f1;\n",
       "        }    #T_0163ebb6_7225_11ea_b13c_f0038c922a4arow6_col7 {\n",
       "            background-color:  #dbdaeb;\n",
       "            color:  #000000;\n",
       "        }    #T_0163ebb6_7225_11ea_b13c_f0038c922a4arow6_col8 {\n",
       "            background-color:  #bfc9e1;\n",
       "            color:  #000000;\n",
       "        }    #T_0163ebb6_7225_11ea_b13c_f0038c922a4arow7_col0 {\n",
       "            background-color:  #d0d1e6;\n",
       "            color:  #000000;\n",
       "        }    #T_0163ebb6_7225_11ea_b13c_f0038c922a4arow7_col1 {\n",
       "            background-color:  #d0d1e6;\n",
       "            color:  #000000;\n",
       "        }    #T_0163ebb6_7225_11ea_b13c_f0038c922a4arow7_col2 {\n",
       "            background-color:  #fef6fa;\n",
       "            color:  #000000;\n",
       "        }    #T_0163ebb6_7225_11ea_b13c_f0038c922a4arow7_col3 {\n",
       "            background-color:  #a7bddb;\n",
       "            color:  #000000;\n",
       "        }    #T_0163ebb6_7225_11ea_b13c_f0038c922a4arow7_col4 {\n",
       "            background-color:  #c5cce3;\n",
       "            color:  #000000;\n",
       "        }    #T_0163ebb6_7225_11ea_b13c_f0038c922a4arow7_col5 {\n",
       "            background-color:  #f0eaf4;\n",
       "            color:  #000000;\n",
       "        }    #T_0163ebb6_7225_11ea_b13c_f0038c922a4arow7_col6 {\n",
       "            background-color:  #c8cde4;\n",
       "            color:  #000000;\n",
       "        }    #T_0163ebb6_7225_11ea_b13c_f0038c922a4arow7_col7 {\n",
       "            background-color:  #023858;\n",
       "            color:  #f1f1f1;\n",
       "        }    #T_0163ebb6_7225_11ea_b13c_f0038c922a4arow7_col8 {\n",
       "            background-color:  #d6d6e9;\n",
       "            color:  #000000;\n",
       "        }    #T_0163ebb6_7225_11ea_b13c_f0038c922a4arow8_col0 {\n",
       "            background-color:  #c6cce3;\n",
       "            color:  #000000;\n",
       "        }    #T_0163ebb6_7225_11ea_b13c_f0038c922a4arow8_col1 {\n",
       "            background-color:  #cdd0e5;\n",
       "            color:  #000000;\n",
       "        }    #T_0163ebb6_7225_11ea_b13c_f0038c922a4arow8_col2 {\n",
       "            background-color:  #4c99c5;\n",
       "            color:  #000000;\n",
       "        }    #T_0163ebb6_7225_11ea_b13c_f0038c922a4arow8_col3 {\n",
       "            background-color:  #d1d2e6;\n",
       "            color:  #000000;\n",
       "        }    #T_0163ebb6_7225_11ea_b13c_f0038c922a4arow8_col4 {\n",
       "            background-color:  #efe9f3;\n",
       "            color:  #000000;\n",
       "        }    #T_0163ebb6_7225_11ea_b13c_f0038c922a4arow8_col5 {\n",
       "            background-color:  #f7f0f7;\n",
       "            color:  #000000;\n",
       "        }    #T_0163ebb6_7225_11ea_b13c_f0038c922a4arow8_col6 {\n",
       "            background-color:  #a5bddb;\n",
       "            color:  #000000;\n",
       "        }    #T_0163ebb6_7225_11ea_b13c_f0038c922a4arow8_col7 {\n",
       "            background-color:  #d3d4e7;\n",
       "            color:  #000000;\n",
       "        }    #T_0163ebb6_7225_11ea_b13c_f0038c922a4arow8_col8 {\n",
       "            background-color:  #023858;\n",
       "            color:  #f1f1f1;\n",
       "        }</style><table id=\"T_0163ebb6_7225_11ea_b13c_f0038c922a4a\" ><thead>    <tr>        <th class=\"blank level0\" ></th>        <th class=\"col_heading level0 col0\" >track_id</th>        <th class=\"col_heading level0 col1\" >acousticness</th>        <th class=\"col_heading level0 col2\" >danceability</th>        <th class=\"col_heading level0 col3\" >energy</th>        <th class=\"col_heading level0 col4\" >instrumentalness</th>        <th class=\"col_heading level0 col5\" >liveness</th>        <th class=\"col_heading level0 col6\" >speechiness</th>        <th class=\"col_heading level0 col7\" >tempo</th>        <th class=\"col_heading level0 col8\" >valence</th>    </tr></thead><tbody>\n",
       "                <tr>\n",
       "                        <th id=\"T_0163ebb6_7225_11ea_b13c_f0038c922a4alevel0_row0\" class=\"row_heading level0 row0\" >track_id</th>\n",
       "                        <td id=\"T_0163ebb6_7225_11ea_b13c_f0038c922a4arow0_col0\" class=\"data row0 col0\" >1</td>\n",
       "                        <td id=\"T_0163ebb6_7225_11ea_b13c_f0038c922a4arow0_col1\" class=\"data row0 col1\" >-0.372282</td>\n",
       "                        <td id=\"T_0163ebb6_7225_11ea_b13c_f0038c922a4arow0_col2\" class=\"data row0 col2\" >0.0494541</td>\n",
       "                        <td id=\"T_0163ebb6_7225_11ea_b13c_f0038c922a4arow0_col3\" class=\"data row0 col3\" >0.140703</td>\n",
       "                        <td id=\"T_0163ebb6_7225_11ea_b13c_f0038c922a4arow0_col4\" class=\"data row0 col4\" >-0.275623</td>\n",
       "                        <td id=\"T_0163ebb6_7225_11ea_b13c_f0038c922a4arow0_col5\" class=\"data row0 col5\" >0.0482307</td>\n",
       "                        <td id=\"T_0163ebb6_7225_11ea_b13c_f0038c922a4arow0_col6\" class=\"data row0 col6\" >-0.0269951</td>\n",
       "                        <td id=\"T_0163ebb6_7225_11ea_b13c_f0038c922a4arow0_col7\" class=\"data row0 col7\" >-0.0253918</td>\n",
       "                        <td id=\"T_0163ebb6_7225_11ea_b13c_f0038c922a4arow0_col8\" class=\"data row0 col8\" >0.0100698</td>\n",
       "            </tr>\n",
       "            <tr>\n",
       "                        <th id=\"T_0163ebb6_7225_11ea_b13c_f0038c922a4alevel0_row1\" class=\"row_heading level0 row1\" >acousticness</th>\n",
       "                        <td id=\"T_0163ebb6_7225_11ea_b13c_f0038c922a4arow1_col0\" class=\"data row1 col0\" >-0.372282</td>\n",
       "                        <td id=\"T_0163ebb6_7225_11ea_b13c_f0038c922a4arow1_col1\" class=\"data row1 col1\" >1</td>\n",
       "                        <td id=\"T_0163ebb6_7225_11ea_b13c_f0038c922a4arow1_col2\" class=\"data row1 col2\" >-0.0289537</td>\n",
       "                        <td id=\"T_0163ebb6_7225_11ea_b13c_f0038c922a4arow1_col3\" class=\"data row1 col3\" >-0.281619</td>\n",
       "                        <td id=\"T_0163ebb6_7225_11ea_b13c_f0038c922a4arow1_col4\" class=\"data row1 col4\" >0.19478</td>\n",
       "                        <td id=\"T_0163ebb6_7225_11ea_b13c_f0038c922a4arow1_col5\" class=\"data row1 col5\" >-0.0199914</td>\n",
       "                        <td id=\"T_0163ebb6_7225_11ea_b13c_f0038c922a4arow1_col6\" class=\"data row1 col6\" >0.072204</td>\n",
       "                        <td id=\"T_0163ebb6_7225_11ea_b13c_f0038c922a4arow1_col7\" class=\"data row1 col7\" >-0.0263097</td>\n",
       "                        <td id=\"T_0163ebb6_7225_11ea_b13c_f0038c922a4arow1_col8\" class=\"data row1 col8\" >-0.0138406</td>\n",
       "            </tr>\n",
       "            <tr>\n",
       "                        <th id=\"T_0163ebb6_7225_11ea_b13c_f0038c922a4alevel0_row2\" class=\"row_heading level0 row2\" >danceability</th>\n",
       "                        <td id=\"T_0163ebb6_7225_11ea_b13c_f0038c922a4arow2_col0\" class=\"data row2 col0\" >0.0494541</td>\n",
       "                        <td id=\"T_0163ebb6_7225_11ea_b13c_f0038c922a4arow2_col1\" class=\"data row2 col1\" >-0.0289537</td>\n",
       "                        <td id=\"T_0163ebb6_7225_11ea_b13c_f0038c922a4arow2_col2\" class=\"data row2 col2\" >1</td>\n",
       "                        <td id=\"T_0163ebb6_7225_11ea_b13c_f0038c922a4arow2_col3\" class=\"data row2 col3\" >-0.242032</td>\n",
       "                        <td id=\"T_0163ebb6_7225_11ea_b13c_f0038c922a4arow2_col4\" class=\"data row2 col4\" >-0.255217</td>\n",
       "                        <td id=\"T_0163ebb6_7225_11ea_b13c_f0038c922a4arow2_col5\" class=\"data row2 col5\" >-0.106584</td>\n",
       "                        <td id=\"T_0163ebb6_7225_11ea_b13c_f0038c922a4arow2_col6\" class=\"data row2 col6\" >0.276206</td>\n",
       "                        <td id=\"T_0163ebb6_7225_11ea_b13c_f0038c922a4arow2_col7\" class=\"data row2 col7\" >-0.242089</td>\n",
       "                        <td id=\"T_0163ebb6_7225_11ea_b13c_f0038c922a4arow2_col8\" class=\"data row2 col8\" >0.473165</td>\n",
       "            </tr>\n",
       "            <tr>\n",
       "                        <th id=\"T_0163ebb6_7225_11ea_b13c_f0038c922a4alevel0_row3\" class=\"row_heading level0 row3\" >energy</th>\n",
       "                        <td id=\"T_0163ebb6_7225_11ea_b13c_f0038c922a4arow3_col0\" class=\"data row3 col0\" >0.140703</td>\n",
       "                        <td id=\"T_0163ebb6_7225_11ea_b13c_f0038c922a4arow3_col1\" class=\"data row3 col1\" >-0.281619</td>\n",
       "                        <td id=\"T_0163ebb6_7225_11ea_b13c_f0038c922a4arow3_col2\" class=\"data row3 col2\" >-0.242032</td>\n",
       "                        <td id=\"T_0163ebb6_7225_11ea_b13c_f0038c922a4arow3_col3\" class=\"data row3 col3\" >1</td>\n",
       "                        <td id=\"T_0163ebb6_7225_11ea_b13c_f0038c922a4arow3_col4\" class=\"data row3 col4\" >0.0282377</td>\n",
       "                        <td id=\"T_0163ebb6_7225_11ea_b13c_f0038c922a4arow3_col5\" class=\"data row3 col5\" >0.113331</td>\n",
       "                        <td id=\"T_0163ebb6_7225_11ea_b13c_f0038c922a4arow3_col6\" class=\"data row3 col6\" >-0.109983</td>\n",
       "                        <td id=\"T_0163ebb6_7225_11ea_b13c_f0038c922a4arow3_col7\" class=\"data row3 col7\" >0.195227</td>\n",
       "                        <td id=\"T_0163ebb6_7225_11ea_b13c_f0038c922a4arow3_col8\" class=\"data row3 col8\" >0.0386027</td>\n",
       "            </tr>\n",
       "            <tr>\n",
       "                        <th id=\"T_0163ebb6_7225_11ea_b13c_f0038c922a4alevel0_row4\" class=\"row_heading level0 row4\" >instrumentalness</th>\n",
       "                        <td id=\"T_0163ebb6_7225_11ea_b13c_f0038c922a4arow4_col0\" class=\"data row4 col0\" >-0.275623</td>\n",
       "                        <td id=\"T_0163ebb6_7225_11ea_b13c_f0038c922a4arow4_col1\" class=\"data row4 col1\" >0.19478</td>\n",
       "                        <td id=\"T_0163ebb6_7225_11ea_b13c_f0038c922a4arow4_col2\" class=\"data row4 col2\" >-0.255217</td>\n",
       "                        <td id=\"T_0163ebb6_7225_11ea_b13c_f0038c922a4arow4_col3\" class=\"data row4 col3\" >0.0282377</td>\n",
       "                        <td id=\"T_0163ebb6_7225_11ea_b13c_f0038c922a4arow4_col4\" class=\"data row4 col4\" >1</td>\n",
       "                        <td id=\"T_0163ebb6_7225_11ea_b13c_f0038c922a4arow4_col5\" class=\"data row4 col5\" >-0.0910218</td>\n",
       "                        <td id=\"T_0163ebb6_7225_11ea_b13c_f0038c922a4arow4_col6\" class=\"data row4 col6\" >-0.366762</td>\n",
       "                        <td id=\"T_0163ebb6_7225_11ea_b13c_f0038c922a4arow4_col7\" class=\"data row4 col7\" >0.022215</td>\n",
       "                        <td id=\"T_0163ebb6_7225_11ea_b13c_f0038c922a4arow4_col8\" class=\"data row4 col8\" >-0.219967</td>\n",
       "            </tr>\n",
       "            <tr>\n",
       "                        <th id=\"T_0163ebb6_7225_11ea_b13c_f0038c922a4alevel0_row5\" class=\"row_heading level0 row5\" >liveness</th>\n",
       "                        <td id=\"T_0163ebb6_7225_11ea_b13c_f0038c922a4arow5_col0\" class=\"data row5 col0\" >0.0482307</td>\n",
       "                        <td id=\"T_0163ebb6_7225_11ea_b13c_f0038c922a4arow5_col1\" class=\"data row5 col1\" >-0.0199914</td>\n",
       "                        <td id=\"T_0163ebb6_7225_11ea_b13c_f0038c922a4arow5_col2\" class=\"data row5 col2\" >-0.106584</td>\n",
       "                        <td id=\"T_0163ebb6_7225_11ea_b13c_f0038c922a4arow5_col3\" class=\"data row5 col3\" >0.113331</td>\n",
       "                        <td id=\"T_0163ebb6_7225_11ea_b13c_f0038c922a4arow5_col4\" class=\"data row5 col4\" >-0.0910218</td>\n",
       "                        <td id=\"T_0163ebb6_7225_11ea_b13c_f0038c922a4arow5_col5\" class=\"data row5 col5\" >1</td>\n",
       "                        <td id=\"T_0163ebb6_7225_11ea_b13c_f0038c922a4arow5_col6\" class=\"data row5 col6\" >0.0411725</td>\n",
       "                        <td id=\"T_0163ebb6_7225_11ea_b13c_f0038c922a4arow5_col7\" class=\"data row5 col7\" >0.00273169</td>\n",
       "                        <td id=\"T_0163ebb6_7225_11ea_b13c_f0038c922a4arow5_col8\" class=\"data row5 col8\" >-0.0450931</td>\n",
       "            </tr>\n",
       "            <tr>\n",
       "                        <th id=\"T_0163ebb6_7225_11ea_b13c_f0038c922a4alevel0_row6\" class=\"row_heading level0 row6\" >speechiness</th>\n",
       "                        <td id=\"T_0163ebb6_7225_11ea_b13c_f0038c922a4arow6_col0\" class=\"data row6 col0\" >-0.0269951</td>\n",
       "                        <td id=\"T_0163ebb6_7225_11ea_b13c_f0038c922a4arow6_col1\" class=\"data row6 col1\" >0.072204</td>\n",
       "                        <td id=\"T_0163ebb6_7225_11ea_b13c_f0038c922a4arow6_col2\" class=\"data row6 col2\" >0.276206</td>\n",
       "                        <td id=\"T_0163ebb6_7225_11ea_b13c_f0038c922a4arow6_col3\" class=\"data row6 col3\" >-0.109983</td>\n",
       "                        <td id=\"T_0163ebb6_7225_11ea_b13c_f0038c922a4arow6_col4\" class=\"data row6 col4\" >-0.366762</td>\n",
       "                        <td id=\"T_0163ebb6_7225_11ea_b13c_f0038c922a4arow6_col5\" class=\"data row6 col5\" >0.0411725</td>\n",
       "                        <td id=\"T_0163ebb6_7225_11ea_b13c_f0038c922a4arow6_col6\" class=\"data row6 col6\" >1</td>\n",
       "                        <td id=\"T_0163ebb6_7225_11ea_b13c_f0038c922a4arow6_col7\" class=\"data row6 col7\" >0.00824055</td>\n",
       "                        <td id=\"T_0163ebb6_7225_11ea_b13c_f0038c922a4arow6_col8\" class=\"data row6 col8\" >0.149894</td>\n",
       "            </tr>\n",
       "            <tr>\n",
       "                        <th id=\"T_0163ebb6_7225_11ea_b13c_f0038c922a4alevel0_row7\" class=\"row_heading level0 row7\" >tempo</th>\n",
       "                        <td id=\"T_0163ebb6_7225_11ea_b13c_f0038c922a4arow7_col0\" class=\"data row7 col0\" >-0.0253918</td>\n",
       "                        <td id=\"T_0163ebb6_7225_11ea_b13c_f0038c922a4arow7_col1\" class=\"data row7 col1\" >-0.0263097</td>\n",
       "                        <td id=\"T_0163ebb6_7225_11ea_b13c_f0038c922a4arow7_col2\" class=\"data row7 col2\" >-0.242089</td>\n",
       "                        <td id=\"T_0163ebb6_7225_11ea_b13c_f0038c922a4arow7_col3\" class=\"data row7 col3\" >0.195227</td>\n",
       "                        <td id=\"T_0163ebb6_7225_11ea_b13c_f0038c922a4arow7_col4\" class=\"data row7 col4\" >0.022215</td>\n",
       "                        <td id=\"T_0163ebb6_7225_11ea_b13c_f0038c922a4arow7_col5\" class=\"data row7 col5\" >0.00273169</td>\n",
       "                        <td id=\"T_0163ebb6_7225_11ea_b13c_f0038c922a4arow7_col6\" class=\"data row7 col6\" >0.00824055</td>\n",
       "                        <td id=\"T_0163ebb6_7225_11ea_b13c_f0038c922a4arow7_col7\" class=\"data row7 col7\" >1</td>\n",
       "                        <td id=\"T_0163ebb6_7225_11ea_b13c_f0038c922a4arow7_col8\" class=\"data row7 col8\" >0.0522212</td>\n",
       "            </tr>\n",
       "            <tr>\n",
       "                        <th id=\"T_0163ebb6_7225_11ea_b13c_f0038c922a4alevel0_row8\" class=\"row_heading level0 row8\" >valence</th>\n",
       "                        <td id=\"T_0163ebb6_7225_11ea_b13c_f0038c922a4arow8_col0\" class=\"data row8 col0\" >0.0100698</td>\n",
       "                        <td id=\"T_0163ebb6_7225_11ea_b13c_f0038c922a4arow8_col1\" class=\"data row8 col1\" >-0.0138406</td>\n",
       "                        <td id=\"T_0163ebb6_7225_11ea_b13c_f0038c922a4arow8_col2\" class=\"data row8 col2\" >0.473165</td>\n",
       "                        <td id=\"T_0163ebb6_7225_11ea_b13c_f0038c922a4arow8_col3\" class=\"data row8 col3\" >0.0386027</td>\n",
       "                        <td id=\"T_0163ebb6_7225_11ea_b13c_f0038c922a4arow8_col4\" class=\"data row8 col4\" >-0.219967</td>\n",
       "                        <td id=\"T_0163ebb6_7225_11ea_b13c_f0038c922a4arow8_col5\" class=\"data row8 col5\" >-0.0450931</td>\n",
       "                        <td id=\"T_0163ebb6_7225_11ea_b13c_f0038c922a4arow8_col6\" class=\"data row8 col6\" >0.149894</td>\n",
       "                        <td id=\"T_0163ebb6_7225_11ea_b13c_f0038c922a4arow8_col7\" class=\"data row8 col7\" >0.0522212</td>\n",
       "                        <td id=\"T_0163ebb6_7225_11ea_b13c_f0038c922a4arow8_col8\" class=\"data row8 col8\" >1</td>\n",
       "            </tr>\n",
       "    </tbody></table>"
      ],
      "text/plain": [
       "<pandas.io.formats.style.Styler at 0x234b80151c8>"
      ]
     },
     "execution_count": 139,
     "metadata": {},
     "output_type": "execute_result"
    }
   ],
   "source": [
    "correlation_matric.style.background_gradient()\n",
    "import seaborn as sns => sns.heatmap(data)"
   ]
  },
  {
   "cell_type": "code",
   "execution_count": 140,
   "metadata": {
    "scrolled": true
   },
   "outputs": [
    {
     "data": {
      "text/html": [
       "<div>\n",
       "<style scoped>\n",
       "    .dataframe tbody tr th:only-of-type {\n",
       "        vertical-align: middle;\n",
       "    }\n",
       "\n",
       "    .dataframe tbody tr th {\n",
       "        vertical-align: top;\n",
       "    }\n",
       "\n",
       "    .dataframe thead th {\n",
       "        text-align: right;\n",
       "    }\n",
       "</style>\n",
       "<table border=\"1\" class=\"dataframe\">\n",
       "  <thead>\n",
       "    <tr style=\"text-align: right;\">\n",
       "      <th></th>\n",
       "      <th>track_id</th>\n",
       "      <th>acousticness</th>\n",
       "      <th>danceability</th>\n",
       "      <th>energy</th>\n",
       "      <th>instrumentalness</th>\n",
       "      <th>liveness</th>\n",
       "      <th>speechiness</th>\n",
       "      <th>tempo</th>\n",
       "      <th>valence</th>\n",
       "    </tr>\n",
       "  </thead>\n",
       "  <tbody>\n",
       "    <tr>\n",
       "      <th>count</th>\n",
       "      <td>4802.000000</td>\n",
       "      <td>4.802000e+03</td>\n",
       "      <td>4802.000000</td>\n",
       "      <td>4802.000000</td>\n",
       "      <td>4802.000000</td>\n",
       "      <td>4802.000000</td>\n",
       "      <td>4802.000000</td>\n",
       "      <td>4802.000000</td>\n",
       "      <td>4802.000000</td>\n",
       "    </tr>\n",
       "    <tr>\n",
       "      <th>mean</th>\n",
       "      <td>30164.871720</td>\n",
       "      <td>4.870600e-01</td>\n",
       "      <td>0.436556</td>\n",
       "      <td>0.625126</td>\n",
       "      <td>0.604096</td>\n",
       "      <td>0.187997</td>\n",
       "      <td>0.104877</td>\n",
       "      <td>126.687944</td>\n",
       "      <td>0.453413</td>\n",
       "    </tr>\n",
       "    <tr>\n",
       "      <th>std</th>\n",
       "      <td>28592.013796</td>\n",
       "      <td>3.681396e-01</td>\n",
       "      <td>0.183502</td>\n",
       "      <td>0.244051</td>\n",
       "      <td>0.376487</td>\n",
       "      <td>0.150562</td>\n",
       "      <td>0.145934</td>\n",
       "      <td>34.002473</td>\n",
       "      <td>0.266632</td>\n",
       "    </tr>\n",
       "    <tr>\n",
       "      <th>min</th>\n",
       "      <td>2.000000</td>\n",
       "      <td>9.491000e-07</td>\n",
       "      <td>0.051307</td>\n",
       "      <td>0.000279</td>\n",
       "      <td>0.000000</td>\n",
       "      <td>0.025297</td>\n",
       "      <td>0.023234</td>\n",
       "      <td>29.093000</td>\n",
       "      <td>0.014392</td>\n",
       "    </tr>\n",
       "    <tr>\n",
       "      <th>25%</th>\n",
       "      <td>7494.250000</td>\n",
       "      <td>8.351236e-02</td>\n",
       "      <td>0.296047</td>\n",
       "      <td>0.450757</td>\n",
       "      <td>0.164972</td>\n",
       "      <td>0.104052</td>\n",
       "      <td>0.036897</td>\n",
       "      <td>98.000750</td>\n",
       "      <td>0.224617</td>\n",
       "    </tr>\n",
       "    <tr>\n",
       "      <th>50%</th>\n",
       "      <td>20723.500000</td>\n",
       "      <td>5.156888e-01</td>\n",
       "      <td>0.419447</td>\n",
       "      <td>0.648374</td>\n",
       "      <td>0.808752</td>\n",
       "      <td>0.123080</td>\n",
       "      <td>0.049594</td>\n",
       "      <td>124.625500</td>\n",
       "      <td>0.446240</td>\n",
       "    </tr>\n",
       "    <tr>\n",
       "      <th>75%</th>\n",
       "      <td>44240.750000</td>\n",
       "      <td>8.555765e-01</td>\n",
       "      <td>0.565339</td>\n",
       "      <td>0.837016</td>\n",
       "      <td>0.915472</td>\n",
       "      <td>0.215151</td>\n",
       "      <td>0.088290</td>\n",
       "      <td>151.450000</td>\n",
       "      <td>0.666914</td>\n",
       "    </tr>\n",
       "    <tr>\n",
       "      <th>max</th>\n",
       "      <td>124722.000000</td>\n",
       "      <td>9.957965e-01</td>\n",
       "      <td>0.961871</td>\n",
       "      <td>0.999768</td>\n",
       "      <td>0.993134</td>\n",
       "      <td>0.971392</td>\n",
       "      <td>0.966177</td>\n",
       "      <td>250.059000</td>\n",
       "      <td>0.983649</td>\n",
       "    </tr>\n",
       "  </tbody>\n",
       "</table>\n",
       "</div>"
      ],
      "text/plain": [
       "            track_id  acousticness  danceability       energy  \\\n",
       "count    4802.000000  4.802000e+03   4802.000000  4802.000000   \n",
       "mean    30164.871720  4.870600e-01      0.436556     0.625126   \n",
       "std     28592.013796  3.681396e-01      0.183502     0.244051   \n",
       "min         2.000000  9.491000e-07      0.051307     0.000279   \n",
       "25%      7494.250000  8.351236e-02      0.296047     0.450757   \n",
       "50%     20723.500000  5.156888e-01      0.419447     0.648374   \n",
       "75%     44240.750000  8.555765e-01      0.565339     0.837016   \n",
       "max    124722.000000  9.957965e-01      0.961871     0.999768   \n",
       "\n",
       "       instrumentalness     liveness  speechiness        tempo      valence  \n",
       "count       4802.000000  4802.000000  4802.000000  4802.000000  4802.000000  \n",
       "mean           0.604096     0.187997     0.104877   126.687944     0.453413  \n",
       "std            0.376487     0.150562     0.145934    34.002473     0.266632  \n",
       "min            0.000000     0.025297     0.023234    29.093000     0.014392  \n",
       "25%            0.164972     0.104052     0.036897    98.000750     0.224617  \n",
       "50%            0.808752     0.123080     0.049594   124.625500     0.446240  \n",
       "75%            0.915472     0.215151     0.088290   151.450000     0.666914  \n",
       "max            0.993134     0.971392     0.966177   250.059000     0.983649  "
      ]
     },
     "metadata": {},
     "output_type": "display_data"
    }
   ],
   "source": [
    "display(data.describe())"
   ]
  },
  {
   "cell_type": "code",
   "execution_count": 141,
   "metadata": {},
   "outputs": [],
   "source": [
    "X = data.drop(['track_id','genre_top'],axis=1)\n",
    "y = data['genre_top']"
   ]
  },
  {
   "cell_type": "code",
   "execution_count": 142,
   "metadata": {},
   "outputs": [],
   "source": [
    "scaler = StandardScaler()\n",
    "X_scaler = scaler.fit_transform(X)"
   ]
  },
  {
   "cell_type": "code",
   "execution_count": 143,
   "metadata": {},
   "outputs": [
    {
     "data": {
      "text/plain": [
       "(4802, 8)"
      ]
     },
     "execution_count": 143,
     "metadata": {},
     "output_type": "execute_result"
    }
   ],
   "source": [
    "X_scaler.shape"
   ]
  },
  {
   "cell_type": "code",
   "execution_count": 144,
   "metadata": {},
   "outputs": [
    {
     "data": {
      "text/plain": [
       "PCA(copy=True, iterated_power='auto', n_components=None, random_state=None,\n",
       "    svd_solver='auto', tol=0.0, whiten=False)"
      ]
     },
     "execution_count": 144,
     "metadata": {},
     "output_type": "execute_result"
    }
   ],
   "source": [
    "pca = PCA()\n",
    "pca.fit(X_scaler)"
   ]
  },
  {
   "cell_type": "code",
   "execution_count": 145,
   "metadata": {},
   "outputs": [
    {
     "name": "stdout",
     "output_type": "stream",
     "text": [
      "[0.24297674 0.18044316 0.13650309 0.12994089 0.11056248 0.08302245\n",
      " 0.06923783 0.04731336]\n"
     ]
    }
   ],
   "source": [
    "variance_pca = pca.explained_variance_ratio_\n",
    "print(variance_pca)"
   ]
  },
  {
   "cell_type": "code",
   "execution_count": 146,
   "metadata": {},
   "outputs": [
    {
     "data": {
      "text/plain": [
       "Text(0.5, 0, 'Principal Component')"
      ]
     },
     "execution_count": 146,
     "metadata": {},
     "output_type": "execute_result"
    },
    {
     "data": {
      "image/png": "[encoded data removed]",
      "text/plain": [
       "<Figure size 432x288 with 1 Axes>"
      ]
     },
     "metadata": {
      "needs_background": "light"
     },
     "output_type": "display_data"
    }
   ],
   "source": [
    "fig , ax = plt.subplots()\n",
    "ax.bar(range(pca.n_components_),variance_pca)\n",
    "ax.set_xlabel('Principal Component')"
   ]
  },
  {
   "cell_type": "code",
   "execution_count": 147,
   "metadata": {},
   "outputs": [],
   "source": [
    "cumulative_variance = np.cumsum(variance_pca)"
   ]
  },
  {
   "cell_type": "code",
   "execution_count": 148,
   "metadata": {},
   "outputs": [
    {
     "data": {
      "text/plain": [
       "array([0.24297674, 0.4234199 , 0.55992299, 0.68986388, 0.80042636,\n",
       "       0.88344881, 0.95268664, 1.        ])"
      ]
     },
     "execution_count": 148,
     "metadata": {},
     "output_type": "execute_result"
    }
   ],
   "source": [
    "cumulative_variance"
   ]
  },
  {
   "cell_type": "code",
   "execution_count": 167,
   "metadata": {},
   "outputs": [
    {
     "data": {
      "text/plain": [
       "<matplotlib.lines.Line2D at 0x234bc16bfc8>"
      ]
     },
     "execution_count": 167,
     "metadata": {},
     "output_type": "execute_result"
    },
    {
     "data": {
      "image/png": "[encoded data removed]",
      "text/plain": [
       "<Figure size 432x288 with 1 Axes>"
      ]
     },
     "metadata": {
      "needs_background": "light"
     },
     "output_type": "display_data"
    }
   ],
   "source": [
    "fig , ax = plt.subplots()\n",
    "ax.plot(cumulative_variance)\n",
    "ax.axhline(y=0.90,linestyle='--')"
   ]
  },
  {
   "cell_type": "code",
   "execution_count": 163,
   "metadata": {},
   "outputs": [
    {
     "data": {
      "text/plain": [
       "(4802, 7)"
      ]
     },
     "execution_count": 163,
     "metadata": {},
     "output_type": "execute_result"
    }
   ],
   "source": [
    "pca = PCA(n_components=.90,random_state=10)\n",
    "pca.fit(X_scaler)\n",
    "pca_transform =pca.transform(X_scaler)\n",
    "pca_transform.shape"
   ]
  },
  {
   "cell_type": "code",
   "execution_count": 164,
   "metadata": {},
   "outputs": [
    {
     "name": "stdout",
     "output_type": "stream",
     "text": [
      "1.0\n",
      "0.8621586475942783\n",
      "0.8563995837669095\n"
     ]
    }
   ],
   "source": [
    "from sklearn.model_selection import train_test_split\n",
    "from sklearn.tree import DecisionTreeClassifier\n",
    "\n",
    "X_temp, X_test, y_temp , y_test = train_test_split(pca_transform,y,test_size=0.2,random_state=10,stratify=y)\n",
    "X_train, X_val, y_train, y_val = train_test_split(X_temp,y_temp,test_size=0.2,random_state=10)\n",
    "tree = DecisionTreeClassifier(random_state=10)\n",
    "tree.fit(X_train,y_train)\n",
    "print(tree.score(X_train,y_train))\n",
    "print(tree.score(X_val,y_val))\n",
    "print(tree.score(X_test,y_test))"
   ]
  },
  {
   "cell_type": "code",
   "execution_count": 165,
   "metadata": {},
   "outputs": [
    {
     "name": "stdout",
     "output_type": "stream",
     "text": [
      "0.8955078125\n",
      "0.8803641092327699\n",
      "0.8844953173777316\n"
     ]
    }
   ],
   "source": [
    "from sklearn.linear_model import LogisticRegression\n",
    "\n",
    "logreg = LogisticRegression()\n",
    "logreg.fit(X_train,y_train)\n",
    "print(logreg.score(X_train,y_train))\n",
    "print(logreg.score(X_val,y_val))\n",
    "print(logreg.score(X_test,y_test))"
   ]
  },
  {
   "cell_type": "code",
   "execution_count": 168,
   "metadata": {},
   "outputs": [
    {
     "name": "stdout",
     "output_type": "stream",
     "text": [
      "[[115  67]\n",
      " [ 71 708]]\n"
     ]
    }
   ],
   "source": [
    "from sklearn.metrics import confusion_matrix\n",
    "\n",
    "print(confusion_matrix(y_test,tree.predict(X_test)))\n"
   ]
  },
  {
   "cell_type": "code",
   "execution_count": 169,
   "metadata": {},
   "outputs": [],
   "source": [
    "from sklearn.metrics import classification_report"
   ]
  },
  {
   "cell_type": "code",
   "execution_count": 170,
   "metadata": {},
   "outputs": [
    {
     "name": "stdout",
     "output_type": "stream",
     "text": [
      "              precision    recall  f1-score   support\n",
      "\n",
      "     Hip-Hop       0.62      0.63      0.62       182\n",
      "        Rock       0.91      0.91      0.91       779\n",
      "\n",
      "    accuracy                           0.86       961\n",
      "   macro avg       0.77      0.77      0.77       961\n",
      "weighted avg       0.86      0.86      0.86       961\n",
      "\n"
     ]
    }
   ],
   "source": [
    "print(classification_report(y_test,tree.predict(X_test)))"
   ]
  },
  {
   "cell_type": "code",
   "execution_count": 171,
   "metadata": {},
   "outputs": [
    {
     "name": "stdout",
     "output_type": "stream",
     "text": [
      "              precision    recall  f1-score   support\n",
      "\n",
      "     Hip-Hop       0.78      0.54      0.64       182\n",
      "        Rock       0.90      0.96      0.93       779\n",
      "\n",
      "    accuracy                           0.88       961\n",
      "   macro avg       0.84      0.75      0.79       961\n",
      "weighted avg       0.88      0.88      0.88       961\n",
      "\n"
     ]
    }
   ],
   "source": [
    "print(classification_report(y_test,logreg.predict(X_test)))"
   ]
  },
  {
   "cell_type": "code",
   "execution_count": 172,
   "metadata": {},
   "outputs": [
    {
     "data": {
      "text/plain": [
       "Rock       3892\n",
       "Hip-Hop     910\n",
       "Name: genre_top, dtype: int64"
      ]
     },
     "execution_count": 172,
     "metadata": {},
     "output_type": "execute_result"
    }
   ],
   "source": [
    "data.genre_top.value_counts()"
   ]
  },
  {
   "cell_type": "code",
   "execution_count": 173,
   "metadata": {},
   "outputs": [
    {
     "data": {
      "text/plain": [
       "(4802, 10)"
      ]
     },
     "execution_count": 173,
     "metadata": {},
     "output_type": "execute_result"
    }
   ],
   "source": [
    "data.shape"
   ]
  },
  {
   "cell_type": "code",
   "execution_count": 174,
   "metadata": {},
   "outputs": [
    {
     "data": {
      "text/html": [
       "<div>\n",
       "<style scoped>\n",
       "    .dataframe tbody tr th:only-of-type {\n",
       "        vertical-align: middle;\n",
       "    }\n",
       "\n",
       "    .dataframe tbody tr th {\n",
       "        vertical-align: top;\n",
       "    }\n",
       "\n",
       "    .dataframe thead th {\n",
       "        text-align: right;\n",
       "    }\n",
       "</style>\n",
       "<table border=\"1\" class=\"dataframe\">\n",
       "  <thead>\n",
       "    <tr style=\"text-align: right;\">\n",
       "      <th></th>\n",
       "      <th>track_id</th>\n",
       "      <th>acousticness</th>\n",
       "      <th>danceability</th>\n",
       "      <th>energy</th>\n",
       "      <th>instrumentalness</th>\n",
       "      <th>liveness</th>\n",
       "      <th>speechiness</th>\n",
       "      <th>tempo</th>\n",
       "      <th>valence</th>\n",
       "      <th>genre_top</th>\n",
       "    </tr>\n",
       "  </thead>\n",
       "  <tbody>\n",
       "    <tr>\n",
       "      <th>0</th>\n",
       "      <td>2</td>\n",
       "      <td>0.416675</td>\n",
       "      <td>0.675894</td>\n",
       "      <td>0.634476</td>\n",
       "      <td>0.010628</td>\n",
       "      <td>0.177647</td>\n",
       "      <td>0.159310</td>\n",
       "      <td>165.922</td>\n",
       "      <td>0.576661</td>\n",
       "      <td>Hip-Hop</td>\n",
       "    </tr>\n",
       "    <tr>\n",
       "      <th>1</th>\n",
       "      <td>3</td>\n",
       "      <td>0.374408</td>\n",
       "      <td>0.528643</td>\n",
       "      <td>0.817461</td>\n",
       "      <td>0.001851</td>\n",
       "      <td>0.105880</td>\n",
       "      <td>0.461818</td>\n",
       "      <td>126.957</td>\n",
       "      <td>0.269240</td>\n",
       "      <td>Hip-Hop</td>\n",
       "    </tr>\n",
       "    <tr>\n",
       "      <th>2</th>\n",
       "      <td>5</td>\n",
       "      <td>0.043567</td>\n",
       "      <td>0.745566</td>\n",
       "      <td>0.701470</td>\n",
       "      <td>0.000697</td>\n",
       "      <td>0.373143</td>\n",
       "      <td>0.124595</td>\n",
       "      <td>100.260</td>\n",
       "      <td>0.621661</td>\n",
       "      <td>Hip-Hop</td>\n",
       "    </tr>\n",
       "    <tr>\n",
       "      <th>3</th>\n",
       "      <td>134</td>\n",
       "      <td>0.452217</td>\n",
       "      <td>0.513238</td>\n",
       "      <td>0.560410</td>\n",
       "      <td>0.019443</td>\n",
       "      <td>0.096567</td>\n",
       "      <td>0.525519</td>\n",
       "      <td>114.290</td>\n",
       "      <td>0.894072</td>\n",
       "      <td>Hip-Hop</td>\n",
       "    </tr>\n",
       "    <tr>\n",
       "      <th>4</th>\n",
       "      <td>153</td>\n",
       "      <td>0.988306</td>\n",
       "      <td>0.255661</td>\n",
       "      <td>0.979774</td>\n",
       "      <td>0.973006</td>\n",
       "      <td>0.121342</td>\n",
       "      <td>0.051740</td>\n",
       "      <td>90.241</td>\n",
       "      <td>0.034018</td>\n",
       "      <td>Rock</td>\n",
       "    </tr>\n",
       "  </tbody>\n",
       "</table>\n",
       "</div>"
      ],
      "text/plain": [
       "   track_id  acousticness  danceability    energy  instrumentalness  liveness  \\\n",
       "0         2      0.416675      0.675894  0.634476          0.010628  0.177647   \n",
       "1         3      0.374408      0.528643  0.817461          0.001851  0.105880   \n",
       "2         5      0.043567      0.745566  0.701470          0.000697  0.373143   \n",
       "3       134      0.452217      0.513238  0.560410          0.019443  0.096567   \n",
       "4       153      0.988306      0.255661  0.979774          0.973006  0.121342   \n",
       "\n",
       "   speechiness    tempo   valence genre_top  \n",
       "0     0.159310  165.922  0.576661   Hip-Hop  \n",
       "1     0.461818  126.957  0.269240   Hip-Hop  \n",
       "2     0.124595  100.260  0.621661   Hip-Hop  \n",
       "3     0.525519  114.290  0.894072   Hip-Hop  \n",
       "4     0.051740   90.241  0.034018      Rock  "
      ]
     },
     "execution_count": 174,
     "metadata": {},
     "output_type": "execute_result"
    }
   ],
   "source": [
    "data.head()"
   ]
  },
  {
   "cell_type": "code",
   "execution_count": 175,
   "metadata": {},
   "outputs": [],
   "source": [
    "data_genre_rock = data[data['genre_top'] == 'Rock']\n",
    "data_genre_hiphop = data[data['genre_top'] == 'Hip-Hop']"
   ]
  },
  {
   "cell_type": "code",
   "execution_count": 176,
   "metadata": {},
   "outputs": [
    {
     "data": {
      "text/plain": [
       "(3892, 10)"
      ]
     },
     "execution_count": 176,
     "metadata": {},
     "output_type": "execute_result"
    }
   ],
   "source": [
    "data_genre_rock.shape"
   ]
  },
  {
   "cell_type": "code",
   "execution_count": 177,
   "metadata": {},
   "outputs": [
    {
     "data": {
      "text/plain": [
       "(910, 10)"
      ]
     },
     "execution_count": 177,
     "metadata": {},
     "output_type": "execute_result"
    }
   ],
   "source": [
    "data_genre_hiphop.shape"
   ]
  },
  {
   "cell_type": "code",
   "execution_count": 178,
   "metadata": {},
   "outputs": [],
   "source": [
    "data_genre_rock = data_genre_rock.sample(len(data_genre_hiphop),random_state=10)"
   ]
  },
  {
   "cell_type": "code",
   "execution_count": 179,
   "metadata": {},
   "outputs": [
    {
     "data": {
      "text/plain": [
       "(910, 10)"
      ]
     },
     "execution_count": 179,
     "metadata": {},
     "output_type": "execute_result"
    }
   ],
   "source": [
    "data_genre_rock.shape"
   ]
  },
  {
   "cell_type": "code",
   "execution_count": 180,
   "metadata": {},
   "outputs": [],
   "source": [
    "data_new = pd.concat([data_genre_rock,data_genre_hiphop])"
   ]
  },
  {
   "cell_type": "code",
   "execution_count": 181,
   "metadata": {},
   "outputs": [
    {
     "data": {
      "text/plain": [
       "(1820, 10)"
      ]
     },
     "execution_count": 181,
     "metadata": {},
     "output_type": "execute_result"
    }
   ],
   "source": [
    "data_new.shape"
   ]
  },
  {
   "cell_type": "code",
   "execution_count": 182,
   "metadata": {},
   "outputs": [
    {
     "data": {
      "text/html": [
       "<div>\n",
       "<style scoped>\n",
       "    .dataframe tbody tr th:only-of-type {\n",
       "        vertical-align: middle;\n",
       "    }\n",
       "\n",
       "    .dataframe tbody tr th {\n",
       "        vertical-align: top;\n",
       "    }\n",
       "\n",
       "    .dataframe thead th {\n",
       "        text-align: right;\n",
       "    }\n",
       "</style>\n",
       "<table border=\"1\" class=\"dataframe\">\n",
       "  <thead>\n",
       "    <tr style=\"text-align: right;\">\n",
       "      <th></th>\n",
       "      <th>track_id</th>\n",
       "      <th>acousticness</th>\n",
       "      <th>danceability</th>\n",
       "      <th>energy</th>\n",
       "      <th>instrumentalness</th>\n",
       "      <th>liveness</th>\n",
       "      <th>speechiness</th>\n",
       "      <th>tempo</th>\n",
       "      <th>valence</th>\n",
       "    </tr>\n",
       "  </thead>\n",
       "  <tbody>\n",
       "    <tr>\n",
       "      <th>count</th>\n",
       "      <td>1820.000000</td>\n",
       "      <td>1.820000e+03</td>\n",
       "      <td>1820.000000</td>\n",
       "      <td>1820.000000</td>\n",
       "      <td>1820.000000</td>\n",
       "      <td>1820.000000</td>\n",
       "      <td>1820.000000</td>\n",
       "      <td>1820.000000</td>\n",
       "      <td>1820.000000</td>\n",
       "    </tr>\n",
       "    <tr>\n",
       "      <th>mean</th>\n",
       "      <td>30310.054396</td>\n",
       "      <td>4.574804e-01</td>\n",
       "      <td>0.504778</td>\n",
       "      <td>0.601411</td>\n",
       "      <td>0.507594</td>\n",
       "      <td>0.188767</td>\n",
       "      <td>0.160739</td>\n",
       "      <td>123.958476</td>\n",
       "      <td>0.504761</td>\n",
       "    </tr>\n",
       "    <tr>\n",
       "      <th>std</th>\n",
       "      <td>27832.647290</td>\n",
       "      <td>3.533489e-01</td>\n",
       "      <td>0.199113</td>\n",
       "      <td>0.233482</td>\n",
       "      <td>0.403295</td>\n",
       "      <td>0.150557</td>\n",
       "      <td>0.184644</td>\n",
       "      <td>36.262894</td>\n",
       "      <td>0.261308</td>\n",
       "    </tr>\n",
       "    <tr>\n",
       "      <th>min</th>\n",
       "      <td>2.000000</td>\n",
       "      <td>9.491000e-07</td>\n",
       "      <td>0.058431</td>\n",
       "      <td>0.000279</td>\n",
       "      <td>0.000000</td>\n",
       "      <td>0.026589</td>\n",
       "      <td>0.023234</td>\n",
       "      <td>37.245000</td>\n",
       "      <td>0.024452</td>\n",
       "    </tr>\n",
       "    <tr>\n",
       "      <th>25%</th>\n",
       "      <td>11787.750000</td>\n",
       "      <td>8.462968e-02</td>\n",
       "      <td>0.351475</td>\n",
       "      <td>0.437930</td>\n",
       "      <td>0.010461</td>\n",
       "      <td>0.103592</td>\n",
       "      <td>0.041768</td>\n",
       "      <td>93.834750</td>\n",
       "      <td>0.298373</td>\n",
       "    </tr>\n",
       "    <tr>\n",
       "      <th>50%</th>\n",
       "      <td>20500.000000</td>\n",
       "      <td>4.530086e-01</td>\n",
       "      <td>0.501061</td>\n",
       "      <td>0.606961</td>\n",
       "      <td>0.688956</td>\n",
       "      <td>0.123093</td>\n",
       "      <td>0.069304</td>\n",
       "      <td>117.766500</td>\n",
       "      <td>0.517998</td>\n",
       "    </tr>\n",
       "    <tr>\n",
       "      <th>75%</th>\n",
       "      <td>42433.750000</td>\n",
       "      <td>8.026239e-01</td>\n",
       "      <td>0.666382</td>\n",
       "      <td>0.790653</td>\n",
       "      <td>0.896816</td>\n",
       "      <td>0.220066</td>\n",
       "      <td>0.214537</td>\n",
       "      <td>153.353500</td>\n",
       "      <td>0.707226</td>\n",
       "    </tr>\n",
       "    <tr>\n",
       "      <th>max</th>\n",
       "      <td>124722.000000</td>\n",
       "      <td>9.957555e-01</td>\n",
       "      <td>0.961871</td>\n",
       "      <td>0.999094</td>\n",
       "      <td>0.993134</td>\n",
       "      <td>0.947659</td>\n",
       "      <td>0.966177</td>\n",
       "      <td>234.036000</td>\n",
       "      <td>0.983199</td>\n",
       "    </tr>\n",
       "  </tbody>\n",
       "</table>\n",
       "</div>"
      ],
      "text/plain": [
       "            track_id  acousticness  danceability       energy  \\\n",
       "count    1820.000000  1.820000e+03   1820.000000  1820.000000   \n",
       "mean    30310.054396  4.574804e-01      0.504778     0.601411   \n",
       "std     27832.647290  3.533489e-01      0.199113     0.233482   \n",
       "min         2.000000  9.491000e-07      0.058431     0.000279   \n",
       "25%     11787.750000  8.462968e-02      0.351475     0.437930   \n",
       "50%     20500.000000  4.530086e-01      0.501061     0.606961   \n",
       "75%     42433.750000  8.026239e-01      0.666382     0.790653   \n",
       "max    124722.000000  9.957555e-01      0.961871     0.999094   \n",
       "\n",
       "       instrumentalness     liveness  speechiness        tempo      valence  \n",
       "count       1820.000000  1820.000000  1820.000000  1820.000000  1820.000000  \n",
       "mean           0.507594     0.188767     0.160739   123.958476     0.504761  \n",
       "std            0.403295     0.150557     0.184644    36.262894     0.261308  \n",
       "min            0.000000     0.026589     0.023234    37.245000     0.024452  \n",
       "25%            0.010461     0.103592     0.041768    93.834750     0.298373  \n",
       "50%            0.688956     0.123093     0.069304   117.766500     0.517998  \n",
       "75%            0.896816     0.220066     0.214537   153.353500     0.707226  \n",
       "max            0.993134     0.947659     0.966177   234.036000     0.983199  "
      ]
     },
     "execution_count": 182,
     "metadata": {},
     "output_type": "execute_result"
    }
   ],
   "source": [
    "data_new.describe()"
   ]
  },
  {
   "cell_type": "code",
   "execution_count": 183,
   "metadata": {},
   "outputs": [],
   "source": [
    "X = data_new.drop(['track_id','genre_top'],axis=1)\n",
    "y = data_new['genre_top']"
   ]
  },
  {
   "cell_type": "code",
   "execution_count": 184,
   "metadata": {},
   "outputs": [],
   "source": [
    "X_scaler = scaler.fit_transform(X)"
   ]
  },
  {
   "cell_type": "code",
   "execution_count": 185,
   "metadata": {},
   "outputs": [],
   "source": [
    "pca.fit(X_scaler)\n",
    "pca_transform =pca.transform(X_scaler)"
   ]
  },
  {
   "cell_type": "code",
   "execution_count": 186,
   "metadata": {},
   "outputs": [
    {
     "name": "stdout",
     "output_type": "stream",
     "text": [
      "1.0\n",
      "0.8321917808219178\n",
      "0.8076923076923077\n"
     ]
    }
   ],
   "source": [
    "X_temp, X_test, y_temp , y_test = train_test_split(pca_transform,y,test_size=0.2,random_state=10,stratify=y)\n",
    "X_train, X_val, y_train, y_val = train_test_split(X_temp,y_temp,test_size=0.2,random_state=10)\n",
    "tree = DecisionTreeClassifier(random_state=10)\n",
    "tree.fit(X_train,y_train)\n",
    "print(tree.score(X_train,y_train))\n",
    "print(tree.score(X_val,y_val))\n",
    "print(tree.score(X_test,y_test))"
   ]
  },
  {
   "cell_type": "code",
   "execution_count": 187,
   "metadata": {},
   "outputs": [
    {
     "name": "stdout",
     "output_type": "stream",
     "text": [
      "0.8608247422680413\n",
      "0.8527397260273972\n",
      "0.8406593406593407\n"
     ]
    }
   ],
   "source": [
    "logreg = LogisticRegression()\n",
    "logreg.fit(X_train,y_train)\n",
    "print(logreg.score(X_train,y_train))\n",
    "print(logreg.score(X_val,y_val))\n",
    "print(logreg.score(X_test,y_test))"
   ]
  },
  {
   "cell_type": "code",
   "execution_count": 188,
   "metadata": {},
   "outputs": [],
   "source": [
    "\n",
    "params = {\n",
    "    'criterion':['gini','entropy'],\n",
    "    'max_depth':list(np.arange(1,20)),\n",
    "    'max_features':['auto','sqrt','log2'],\n",
    "    'max_leaf_nodes':[2,5,8,10,13,15,20]\n",
    "}"
   ]
  },
  {
   "cell_type": "code",
   "execution_count": 189,
   "metadata": {
    "scrolled": true
   },
   "outputs": [],
   "source": [
    "from sklearn.model_selection import GridSearchCV\n",
    "\n",
    "gs =GridSearchCV(tree,params,cv=5,scoring='accuracy')"
   ]
  },
  {
   "cell_type": "code",
   "execution_count": 190,
   "metadata": {},
   "outputs": [
    {
     "data": {
      "text/plain": [
       "GridSearchCV(cv=5, error_score=nan,\n",
       "             estimator=DecisionTreeClassifier(ccp_alpha=0.0, class_weight=None,\n",
       "                                              criterion='gini', max_depth=None,\n",
       "                                              max_features=None,\n",
       "                                              max_leaf_nodes=None,\n",
       "                                              min_impurity_decrease=0.0,\n",
       "                                              min_impurity_split=None,\n",
       "                                              min_samples_leaf=1,\n",
       "                                              min_samples_split=2,\n",
       "                                              min_weight_fraction_leaf=0.0,\n",
       "                                              presort='deprecated',\n",
       "                                              random_state=10,\n",
       "                                              splitter='best'),\n",
       "             iid='deprecated', n_jobs=None,\n",
       "             param_grid={'criterion': ['gini', 'entropy'],\n",
       "                         'max_depth': [1, 2, 3, 4, 5, 6, 7, 8, 9, 10, 11, 12,\n",
       "                                       13, 14, 15, 16, 17, 18, 19],\n",
       "                         'max_features': ['auto', 'sqrt', 'log2'],\n",
       "                         'max_leaf_nodes': [2, 5, 8, 10, 13, 15, 20]},\n",
       "             pre_dispatch='2*n_jobs', refit=True, return_train_score=False,\n",
       "             scoring='accuracy', verbose=0)"
      ]
     },
     "execution_count": 190,
     "metadata": {},
     "output_type": "execute_result"
    }
   ],
   "source": [
    "gs.fit(X_train,y_train)"
   ]
  },
  {
   "cell_type": "code",
   "execution_count": 191,
   "metadata": {},
   "outputs": [
    {
     "data": {
      "text/plain": [
       "{'criterion': 'entropy',\n",
       " 'max_depth': 4,\n",
       " 'max_features': 'auto',\n",
       " 'max_leaf_nodes': 15}"
      ]
     },
     "execution_count": 191,
     "metadata": {},
     "output_type": "execute_result"
    }
   ],
   "source": [
    "gs.best_params_"
   ]
  },
  {
   "cell_type": "code",
   "execution_count": 192,
   "metadata": {},
   "outputs": [
    {
     "name": "stdout",
     "output_type": "stream",
     "text": [
      "0.8625429553264605\n",
      "0.8434065934065934\n",
      "0.8184931506849316\n"
     ]
    }
   ],
   "source": [
    "predict_best =gs.predict(X_test)\n",
    "\n",
    "print(gs.score(X_train,y_train))\n",
    "print(gs.score(X_test,y_test))\n",
    "print(gs.score(X_val,y_val))"
   ]
  },
  {
   "cell_type": "code",
   "execution_count": 193,
   "metadata": {},
   "outputs": [
    {
     "name": "stdout",
     "output_type": "stream",
     "text": [
      "              precision    recall  f1-score   support\n",
      "\n",
      "     Hip-Hop       0.87      0.80      0.84       182\n",
      "        Rock       0.82      0.88      0.85       182\n",
      "\n",
      "    accuracy                           0.84       364\n",
      "   macro avg       0.85      0.84      0.84       364\n",
      "weighted avg       0.85      0.84      0.84       364\n",
      "\n"
     ]
    }
   ],
   "source": [
    "print(classification_report(y_test,predict_best))"
   ]
  },
  {
   "cell_type": "code",
   "execution_count": 194,
   "metadata": {},
   "outputs": [
    {
     "name": "stdout",
     "output_type": "stream",
     "text": [
      "[[146  36]\n",
      " [ 21 161]]\n"
     ]
    }
   ],
   "source": [
    "print(confusion_matrix(y_test,predict_best))"
   ]
  },
  {
   "cell_type": "code",
   "execution_count": 195,
   "metadata": {
    "scrolled": true
   },
   "outputs": [
    {
     "name": "stdout",
     "output_type": "stream",
     "text": [
      "1.0\n",
      "0.8543956043956044\n",
      "0.8835616438356164\n"
     ]
    }
   ],
   "source": [
    "from sklearn.ensemble import RandomForestClassifier\n",
    "\n",
    "rf = RandomForestClassifier(random_state=10,n_jobs=-1)\n",
    "rf.fit(X_train,y_train)\n",
    "prediction_rf = rf.predict(X_test)\n",
    "print(rf.score(X_train,y_train))\n",
    "print(rf.score(X_test,y_test))\n",
    "print(rf.score(X_val,y_val))\n"
   ]
  },
  {
   "cell_type": "code",
   "execution_count": 196,
   "metadata": {},
   "outputs": [
    {
     "name": "stdout",
     "output_type": "stream",
     "text": [
      "              precision    recall  f1-score   support\n",
      "\n",
      "     Hip-Hop       0.89      0.81      0.85       182\n",
      "        Rock       0.82      0.90      0.86       182\n",
      "\n",
      "    accuracy                           0.85       364\n",
      "   macro avg       0.86      0.85      0.85       364\n",
      "weighted avg       0.86      0.85      0.85       364\n",
      "\n"
     ]
    }
   ],
   "source": [
    "print(classification_report(y_test,prediction_rf))"
   ]
  },
  {
   "cell_type": "code",
   "execution_count": 197,
   "metadata": {},
   "outputs": [],
   "source": [
    "from sklearn.model_selection import RandomizedSearchCV"
   ]
  },
  {
   "cell_type": "code",
   "execution_count": 198,
   "metadata": {},
   "outputs": [],
   "source": [
    "params = {\n",
    "    'n_estimators':[100,120,140],\n",
    "    'class_weight':['balanced','balanced_subsample',None],\n",
    "    'criterion':['gini','entropy'],\n",
    "    'max_depth':[1,2,3,4,5,6,7],\n",
    "    'max_features':['auto','sqrt','log2',None],\n",
    "    'min_samples_leaf':[1,2,3]\n",
    "}"
   ]
  },
  {
   "cell_type": "code",
   "execution_count": 199,
   "metadata": {},
   "outputs": [
    {
     "data": {
      "text/plain": [
       "RandomizedSearchCV(cv=5, error_score=nan,\n",
       "                   estimator=RandomForestClassifier(bootstrap=True,\n",
       "                                                    ccp_alpha=0.0,\n",
       "                                                    class_weight=None,\n",
       "                                                    criterion='gini',\n",
       "                                                    max_depth=None,\n",
       "                                                    max_features='auto',\n",
       "                                                    max_leaf_nodes=None,\n",
       "                                                    max_samples=None,\n",
       "                                                    min_impurity_decrease=0.0,\n",
       "                                                    min_impurity_split=None,\n",
       "                                                    min_samples_leaf=1,\n",
       "                                                    min_samples_split=2,\n",
       "                                                    min_weight_fraction_leaf=0.0,\n",
       "                                                    n_estimators=100, n_jobs...\n",
       "                   iid='deprecated', n_iter=10, n_jobs=None,\n",
       "                   param_distributions={'class_weight': ['balanced',\n",
       "                                                         'balanced_subsample',\n",
       "                                                         None],\n",
       "                                        'criterion': ['gini', 'entropy'],\n",
       "                                        'max_depth': [1, 2, 3, 4, 5, 6, 7],\n",
       "                                        'max_features': ['auto', 'sqrt', 'log2',\n",
       "                                                         None],\n",
       "                                        'min_samples_leaf': [1, 2, 3],\n",
       "                                        'n_estimators': [100, 120, 140]},\n",
       "                   pre_dispatch='2*n_jobs', random_state=None, refit=True,\n",
       "                   return_train_score=False, scoring=None, verbose=0)"
      ]
     },
     "execution_count": 199,
     "metadata": {},
     "output_type": "execute_result"
    }
   ],
   "source": [
    "rs = RandomizedSearchCV(rf,params,cv=5)\n",
    "rs.fit(X_train,y_train)"
   ]
  },
  {
   "cell_type": "code",
   "execution_count": 200,
   "metadata": {},
   "outputs": [
    {
     "data": {
      "text/plain": [
       "{'n_estimators': 120,\n",
       " 'min_samples_leaf': 3,\n",
       " 'max_features': 'auto',\n",
       " 'max_depth': 7,\n",
       " 'criterion': 'gini',\n",
       " 'class_weight': 'balanced'}"
      ]
     },
     "execution_count": 200,
     "metadata": {},
     "output_type": "execute_result"
    }
   ],
   "source": [
    "rs.best_params_"
   ]
  },
  {
   "cell_type": "code",
   "execution_count": 201,
   "metadata": {},
   "outputs": [
    {
     "name": "stdout",
     "output_type": "stream",
     "text": [
      "0.9166666666666666\n",
      "0.8351648351648352\n",
      "0.8458904109589042\n"
     ]
    }
   ],
   "source": [
    "print(rs.score(X_train,y_train))\n",
    "print(rs.score(X_test,y_test))\n",
    "print(rs.score(X_val,y_val))"
   ]
  },
  {
   "cell_type": "code",
   "execution_count": 202,
   "metadata": {},
   "outputs": [
    {
     "name": "stdout",
     "output_type": "stream",
     "text": [
      "              precision    recall  f1-score   support\n",
      "\n",
      "     Hip-Hop       0.89      0.81      0.85       182\n",
      "        Rock       0.82      0.90      0.86       182\n",
      "\n",
      "    accuracy                           0.85       364\n",
      "   macro avg       0.86      0.85      0.85       364\n",
      "weighted avg       0.86      0.85      0.85       364\n",
      "\n"
     ]
    }
   ],
   "source": [
    "print(classification_report(y_test,rf.predict(X_test)))"
   ]
  },
  {
   "cell_type": "code",
   "execution_count": null,
   "metadata": {},
   "outputs": [],
   "source": []
  }
 ],
 "metadata": {
  "kernelspec": {
   "display_name": "Python 3.7.6 64-bit ('base': conda)",
   "language": "python",
   "name": "python37664bitbasecondaed9237ffe8e548af9c4a8ba38463197a"
  },
  "language_info": {
   "codemirror_mode": {
    "name": "ipython",
    "version": 3
   },
   "file_extension": ".py",
   "mimetype": "text/x-python",
   "name": "python",
   "nbconvert_exporter": "python",
   "pygments_lexer": "ipython3",
   "version": "3.7.6"
  }
 },
 "nbformat": 4,
 "nbformat_minor": 2
}
