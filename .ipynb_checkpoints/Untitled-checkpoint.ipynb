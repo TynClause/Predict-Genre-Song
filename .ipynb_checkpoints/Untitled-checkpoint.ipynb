{
 "cells": [
  {
   "cell_type": "markdown",
   "metadata": {},
   "source": [
    "# Prediksi Genre Lagu berdasarkan Audio\n",
    "\n",
    "![img](https://tech.ebu.ch/files/live/sites/tech/files/shared/events/nga18/nga_workshop_wave_833x469.jpg)\n",
    "\n",
    "## Oleh:\n",
    "\n",
    "* Elvin Nur Furqon (1103174048)\n",
    "* M. Randi Prawira Irawan (1103174055)\n",
    "* Muhammad Naafi Hardia (1103170212)\n",
    "\n",
    "### Source :\n",
    "* UCI DATASET"
   ]
  },
  {
   "cell_type": "markdown",
   "metadata": {},
   "source": [
    "# Library\n",
    "\n",
    "* Pandas\n",
    "* Numpy\n",
    "* Sklearn\n",
    "* Seaborn\n",
    "* Matplotlib\n"
   ]
  },
  {
   "cell_type": "code",
   "execution_count": 1,
   "metadata": {},
   "outputs": [],
   "source": [
    "#import library\n",
    "import pandas as pd\n",
    "import numpy as np\n",
    "import matplotlib.pyplot as plt\n",
    "import seaborn as sns\n",
    "from sklearn.preprocessing import StandardScaler\n",
    "from sklearn.decomposition import PCA"
   ]
  },
  {
   "cell_type": "code",
   "execution_count": 2,
   "metadata": {},
   "outputs": [
    {
     "data": {
      "text/html": [
       "<div>\n",
       "<style scoped>\n",
       "    .dataframe tbody tr th:only-of-type {\n",
       "        vertical-align: middle;\n",
       "    }\n",
       "\n",
       "    .dataframe tbody tr th {\n",
       "        vertical-align: top;\n",
       "    }\n",
       "\n",
       "    .dataframe thead th {\n",
       "        text-align: right;\n",
       "    }\n",
       "</style>\n",
       "<table border=\"1\" class=\"dataframe\">\n",
       "  <thead>\n",
       "    <tr style=\"text-align: right;\">\n",
       "      <th></th>\n",
       "      <th>track_id</th>\n",
       "      <th>bit_rate</th>\n",
       "      <th>comments</th>\n",
       "      <th>composer</th>\n",
       "      <th>date_created</th>\n",
       "      <th>date_recorded</th>\n",
       "      <th>duration</th>\n",
       "      <th>favorites</th>\n",
       "      <th>genre_top</th>\n",
       "      <th>genres</th>\n",
       "      <th>...</th>\n",
       "      <th>information</th>\n",
       "      <th>interest</th>\n",
       "      <th>language_code</th>\n",
       "      <th>license</th>\n",
       "      <th>listens</th>\n",
       "      <th>lyricist</th>\n",
       "      <th>number</th>\n",
       "      <th>publisher</th>\n",
       "      <th>tags</th>\n",
       "      <th>title</th>\n",
       "    </tr>\n",
       "  </thead>\n",
       "  <tbody>\n",
       "    <tr>\n",
       "      <th>0</th>\n",
       "      <td>135</td>\n",
       "      <td>256000</td>\n",
       "      <td>1</td>\n",
       "      <td>NaN</td>\n",
       "      <td>2008-11-26 01:43:26</td>\n",
       "      <td>2008-11-26 00:00:00</td>\n",
       "      <td>837</td>\n",
       "      <td>0</td>\n",
       "      <td>Rock</td>\n",
       "      <td>[45, 58]</td>\n",
       "      <td>...</td>\n",
       "      <td>NaN</td>\n",
       "      <td>2484</td>\n",
       "      <td>en</td>\n",
       "      <td>Attribution-NonCommercial-ShareAlike 3.0 Inter...</td>\n",
       "      <td>1832</td>\n",
       "      <td>NaN</td>\n",
       "      <td>0</td>\n",
       "      <td>NaN</td>\n",
       "      <td>[]</td>\n",
       "      <td>Father's Day</td>\n",
       "    </tr>\n",
       "    <tr>\n",
       "      <th>1</th>\n",
       "      <td>136</td>\n",
       "      <td>256000</td>\n",
       "      <td>1</td>\n",
       "      <td>NaN</td>\n",
       "      <td>2008-11-26 01:43:35</td>\n",
       "      <td>2008-11-26 00:00:00</td>\n",
       "      <td>509</td>\n",
       "      <td>0</td>\n",
       "      <td>Rock</td>\n",
       "      <td>[45, 58]</td>\n",
       "      <td>...</td>\n",
       "      <td>NaN</td>\n",
       "      <td>1948</td>\n",
       "      <td>en</td>\n",
       "      <td>Attribution-NonCommercial-ShareAlike 3.0 Inter...</td>\n",
       "      <td>1498</td>\n",
       "      <td>NaN</td>\n",
       "      <td>0</td>\n",
       "      <td>NaN</td>\n",
       "      <td>[]</td>\n",
       "      <td>Peel Back The Mountain Sky</td>\n",
       "    </tr>\n",
       "    <tr>\n",
       "      <th>2</th>\n",
       "      <td>151</td>\n",
       "      <td>192000</td>\n",
       "      <td>0</td>\n",
       "      <td>NaN</td>\n",
       "      <td>2008-11-26 01:44:55</td>\n",
       "      <td>NaN</td>\n",
       "      <td>192</td>\n",
       "      <td>0</td>\n",
       "      <td>Rock</td>\n",
       "      <td>[25]</td>\n",
       "      <td>...</td>\n",
       "      <td>NaN</td>\n",
       "      <td>701</td>\n",
       "      <td>en</td>\n",
       "      <td>Attribution-NonCommercial-ShareAlike 3.0 Inter...</td>\n",
       "      <td>148</td>\n",
       "      <td>NaN</td>\n",
       "      <td>4</td>\n",
       "      <td>NaN</td>\n",
       "      <td>[]</td>\n",
       "      <td>Untitled 04</td>\n",
       "    </tr>\n",
       "    <tr>\n",
       "      <th>3</th>\n",
       "      <td>152</td>\n",
       "      <td>192000</td>\n",
       "      <td>0</td>\n",
       "      <td>NaN</td>\n",
       "      <td>2008-11-26 01:44:58</td>\n",
       "      <td>NaN</td>\n",
       "      <td>193</td>\n",
       "      <td>0</td>\n",
       "      <td>Rock</td>\n",
       "      <td>[25]</td>\n",
       "      <td>...</td>\n",
       "      <td>NaN</td>\n",
       "      <td>637</td>\n",
       "      <td>en</td>\n",
       "      <td>Attribution-NonCommercial-ShareAlike 3.0 Inter...</td>\n",
       "      <td>98</td>\n",
       "      <td>NaN</td>\n",
       "      <td>11</td>\n",
       "      <td>NaN</td>\n",
       "      <td>[]</td>\n",
       "      <td>Untitled 11</td>\n",
       "    </tr>\n",
       "    <tr>\n",
       "      <th>4</th>\n",
       "      <td>153</td>\n",
       "      <td>256000</td>\n",
       "      <td>0</td>\n",
       "      <td>Arc and Sender</td>\n",
       "      <td>2008-11-26 01:45:00</td>\n",
       "      <td>2008-11-26 00:00:00</td>\n",
       "      <td>405</td>\n",
       "      <td>5</td>\n",
       "      <td>Rock</td>\n",
       "      <td>[26]</td>\n",
       "      <td>...</td>\n",
       "      <td>NaN</td>\n",
       "      <td>354</td>\n",
       "      <td>en</td>\n",
       "      <td>Attribution-NonCommercial-NoDerivatives (aka M...</td>\n",
       "      <td>424</td>\n",
       "      <td>NaN</td>\n",
       "      <td>2</td>\n",
       "      <td>NaN</td>\n",
       "      <td>[]</td>\n",
       "      <td>Hundred-Year Flood</td>\n",
       "    </tr>\n",
       "  </tbody>\n",
       "</table>\n",
       "<p>5 rows × 21 columns</p>\n",
       "</div>"
      ],
      "text/plain": [
       "   track_id  bit_rate  comments        composer         date_created  \\\n",
       "0       135    256000         1             NaN  2008-11-26 01:43:26   \n",
       "1       136    256000         1             NaN  2008-11-26 01:43:35   \n",
       "2       151    192000         0             NaN  2008-11-26 01:44:55   \n",
       "3       152    192000         0             NaN  2008-11-26 01:44:58   \n",
       "4       153    256000         0  Arc and Sender  2008-11-26 01:45:00   \n",
       "\n",
       "         date_recorded  duration  favorites genre_top    genres  ...  \\\n",
       "0  2008-11-26 00:00:00       837          0      Rock  [45, 58]  ...   \n",
       "1  2008-11-26 00:00:00       509          0      Rock  [45, 58]  ...   \n",
       "2                  NaN       192          0      Rock      [25]  ...   \n",
       "3                  NaN       193          0      Rock      [25]  ...   \n",
       "4  2008-11-26 00:00:00       405          5      Rock      [26]  ...   \n",
       "\n",
       "  information interest  language_code  \\\n",
       "0         NaN     2484             en   \n",
       "1         NaN     1948             en   \n",
       "2         NaN      701             en   \n",
       "3         NaN      637             en   \n",
       "4         NaN      354             en   \n",
       "\n",
       "                                             license listens  lyricist number  \\\n",
       "0  Attribution-NonCommercial-ShareAlike 3.0 Inter...    1832       NaN      0   \n",
       "1  Attribution-NonCommercial-ShareAlike 3.0 Inter...    1498       NaN      0   \n",
       "2  Attribution-NonCommercial-ShareAlike 3.0 Inter...     148       NaN      4   \n",
       "3  Attribution-NonCommercial-ShareAlike 3.0 Inter...      98       NaN     11   \n",
       "4  Attribution-NonCommercial-NoDerivatives (aka M...     424       NaN      2   \n",
       "\n",
       "   publisher tags                       title  \n",
       "0        NaN   []                Father's Day  \n",
       "1        NaN   []  Peel Back The Mountain Sky  \n",
       "2        NaN   []                 Untitled 04  \n",
       "3        NaN   []                 Untitled 11  \n",
       "4        NaN   []          Hundred-Year Flood  \n",
       "\n",
       "[5 rows x 21 columns]"
      ]
     },
     "metadata": {},
     "output_type": "display_data"
    },
    {
     "data": {
      "text/html": [
       "<div>\n",
       "<style scoped>\n",
       "    .dataframe tbody tr th:only-of-type {\n",
       "        vertical-align: middle;\n",
       "    }\n",
       "\n",
       "    .dataframe tbody tr th {\n",
       "        vertical-align: top;\n",
       "    }\n",
       "\n",
       "    .dataframe thead th {\n",
       "        text-align: right;\n",
       "    }\n",
       "</style>\n",
       "<table border=\"1\" class=\"dataframe\">\n",
       "  <thead>\n",
       "    <tr style=\"text-align: right;\">\n",
       "      <th></th>\n",
       "      <th>track_id</th>\n",
       "      <th>acousticness</th>\n",
       "      <th>danceability</th>\n",
       "      <th>energy</th>\n",
       "      <th>instrumentalness</th>\n",
       "      <th>liveness</th>\n",
       "      <th>speechiness</th>\n",
       "      <th>tempo</th>\n",
       "      <th>valence</th>\n",
       "    </tr>\n",
       "  </thead>\n",
       "  <tbody>\n",
       "    <tr>\n",
       "      <th>0</th>\n",
       "      <td>2</td>\n",
       "      <td>0.416675</td>\n",
       "      <td>0.675894</td>\n",
       "      <td>0.634476</td>\n",
       "      <td>0.010628</td>\n",
       "      <td>0.177647</td>\n",
       "      <td>0.159310</td>\n",
       "      <td>165.922</td>\n",
       "      <td>0.576661</td>\n",
       "    </tr>\n",
       "    <tr>\n",
       "      <th>1</th>\n",
       "      <td>3</td>\n",
       "      <td>0.374408</td>\n",
       "      <td>0.528643</td>\n",
       "      <td>0.817461</td>\n",
       "      <td>0.001851</td>\n",
       "      <td>0.105880</td>\n",
       "      <td>0.461818</td>\n",
       "      <td>126.957</td>\n",
       "      <td>0.269240</td>\n",
       "    </tr>\n",
       "    <tr>\n",
       "      <th>2</th>\n",
       "      <td>5</td>\n",
       "      <td>0.043567</td>\n",
       "      <td>0.745566</td>\n",
       "      <td>0.701470</td>\n",
       "      <td>0.000697</td>\n",
       "      <td>0.373143</td>\n",
       "      <td>0.124595</td>\n",
       "      <td>100.260</td>\n",
       "      <td>0.621661</td>\n",
       "    </tr>\n",
       "    <tr>\n",
       "      <th>3</th>\n",
       "      <td>10</td>\n",
       "      <td>0.951670</td>\n",
       "      <td>0.658179</td>\n",
       "      <td>0.924525</td>\n",
       "      <td>0.965427</td>\n",
       "      <td>0.115474</td>\n",
       "      <td>0.032985</td>\n",
       "      <td>111.562</td>\n",
       "      <td>0.963590</td>\n",
       "    </tr>\n",
       "    <tr>\n",
       "      <th>4</th>\n",
       "      <td>134</td>\n",
       "      <td>0.452217</td>\n",
       "      <td>0.513238</td>\n",
       "      <td>0.560410</td>\n",
       "      <td>0.019443</td>\n",
       "      <td>0.096567</td>\n",
       "      <td>0.525519</td>\n",
       "      <td>114.290</td>\n",
       "      <td>0.894072</td>\n",
       "    </tr>\n",
       "  </tbody>\n",
       "</table>\n",
       "</div>"
      ],
      "text/plain": [
       "   track_id  acousticness  danceability    energy  instrumentalness  liveness  \\\n",
       "0         2      0.416675      0.675894  0.634476          0.010628  0.177647   \n",
       "1         3      0.374408      0.528643  0.817461          0.001851  0.105880   \n",
       "2         5      0.043567      0.745566  0.701470          0.000697  0.373143   \n",
       "3        10      0.951670      0.658179  0.924525          0.965427  0.115474   \n",
       "4       134      0.452217      0.513238  0.560410          0.019443  0.096567   \n",
       "\n",
       "   speechiness    tempo   valence  \n",
       "0     0.159310  165.922  0.576661  \n",
       "1     0.461818  126.957  0.269240  \n",
       "2     0.124595  100.260  0.621661  \n",
       "3     0.032985  111.562  0.963590  \n",
       "4     0.525519  114.290  0.894072  "
      ]
     },
     "metadata": {},
     "output_type": "display_data"
    }
   ],
   "source": [
    "link_data_csv = 'datasets/dataset.csv'\n",
    "link_data_json = 'datasets/track_id.json'\n",
    "\n",
    "data_csv = pd.read_csv(link_data_csv)\n",
    "data_json = pd.read_json(link_data_json,precise_float=True)\n",
    "\n",
    "display(data_csv.head())\n",
    "display(data_json.head())"
   ]
  },
  {
   "cell_type": "code",
   "execution_count": 3,
   "metadata": {},
   "outputs": [
    {
     "name": "stdout",
     "output_type": "stream",
     "text": [
      "<class 'pandas.core.frame.DataFrame'>\n",
      "RangeIndex: 17734 entries, 0 to 17733\n",
      "Data columns (total 21 columns):\n",
      "track_id         17734 non-null int64\n",
      "bit_rate         17734 non-null int64\n",
      "comments         17734 non-null int64\n",
      "composer         166 non-null object\n",
      "date_created     17734 non-null object\n",
      "date_recorded    1898 non-null object\n",
      "duration         17734 non-null int64\n",
      "favorites        17734 non-null int64\n",
      "genre_top        17734 non-null object\n",
      "genres           17734 non-null object\n",
      "genres_all       17734 non-null object\n",
      "information      482 non-null object\n",
      "interest         17734 non-null int64\n",
      "language_code    4089 non-null object\n",
      "license          17714 non-null object\n",
      "listens          17734 non-null int64\n",
      "lyricist         53 non-null object\n",
      "number           17734 non-null int64\n",
      "publisher        52 non-null object\n",
      "tags             17734 non-null object\n",
      "title            17734 non-null object\n",
      "dtypes: int64(8), object(13)\n",
      "memory usage: 2.8+ MB\n"
     ]
    }
   ],
   "source": [
    "data_csv.info()"
   ]
  },
  {
   "cell_type": "code",
   "execution_count": 4,
   "metadata": {},
   "outputs": [
    {
     "name": "stdout",
     "output_type": "stream",
     "text": [
      "<class 'pandas.core.frame.DataFrame'>\n",
      "Int64Index: 13129 entries, 0 to 13128\n",
      "Data columns (total 9 columns):\n",
      "track_id            13129 non-null int64\n",
      "acousticness        13129 non-null float64\n",
      "danceability        13129 non-null float64\n",
      "energy              13129 non-null float64\n",
      "instrumentalness    13129 non-null float64\n",
      "liveness            13129 non-null float64\n",
      "speechiness         13129 non-null float64\n",
      "tempo               13129 non-null float64\n",
      "valence             13129 non-null float64\n",
      "dtypes: float64(8), int64(1)\n",
      "memory usage: 1.0 MB\n"
     ]
    }
   ],
   "source": [
    "data_json.info()"
   ]
  },
  {
   "cell_type": "code",
   "execution_count": 5,
   "metadata": {},
   "outputs": [
    {
     "data": {
      "text/html": [
       "<div>\n",
       "<style scoped>\n",
       "    .dataframe tbody tr th:only-of-type {\n",
       "        vertical-align: middle;\n",
       "    }\n",
       "\n",
       "    .dataframe tbody tr th {\n",
       "        vertical-align: top;\n",
       "    }\n",
       "\n",
       "    .dataframe thead th {\n",
       "        text-align: right;\n",
       "    }\n",
       "</style>\n",
       "<table border=\"1\" class=\"dataframe\">\n",
       "  <thead>\n",
       "    <tr style=\"text-align: right;\">\n",
       "      <th></th>\n",
       "      <th>track_id</th>\n",
       "      <th>bit_rate</th>\n",
       "      <th>comments</th>\n",
       "      <th>duration</th>\n",
       "      <th>favorites</th>\n",
       "      <th>interest</th>\n",
       "      <th>listens</th>\n",
       "      <th>number</th>\n",
       "    </tr>\n",
       "  </thead>\n",
       "  <tbody>\n",
       "    <tr>\n",
       "      <th>count</th>\n",
       "      <td>17734.000000</td>\n",
       "      <td>17734.000000</td>\n",
       "      <td>17734.000000</td>\n",
       "      <td>17734.000000</td>\n",
       "      <td>17734.000000</td>\n",
       "      <td>1.773400e+04</td>\n",
       "      <td>17734.000000</td>\n",
       "      <td>17734.000000</td>\n",
       "    </tr>\n",
       "    <tr>\n",
       "      <th>mean</th>\n",
       "      <td>69394.145991</td>\n",
       "      <td>258971.413781</td>\n",
       "      <td>0.020695</td>\n",
       "      <td>220.942934</td>\n",
       "      <td>1.685237</td>\n",
       "      <td>1.678238e+03</td>\n",
       "      <td>1079.709541</td>\n",
       "      <td>6.184110</td>\n",
       "    </tr>\n",
       "    <tr>\n",
       "      <th>std</th>\n",
       "      <td>45784.589753</td>\n",
       "      <td>61535.621463</td>\n",
       "      <td>0.270070</td>\n",
       "      <td>177.906821</td>\n",
       "      <td>6.629402</td>\n",
       "      <td>9.394969e+03</td>\n",
       "      <td>4693.497635</td>\n",
       "      <td>7.075062</td>\n",
       "    </tr>\n",
       "    <tr>\n",
       "      <th>min</th>\n",
       "      <td>2.000000</td>\n",
       "      <td>-1.000000</td>\n",
       "      <td>0.000000</td>\n",
       "      <td>2.000000</td>\n",
       "      <td>0.000000</td>\n",
       "      <td>1.800000e+01</td>\n",
       "      <td>9.000000</td>\n",
       "      <td>0.000000</td>\n",
       "    </tr>\n",
       "    <tr>\n",
       "      <th>25%</th>\n",
       "      <td>29979.000000</td>\n",
       "      <td>220982.000000</td>\n",
       "      <td>0.000000</td>\n",
       "      <td>139.000000</td>\n",
       "      <td>0.000000</td>\n",
       "      <td>4.210000e+02</td>\n",
       "      <td>214.000000</td>\n",
       "      <td>2.000000</td>\n",
       "    </tr>\n",
       "    <tr>\n",
       "      <th>50%</th>\n",
       "      <td>64193.500000</td>\n",
       "      <td>256000.000000</td>\n",
       "      <td>0.000000</td>\n",
       "      <td>192.000000</td>\n",
       "      <td>1.000000</td>\n",
       "      <td>8.240000e+02</td>\n",
       "      <td>461.000000</td>\n",
       "      <td>5.000000</td>\n",
       "    </tr>\n",
       "    <tr>\n",
       "      <th>75%</th>\n",
       "      <td>109442.750000</td>\n",
       "      <td>320000.000000</td>\n",
       "      <td>0.000000</td>\n",
       "      <td>255.000000</td>\n",
       "      <td>2.000000</td>\n",
       "      <td>1.628000e+03</td>\n",
       "      <td>1018.000000</td>\n",
       "      <td>8.000000</td>\n",
       "    </tr>\n",
       "    <tr>\n",
       "      <th>max</th>\n",
       "      <td>155319.000000</td>\n",
       "      <td>448000.000000</td>\n",
       "      <td>24.000000</td>\n",
       "      <td>3675.000000</td>\n",
       "      <td>554.000000</td>\n",
       "      <td>1.038669e+06</td>\n",
       "      <td>433992.000000</td>\n",
       "      <td>100.000000</td>\n",
       "    </tr>\n",
       "  </tbody>\n",
       "</table>\n",
       "</div>"
      ],
      "text/plain": [
       "            track_id       bit_rate      comments      duration     favorites  \\\n",
       "count   17734.000000   17734.000000  17734.000000  17734.000000  17734.000000   \n",
       "mean    69394.145991  258971.413781      0.020695    220.942934      1.685237   \n",
       "std     45784.589753   61535.621463      0.270070    177.906821      6.629402   \n",
       "min         2.000000      -1.000000      0.000000      2.000000      0.000000   \n",
       "25%     29979.000000  220982.000000      0.000000    139.000000      0.000000   \n",
       "50%     64193.500000  256000.000000      0.000000    192.000000      1.000000   \n",
       "75%    109442.750000  320000.000000      0.000000    255.000000      2.000000   \n",
       "max    155319.000000  448000.000000     24.000000   3675.000000    554.000000   \n",
       "\n",
       "           interest        listens        number  \n",
       "count  1.773400e+04   17734.000000  17734.000000  \n",
       "mean   1.678238e+03    1079.709541      6.184110  \n",
       "std    9.394969e+03    4693.497635      7.075062  \n",
       "min    1.800000e+01       9.000000      0.000000  \n",
       "25%    4.210000e+02     214.000000      2.000000  \n",
       "50%    8.240000e+02     461.000000      5.000000  \n",
       "75%    1.628000e+03    1018.000000      8.000000  \n",
       "max    1.038669e+06  433992.000000    100.000000  "
      ]
     },
     "execution_count": 5,
     "metadata": {},
     "output_type": "execute_result"
    }
   ],
   "source": [
    "data_csv.describe()"
   ]
  },
  {
   "cell_type": "code",
   "execution_count": 6,
   "metadata": {},
   "outputs": [
    {
     "data": {
      "text/html": [
       "<div>\n",
       "<style scoped>\n",
       "    .dataframe tbody tr th:only-of-type {\n",
       "        vertical-align: middle;\n",
       "    }\n",
       "\n",
       "    .dataframe tbody tr th {\n",
       "        vertical-align: top;\n",
       "    }\n",
       "\n",
       "    .dataframe thead th {\n",
       "        text-align: right;\n",
       "    }\n",
       "</style>\n",
       "<table border=\"1\" class=\"dataframe\">\n",
       "  <thead>\n",
       "    <tr style=\"text-align: right;\">\n",
       "      <th></th>\n",
       "      <th>track_id</th>\n",
       "      <th>acousticness</th>\n",
       "      <th>danceability</th>\n",
       "      <th>energy</th>\n",
       "      <th>instrumentalness</th>\n",
       "      <th>liveness</th>\n",
       "      <th>speechiness</th>\n",
       "      <th>tempo</th>\n",
       "      <th>valence</th>\n",
       "    </tr>\n",
       "  </thead>\n",
       "  <tbody>\n",
       "    <tr>\n",
       "      <th>count</th>\n",
       "      <td>13129.000000</td>\n",
       "      <td>1.312900e+04</td>\n",
       "      <td>13129.000000</td>\n",
       "      <td>13129.000000</td>\n",
       "      <td>13129.000000</td>\n",
       "      <td>13129.000000</td>\n",
       "      <td>13129.000000</td>\n",
       "      <td>13129.000000</td>\n",
       "      <td>13129.000000</td>\n",
       "    </tr>\n",
       "    <tr>\n",
       "      <th>mean</th>\n",
       "      <td>34031.058268</td>\n",
       "      <td>5.246876e-01</td>\n",
       "      <td>0.487290</td>\n",
       "      <td>0.537516</td>\n",
       "      <td>0.640536</td>\n",
       "      <td>0.187804</td>\n",
       "      <td>0.099174</td>\n",
       "      <td>123.080061</td>\n",
       "      <td>0.439761</td>\n",
       "    </tr>\n",
       "    <tr>\n",
       "      <th>std</th>\n",
       "      <td>28950.422182</td>\n",
       "      <td>3.837186e-01</td>\n",
       "      <td>0.190148</td>\n",
       "      <td>0.278049</td>\n",
       "      <td>0.361430</td>\n",
       "      <td>0.158051</td>\n",
       "      <td>0.137381</td>\n",
       "      <td>35.015137</td>\n",
       "      <td>0.276028</td>\n",
       "    </tr>\n",
       "    <tr>\n",
       "      <th>min</th>\n",
       "      <td>2.000000</td>\n",
       "      <td>9.035000e-07</td>\n",
       "      <td>0.051307</td>\n",
       "      <td>0.000020</td>\n",
       "      <td>0.000000</td>\n",
       "      <td>0.025297</td>\n",
       "      <td>0.022324</td>\n",
       "      <td>12.753000</td>\n",
       "      <td>0.000010</td>\n",
       "    </tr>\n",
       "    <tr>\n",
       "      <th>25%</th>\n",
       "      <td>12986.000000</td>\n",
       "      <td>1.037726e-01</td>\n",
       "      <td>0.344759</td>\n",
       "      <td>0.321300</td>\n",
       "      <td>0.323466</td>\n",
       "      <td>0.101406</td>\n",
       "      <td>0.036932</td>\n",
       "      <td>95.967000</td>\n",
       "      <td>0.197321</td>\n",
       "    </tr>\n",
       "    <tr>\n",
       "      <th>50%</th>\n",
       "      <td>28097.000000</td>\n",
       "      <td>5.739848e-01</td>\n",
       "      <td>0.485635</td>\n",
       "      <td>0.549113</td>\n",
       "      <td>0.838134</td>\n",
       "      <td>0.119002</td>\n",
       "      <td>0.049019</td>\n",
       "      <td>120.057000</td>\n",
       "      <td>0.417743</td>\n",
       "    </tr>\n",
       "    <tr>\n",
       "      <th>75%</th>\n",
       "      <td>45021.000000</td>\n",
       "      <td>9.207270e-01</td>\n",
       "      <td>0.629094</td>\n",
       "      <td>0.776254</td>\n",
       "      <td>0.918244</td>\n",
       "      <td>0.211041</td>\n",
       "      <td>0.085452</td>\n",
       "      <td>145.318000</td>\n",
       "      <td>0.665575</td>\n",
       "    </tr>\n",
       "    <tr>\n",
       "      <th>max</th>\n",
       "      <td>124911.000000</td>\n",
       "      <td>9.957965e-01</td>\n",
       "      <td>0.968645</td>\n",
       "      <td>0.999964</td>\n",
       "      <td>0.998016</td>\n",
       "      <td>0.980330</td>\n",
       "      <td>0.966177</td>\n",
       "      <td>251.072000</td>\n",
       "      <td>0.999990</td>\n",
       "    </tr>\n",
       "  </tbody>\n",
       "</table>\n",
       "</div>"
      ],
      "text/plain": [
       "            track_id  acousticness  danceability        energy  \\\n",
       "count   13129.000000  1.312900e+04  13129.000000  13129.000000   \n",
       "mean    34031.058268  5.246876e-01      0.487290      0.537516   \n",
       "std     28950.422182  3.837186e-01      0.190148      0.278049   \n",
       "min         2.000000  9.035000e-07      0.051307      0.000020   \n",
       "25%     12986.000000  1.037726e-01      0.344759      0.321300   \n",
       "50%     28097.000000  5.739848e-01      0.485635      0.549113   \n",
       "75%     45021.000000  9.207270e-01      0.629094      0.776254   \n",
       "max    124911.000000  9.957965e-01      0.968645      0.999964   \n",
       "\n",
       "       instrumentalness      liveness   speechiness         tempo  \\\n",
       "count      13129.000000  13129.000000  13129.000000  13129.000000   \n",
       "mean           0.640536      0.187804      0.099174    123.080061   \n",
       "std            0.361430      0.158051      0.137381     35.015137   \n",
       "min            0.000000      0.025297      0.022324     12.753000   \n",
       "25%            0.323466      0.101406      0.036932     95.967000   \n",
       "50%            0.838134      0.119002      0.049019    120.057000   \n",
       "75%            0.918244      0.211041      0.085452    145.318000   \n",
       "max            0.998016      0.980330      0.966177    251.072000   \n",
       "\n",
       "            valence  \n",
       "count  13129.000000  \n",
       "mean       0.439761  \n",
       "std        0.276028  \n",
       "min        0.000010  \n",
       "25%        0.197321  \n",
       "50%        0.417743  \n",
       "75%        0.665575  \n",
       "max        0.999990  "
      ]
     },
     "execution_count": 6,
     "metadata": {},
     "output_type": "execute_result"
    }
   ],
   "source": [
    "data_json.describe()"
   ]
  },
  {
   "cell_type": "code",
   "execution_count": 7,
   "metadata": {},
   "outputs": [
    {
     "data": {
      "text/plain": [
       "Rock       14182\n",
       "Hip-Hop     3552\n",
       "Name: genre_top, dtype: int64"
      ]
     },
     "execution_count": 7,
     "metadata": {},
     "output_type": "execute_result"
    }
   ],
   "source": [
    "data_csv.genre_top.value_counts()"
   ]
  },
  {
   "cell_type": "code",
   "execution_count": 8,
   "metadata": {},
   "outputs": [
    {
     "data": {
      "text/plain": [
       "Index(['track_id', 'bit_rate', 'comments', 'composer', 'date_created',\n",
       "       'date_recorded', 'duration', 'favorites', 'genre_top', 'genres',\n",
       "       'genres_all', 'information', 'interest', 'language_code', 'license',\n",
       "       'listens', 'lyricist', 'number', 'publisher', 'tags', 'title'],\n",
       "      dtype='object')"
      ]
     },
     "execution_count": 8,
     "metadata": {},
     "output_type": "execute_result"
    }
   ],
   "source": [
    "data_csv.columns"
   ]
  },
  {
   "cell_type": "code",
   "execution_count": 9,
   "metadata": {},
   "outputs": [
    {
     "data": {
      "text/plain": [
       "0    [58, 12, 45]\n",
       "1    [58, 12, 45]\n",
       "2        [25, 12]\n",
       "3        [25, 12]\n",
       "4        [26, 12]\n",
       "Name: genres_all, dtype: object"
      ]
     },
     "execution_count": 9,
     "metadata": {},
     "output_type": "execute_result"
    }
   ],
   "source": [
    "data_csv['genres_all'].head()"
   ]
  },
  {
   "cell_type": "code",
   "execution_count": 10,
   "metadata": {},
   "outputs": [
    {
     "data": {
      "text/plain": [
       "<p><a href=\"http://www.myspace.com/theshamblers\">The Shamblers</a> shambled down from Bay Ridge, Brooklyn to grace us with a live performance last Wednesday.&nbsp; Led by husband/wife team of Peter and Jess Speer, and ably augmented by drummer Ben Truesdale, the Shamblers brought their blend of Beat Happening/Home Blitz pop roughness plus classic garage punk action with lyrics to match.&nbsp; More info at <a href=\"http://www.colonialrecordingsusa.com/\">their label site</a> (where you can purchase their 100-song mp3 album) and <a href=\"http://theshamblers.blogspot.com/\">their blog</a>.&nbsp; The full set, plus two FCC-unfriendly bonus tracks found below.&nbsp; Engineered by Trent Wolbe.&nbsp; You've been shambled.</p>\\n<p><a href=\"http://blog.wfmu.org/freeform/2008/07/the-shamblers-l.html\" target=\"_blank\">http://blog.wfmu.org/freeform/2008/07/the-shamblers-l.html</a></p>\\n<p><a href=\"http://www.wfmu.org/playlists/shows/27951\" target=\"_blank\">http://www.wfmu.org/playlists/shows/27951</a></p>                                                                                                                                                                                                                                                                                                                                                                                                                                                                                                                                                                                                                                                                                                                                                                                                                                                                                                                                                                                                                                                                                                                                                                                                                                                                                                                                                                                                                                                                                                                                                                                                                                                                                                                                                                                                                                                                                                                                                                                                                                                                                                                                                                                                                                                                                                                                                                                                                                                                                                                                                                                                                                                                                                                                                                                                                                                            22\n",
       "<p><em>by Brian Turner via <a href=\"http://blog.wfmu.org/freeform/2008/05/negative-approa.html\" target=\"_blank\">WFMU's Beware of the Blog!</a></em></p>\\n<p>Back in the late 80's I walked into the Ritz in the middle of the Laughing Hyenas and watched in disbelief while singer John Brannon churned out one hell of a gutteral yowl for the duration of a whole set in almost inhuman fashion. The Hyenas channelled extreme rage through total Stooge/primal Alice Cooper mode with a somewhat bluesy Birthday Party swagger, and eventually I learned he fronted Detroit's hardcore godfathers <a href=\"http://www.myspace.com/negativeapproach\">Negative Approach</a> in the early part of that decade. Later it all came into focus: NA were very much first-wave and represented Detroit as one of the pockets dotted around the USA (see Black Flag, Minor Threat, Bad Brains), with Brannon &amp; company consolidating the midwest brotherhood with the Necros and Meatmen and eventually moving into early singles via Corey Rusk's Touch and Go label (originally a zine, where yes, people learned of the underground way before the internet). As far as first-wave HC goes, Negative Approach were among the most vicious feedback-pummel units going. Songs careened by in seconds, were pretty much politics-free, focusing on sheer vocal/instrumental destruction. They were inspired by not only their American peers, but UK groundbreakers like Discharge (who, like, NA, were big Stooges fans). In 2006 they returned to the stage at the Touch and Go label anniversary, with Brannon and original drummer Chris Moore augmented by Ron Sakowski on bass and Harold Richardson on guitar, reportedly wiped the place down. On the day of their recent Southpaw show, they amazingly agreed in a day's notice to come down to <a href=\"http://www.wfmu.org/playlists/BT\">my show on FMU</a>, plugged in and turned us to mush with 16 songs in 25 minutes.</p>\\n<p>Negative Approach live on WFMU 5/14/08 (broadcast 5/27). Host: Brian Turner, engineer: Richard Rusinkovich (edited-for-FCC version appeared over air). Co-interviewer: Tony Rettman. Ken Freedman shot video of \"Hypocrite\" and \"Dead Stop\".</p>\\n<p>Set list: Lost Cause / Can't Tell No One / Sick of Talk / Hypocrite / Dead Stop / Whatever I Do / Tied Down / Evacuate / Your Mistake / Why Be Something That You're Not / Pressure / Fair Warning / Nothing / Borstal Breakout (Sham 69) / Never Surrender (Blitz) /Solitary Confinement.</p>\\n<p>http://www.wfmu.org/playlists/shows/27384</p>\\n<p>Engineered by Richard Rusincovitch<br /></p>                                                                                                                                                                                                                                                                                                                                                                                                                                                                                                                                                                                                                                                                                                                                                                                                                                                                                                                                                                                                                                                                                                                                                                                                                                                    18\n",
       "<p>Bloomfield, New Jersey's very own SUX stops by the WFMU studios for a live set of some blistering hardcore on Pat Duncan's Show, April 25, 2008.</p>\\n<p>Engineered by James Theesfeld.</p>\\n<p><a href=\"http://www.wfmu.org/playlists/shows/27030\" target=\"_blank\">http://www.wfmu.org/playlists/shows/27030</a></p>                                                                                                                                                                                                                                                                                                                                                                                                                                                                                                                                                                                                                                                                                                                                                                                                                                                                                                                                                                                                                                                                                                                                                                                                                                                                                                                                                                                                                                                                                                                                                                                                                                                                                                                                                                                                                                                                                                                                                                                                                                                                                                                                                                                                                                                                                                                                                                                                                                                                                                                                                                                                                                                                                                                                                                                                                                                                                                                                                                                                                                                                                                                                                                                                                                                                                                                                                                                                                                                                                                                                                                                14\n",
       "<p><span style=\"font-family: Verdana,Geneva,Arial; font-size: xx-small;\">http://wfmu.org/playlists/shows/29505 <br /></span></p>                                                                                                                                                                                                                                                                                                                                                                                                                                                                                                                                                                                                                                                                                                                                                                                                                                                                                                                                                                                                                                                                                                                                                                                                                                                                                                                                                                                                                                                                                                                                                                                                                                                                                                                                                                                                                                                                                                                                                                                                                                                                                                                                                                                                                                                                                                                                                                                                                                                                                                                                                                                                                                                                                                                                                                                                                                                                                                                                                                                                                                                                                                                                                                                                                                                                                                                                                                                                                                                                                                                                                                                                                                                                                                                                                                        13\n",
       "<p><span style=\"font-family: Verdana,Geneva,Arial; font-size: xx-small;\">School may be back in session, but you can put away your compass and protractor; your ears are all you need to map the connection from The Kinks and Downliners Sect via The Prisoners and Thee Headcoats to today's hottest British beat-punk sensations, The Fallen Leaves! Featuring original Subway Sect guitarist Rob Symmons, among other luminaries, the Fallen Leaves cap off their whirlwind first-ever visit to the USA with a live set on WFMU! Their new album <em>It's Too Late Now</em> (Parliament) picked up a four-star review from London's <em>Sunday Times</em> -- tune in and hear why!</span></p>\\n<p>FALLEN LEAVES live on WFMU<br /> engineered by Diane Farris<br /> <br /> Rev. Rob Green - vocals<br /> Rob Symmons - guitar<br /> Gareth Evans - bass<br /> Ian O'Sullivan - drums</p>\\n<p>(http://www.wfmu.org/playlists/shows/28636)</p>                                                                                                                                                                                                                                                                                                                                                                                                                                                                                                                                                                                                                                                                                                                                                                                                                                                                                                                                                                                                                                                                                                                                                                                                                                                                                                                                                                                                                                                                                                                                                                                                                                                                                                                                                                                                                                                                                                                                                                                                                                                                                                                                                                                                                                                                                                                                                                                                                                                                                                                                                                                                                                                                                                                                                                                                                                                                                                                                                         12\n",
       "                                                                                                                                                                                                                                                                                                                                                                                                                                                                                                                                                                                                                                                                                                                                                                                                                                                                                                                                                                                                                                                                                                                                                                                                                                                                                                                                                                                                                                                                                                                                                                                                                                                                                                                                                                                                                                                                                                                                                                                                                                                                                                                                                                                                                                                                                                                                                                                                                                                                                                                                                                                                                                                                                                                                                                                                                                                                                                                                                                                                                                                                                                                                                                                                                                                                                                                                                                                                                                                                                                                                                                                                                                                                                                                                                                                                                                                                                                        ..\n",
       "<p><span style=\"color:rgb(54,54,54);font-family:'Helvetica Neue', Helvetica, Arial, sans-serif;font-size:12px;line-height:15px;\">from the 2004 record \"windfall\" </span><a href=\"http://thereflectors.bandcamp.com/album/windfall\" style=\"color:rgb(66,133,187);text-decoration:none;font-family:'Helvetica Neue', Helvetica, Arial, sans-serif;font-size:12px;line-height:15px;\">thereflectors.bandcamp.com/album/windfall</a><span style=\"color:rgb(54,54,54);font-family:'Helvetica Neue', Helvetica, Arial, sans-serif;font-size:12px;line-height:15px;\"> </span></p><p><span style=\"color:rgb(54,54,54);font-family:'Helvetica Neue', Helvetica, Arial, sans-serif;font-size:12px;line-height:15px;\">I was thinkin </span><span style=\"color:rgb(54,54,54);font-family:'Helvetica Neue', Helvetica, Arial, sans-serif;font-size:12px;line-height:15px;\">wishful thinkin </span><span style=\"color:rgb(54,54,54);font-family:'Helvetica Neue', Helvetica, Arial, sans-serif;font-size:12px;line-height:15px;\">of a good luck charm </span><span style=\"color:rgb(54,54,54);font-family:'Helvetica Neue', Helvetica, Arial, sans-serif;font-size:12px;line-height:15px;\">of a world turned my way </span><span style=\"color:rgb(54,54,54);font-family:'Helvetica Neue', Helvetica, Arial, sans-serif;font-size:12px;line-height:15px;\">I’m just waitin on that windfall </span><span style=\"color:rgb(54,54,54);font-family:'Helvetica Neue', Helvetica, Arial, sans-serif;font-size:12px;line-height:15px;\">from the secrets of the world I know </span><span style=\"color:rgb(54,54,54);font-family:'Helvetica Neue', Helvetica, Arial, sans-serif;font-size:12px;line-height:15px;\">I’m just waitin on that wind to fall </span><span style=\"color:rgb(54,54,54);font-family:'Helvetica Neue', Helvetica, Arial, sans-serif;font-size:12px;line-height:15px;\">I close my eyes </span><span style=\"color:rgb(54,54,54);font-family:'Helvetica Neue', Helvetica, Arial, sans-serif;font-size:12px;line-height:15px;\">drivin’ dusty roads </span><span style=\"color:rgb(54,54,54);font-family:'Helvetica Neue', Helvetica, Arial, sans-serif;font-size:12px;line-height:15px;\">sending clouds </span><span style=\"color:rgb(54,54,54);font-family:'Helvetica Neue', Helvetica, Arial, sans-serif;font-size:12px;line-height:15px;\">into a clear big sky </span><span style=\"color:rgb(54,54,54);font-family:'Helvetica Neue', Helvetica, Arial, sans-serif;font-size:12px;line-height:15px;\">with every mile another dream </span><span style=\"color:rgb(54,54,54);font-family:'Helvetica Neue', Helvetica, Arial, sans-serif;font-size:12px;line-height:15px;\">distant sunlit scenery </span><span style=\"color:rgb(54,54,54);font-family:'Helvetica Neue', Helvetica, Arial, sans-serif;font-size:12px;line-height:15px;\">every mile another dream </span><span style=\"color:rgb(54,54,54);font-family:'Helvetica Neue', Helvetica, Arial, sans-serif;font-size:12px;line-height:15px;\">these are your darkest days </span><span style=\"color:rgb(54,54,54);font-family:'Helvetica Neue', Helvetica, Arial, sans-serif;font-size:12px;line-height:15px;\">cubicle post-it haze </span><span style=\"color:rgb(54,54,54);font-family:'Helvetica Neue', Helvetica, Arial, sans-serif;font-size:12px;line-height:15px;\">feeling for a ledge for a leap of faith </span><span style=\"color:rgb(54,54,54);font-family:'Helvetica Neue', Helvetica, Arial, sans-serif;font-size:12px;line-height:15px;\">I’m just waitin on that windfall </span><span style=\"color:rgb(54,54,54);font-family:'Helvetica Neue', Helvetica, Arial, sans-serif;font-size:12px;line-height:15px;\">from the secrets of the world I know </span><span style=\"color:rgb(54,54,54);font-family:'Helvetica Neue', Helvetica, Arial, sans-serif;font-size:12px;line-height:15px;\">I’m just waitin on that wind to fall</span></p>     1\n",
       "<p><p>Homepage:</p><p>http://angstalt.de</p></p>                                                                                                                                                                                                                                                                                                                                                                                                                                                                                                                                                                                                                                                                                                                                                                                                                                                                                                                                                                                                                                                                                                                                                                                                                                                                                                                                                                                                                                                                                                                                                                                                                                                                                                                                                                                                                                                                                                                                                                                                                                                                                                                                                                                                                                                                                                                                                                                                                                                                                                                                                                                                                                                                                                                                                                                                                                                                                                                                                                                                                                                                                                                                                                                                                                                                                                                                                                                                                                                                                                                                                                                                                                                                                                                                                                                                                                                         1\n",
       "<p></p>                                                                                                                                                                                                                                                                                                                                                                                                                                                                                                                                                                                                                                                                                                                                                                                                                                                                                                                                                                                                                                                                                                                                                                                                                                                                                                                                                                                                                                                                                                                                                                                                                                                                                                                                                                                                                                                                                                                                                                                                                                                                                                                                                                                                                                                                                                                                                                                                                                                                                                                                                                                                                                                                                                                                                                                                                                                                                                                                                                                                                                                                                                                                                                                                                                                                                                                                                                                                                                                                                                                                                                                                                                                                                                                                                                                                                                                                                                  1\n",
       "<p>Cover art: \\n\\n\\n\\n\\n</p><div class=\"smalltext-cover\">\\n\\n<p><a href=\"http://commons.wikimedia.org/wiki/File:Shalako_011a.jpg\" target=\"_blank\">Dick Dean, July 1, 1969. Source: Dean Family Archive.</a><br /></p><p>For liner notes about the making of Dunebuggy see:</p><p><a target=\"_blank\" title=\"Dunebuggy at Workbench Recordings\" href=\"http://workbenchrecordings.com/posts/marvelry-skimmer-dunebuggy-wbr-39.html\">http://workbenchrecordings.com/posts/marvelry-skimmer-dunebuggy-wbr-39.html</a><br /></p>\\n\\n\\n</div>                                                                                                                                                                                                                                                                                                                                                                                                                                                                                                                                                                                                                                                                                                                                                                                                                                                                                                                                                                                                                                                                                                                                                                                                                                                                                                                                                                                                                                                                                                                                                                                                                                                                                                                                                                                                                                                                                                                                                                                                                                                                                                                                                                                                                                                                                                                                                                                                                                                                                                                                                                                                                                                                                                                                                                                                                                                                                                                                                                                                                                                                                                                                                                                                                                                                                                                                                                   1\n",
       "<p>hardcore is dead!</p>\\n<p>i can’t see a scene, i only see a scenery! a life style scheme — where’s the movement gone? phrases are used to prove a situation which does not exist in this way anymore.</p>\\n<p>is hardcore dead? what’s coming next?</p>\\n<p>we don’t need a name what we stand for, we strife for ideas, not about a word. don’t sell your heart, no compromises! you make the movement — not vice versa.</p>\\n<p>set it up - keep it straight - go forward - say it loud!</p>\\n<p>this is a call for everybody, this is a call for you …</p>                                                                                                                                                                                                                                                                                                                                                                                                                                                                                                                                                                                                                                                                                                                                                                                                                                                                                                                                                                                                                                                                                                                                                                                                                                                                                                                                                                                                                                                                                                                                                                                                                                                                                                                                                                                                                                                                                                                                                                                                                                                                                                                                                                                                                                                                                                                                                                                                                                                                                                                                                                                                                                                                                                                                                                                                                                                                                                                                                                                                                                                                                                                                                                                                                                                                                                                                         1\n",
       "Name: information, Length: 110, dtype: int64"
      ]
     },
     "execution_count": 10,
     "metadata": {},
     "output_type": "execute_result"
    }
   ],
   "source": [
    "data_csv.information.value_counts()"
   ]
  },
  {
   "cell_type": "code",
   "execution_count": 11,
   "metadata": {},
   "outputs": [
    {
     "data": {
      "text/plain": [
       "[]                                                                                                                             15579\n",
       "['new zealand']                                                                                                                   66\n",
       "['horror', 'halloween']                                                                                                           30\n",
       "['hip-hop']                                                                                                                       30\n",
       "['era 1']                                                                                                                         27\n",
       "                                                                                                                               ...  \n",
       "['indie-pop', 'indie-rock', 'southern citys lab', 'russia', 'post-punk', 'netlabel', 'alternative pop']                            1\n",
       "['groove', 'guitar jam', 'art rock']                                                                                               1\n",
       "['gunctrl', 'houston mattress-core']                                                                                               1\n",
       "['daniel', 'bad ronald']                                                                                                           1\n",
       "['southern citys lab', 'russia', 'netlabel', 'alternative rock', 'alternative pop', 'indie-pop', 'post-punk', 'indie-rock']        1\n",
       "Name: tags, Length: 282, dtype: int64"
      ]
     },
     "execution_count": 11,
     "metadata": {},
     "output_type": "execute_result"
    }
   ],
   "source": [
    "data_csv.tags.value_counts()"
   ]
  },
  {
   "cell_type": "code",
   "execution_count": 12,
   "metadata": {},
   "outputs": [],
   "source": [
    "data = data_json.merge(data_csv[['track_id','genre_top']],on='track_id')"
   ]
  },
  {
   "cell_type": "code",
   "execution_count": 13,
   "metadata": {},
   "outputs": [
    {
     "data": {
      "text/html": [
       "<div>\n",
       "<style scoped>\n",
       "    .dataframe tbody tr th:only-of-type {\n",
       "        vertical-align: middle;\n",
       "    }\n",
       "\n",
       "    .dataframe tbody tr th {\n",
       "        vertical-align: top;\n",
       "    }\n",
       "\n",
       "    .dataframe thead th {\n",
       "        text-align: right;\n",
       "    }\n",
       "</style>\n",
       "<table border=\"1\" class=\"dataframe\">\n",
       "  <thead>\n",
       "    <tr style=\"text-align: right;\">\n",
       "      <th></th>\n",
       "      <th>track_id</th>\n",
       "      <th>acousticness</th>\n",
       "      <th>danceability</th>\n",
       "      <th>energy</th>\n",
       "      <th>instrumentalness</th>\n",
       "      <th>liveness</th>\n",
       "      <th>speechiness</th>\n",
       "      <th>tempo</th>\n",
       "      <th>valence</th>\n",
       "      <th>genre_top</th>\n",
       "    </tr>\n",
       "  </thead>\n",
       "  <tbody>\n",
       "    <tr>\n",
       "      <th>0</th>\n",
       "      <td>2</td>\n",
       "      <td>0.416675</td>\n",
       "      <td>0.675894</td>\n",
       "      <td>0.634476</td>\n",
       "      <td>0.010628</td>\n",
       "      <td>0.177647</td>\n",
       "      <td>0.159310</td>\n",
       "      <td>165.922</td>\n",
       "      <td>0.576661</td>\n",
       "      <td>Hip-Hop</td>\n",
       "    </tr>\n",
       "    <tr>\n",
       "      <th>1</th>\n",
       "      <td>3</td>\n",
       "      <td>0.374408</td>\n",
       "      <td>0.528643</td>\n",
       "      <td>0.817461</td>\n",
       "      <td>0.001851</td>\n",
       "      <td>0.105880</td>\n",
       "      <td>0.461818</td>\n",
       "      <td>126.957</td>\n",
       "      <td>0.269240</td>\n",
       "      <td>Hip-Hop</td>\n",
       "    </tr>\n",
       "    <tr>\n",
       "      <th>2</th>\n",
       "      <td>5</td>\n",
       "      <td>0.043567</td>\n",
       "      <td>0.745566</td>\n",
       "      <td>0.701470</td>\n",
       "      <td>0.000697</td>\n",
       "      <td>0.373143</td>\n",
       "      <td>0.124595</td>\n",
       "      <td>100.260</td>\n",
       "      <td>0.621661</td>\n",
       "      <td>Hip-Hop</td>\n",
       "    </tr>\n",
       "    <tr>\n",
       "      <th>3</th>\n",
       "      <td>134</td>\n",
       "      <td>0.452217</td>\n",
       "      <td>0.513238</td>\n",
       "      <td>0.560410</td>\n",
       "      <td>0.019443</td>\n",
       "      <td>0.096567</td>\n",
       "      <td>0.525519</td>\n",
       "      <td>114.290</td>\n",
       "      <td>0.894072</td>\n",
       "      <td>Hip-Hop</td>\n",
       "    </tr>\n",
       "    <tr>\n",
       "      <th>4</th>\n",
       "      <td>153</td>\n",
       "      <td>0.988306</td>\n",
       "      <td>0.255661</td>\n",
       "      <td>0.979774</td>\n",
       "      <td>0.973006</td>\n",
       "      <td>0.121342</td>\n",
       "      <td>0.051740</td>\n",
       "      <td>90.241</td>\n",
       "      <td>0.034018</td>\n",
       "      <td>Rock</td>\n",
       "    </tr>\n",
       "  </tbody>\n",
       "</table>\n",
       "</div>"
      ],
      "text/plain": [
       "   track_id  acousticness  danceability    energy  instrumentalness  liveness  \\\n",
       "0         2      0.416675      0.675894  0.634476          0.010628  0.177647   \n",
       "1         3      0.374408      0.528643  0.817461          0.001851  0.105880   \n",
       "2         5      0.043567      0.745566  0.701470          0.000697  0.373143   \n",
       "3       134      0.452217      0.513238  0.560410          0.019443  0.096567   \n",
       "4       153      0.988306      0.255661  0.979774          0.973006  0.121342   \n",
       "\n",
       "   speechiness    tempo   valence genre_top  \n",
       "0     0.159310  165.922  0.576661   Hip-Hop  \n",
       "1     0.461818  126.957  0.269240   Hip-Hop  \n",
       "2     0.124595  100.260  0.621661   Hip-Hop  \n",
       "3     0.525519  114.290  0.894072   Hip-Hop  \n",
       "4     0.051740   90.241  0.034018      Rock  "
      ]
     },
     "metadata": {},
     "output_type": "display_data"
    }
   ],
   "source": [
    "display(data.head())"
   ]
  },
  {
   "cell_type": "code",
   "execution_count": 14,
   "metadata": {},
   "outputs": [
    {
     "name": "stdout",
     "output_type": "stream",
     "text": [
      "                  track_id  acousticness  danceability    energy  \\\n",
      "track_id          1.000000     -0.372282      0.049454  0.140703   \n",
      "acousticness     -0.372282      1.000000     -0.028954 -0.281619   \n",
      "danceability      0.049454     -0.028954      1.000000 -0.242032   \n",
      "energy            0.140703     -0.281619     -0.242032  1.000000   \n",
      "instrumentalness -0.275623      0.194780     -0.255217  0.028238   \n",
      "liveness          0.048231     -0.019991     -0.106584  0.113331   \n",
      "speechiness      -0.026995      0.072204      0.276206 -0.109983   \n",
      "tempo            -0.025392     -0.026310     -0.242089  0.195227   \n",
      "valence           0.010070     -0.013841      0.473165  0.038603   \n",
      "\n",
      "                  instrumentalness  liveness  speechiness     tempo   valence  \n",
      "track_id                 -0.275623  0.048231    -0.026995 -0.025392  0.010070  \n",
      "acousticness              0.194780 -0.019991     0.072204 -0.026310 -0.013841  \n",
      "danceability             -0.255217 -0.106584     0.276206 -0.242089  0.473165  \n",
      "energy                    0.028238  0.113331    -0.109983  0.195227  0.038603  \n",
      "instrumentalness          1.000000 -0.091022    -0.366762  0.022215 -0.219967  \n",
      "liveness                 -0.091022  1.000000     0.041173  0.002732 -0.045093  \n",
      "speechiness              -0.366762  0.041173     1.000000  0.008241  0.149894  \n",
      "tempo                     0.022215  0.002732     0.008241  1.000000  0.052221  \n",
      "valence                  -0.219967 -0.045093     0.149894  0.052221  1.000000  \n"
     ]
    }
   ],
   "source": [
    "correlation_matric = data.corr()\n",
    "print(correlation_matric)"
   ]
  },
  {
   "cell_type": "code",
   "execution_count": 15,
   "metadata": {},
   "outputs": [
    {
     "data": {
      "text/plain": [
       "<matplotlib.axes._subplots.AxesSubplot at 0x24923049ec8>"
      ]
     },
     "execution_count": 15,
     "metadata": {},
     "output_type": "execute_result"
    },
    {
     "data": {
      "image/png": "[encoded data removed]",
      "text/plain": [
       "<Figure size 432x288 with 2 Axes>"
      ]
     },
     "metadata": {
      "needs_background": "light"
     },
     "output_type": "display_data"
    }
   ],
   "source": [
    "sns.heatmap(correlation_matric,annot=True)"
   ]
  },
  {
   "cell_type": "code",
   "execution_count": 16,
   "metadata": {},
   "outputs": [
    {
     "data": {
      "text/html": [
       "<div>\n",
       "<style scoped>\n",
       "    .dataframe tbody tr th:only-of-type {\n",
       "        vertical-align: middle;\n",
       "    }\n",
       "\n",
       "    .dataframe tbody tr th {\n",
       "        vertical-align: top;\n",
       "    }\n",
       "\n",
       "    .dataframe thead th {\n",
       "        text-align: right;\n",
       "    }\n",
       "</style>\n",
       "<table border=\"1\" class=\"dataframe\">\n",
       "  <thead>\n",
       "    <tr style=\"text-align: right;\">\n",
       "      <th></th>\n",
       "      <th>track_id</th>\n",
       "      <th>acousticness</th>\n",
       "      <th>danceability</th>\n",
       "      <th>energy</th>\n",
       "      <th>instrumentalness</th>\n",
       "      <th>liveness</th>\n",
       "      <th>speechiness</th>\n",
       "      <th>tempo</th>\n",
       "      <th>valence</th>\n",
       "    </tr>\n",
       "  </thead>\n",
       "  <tbody>\n",
       "    <tr>\n",
       "      <th>count</th>\n",
       "      <td>4802.000000</td>\n",
       "      <td>4.802000e+03</td>\n",
       "      <td>4802.000000</td>\n",
       "      <td>4802.000000</td>\n",
       "      <td>4802.000000</td>\n",
       "      <td>4802.000000</td>\n",
       "      <td>4802.000000</td>\n",
       "      <td>4802.000000</td>\n",
       "      <td>4802.000000</td>\n",
       "    </tr>\n",
       "    <tr>\n",
       "      <th>mean</th>\n",
       "      <td>30164.871720</td>\n",
       "      <td>4.870600e-01</td>\n",
       "      <td>0.436556</td>\n",
       "      <td>0.625126</td>\n",
       "      <td>0.604096</td>\n",
       "      <td>0.187997</td>\n",
       "      <td>0.104877</td>\n",
       "      <td>126.687944</td>\n",
       "      <td>0.453413</td>\n",
       "    </tr>\n",
       "    <tr>\n",
       "      <th>std</th>\n",
       "      <td>28592.013796</td>\n",
       "      <td>3.681396e-01</td>\n",
       "      <td>0.183502</td>\n",
       "      <td>0.244051</td>\n",
       "      <td>0.376487</td>\n",
       "      <td>0.150562</td>\n",
       "      <td>0.145934</td>\n",
       "      <td>34.002473</td>\n",
       "      <td>0.266632</td>\n",
       "    </tr>\n",
       "    <tr>\n",
       "      <th>min</th>\n",
       "      <td>2.000000</td>\n",
       "      <td>9.491000e-07</td>\n",
       "      <td>0.051307</td>\n",
       "      <td>0.000279</td>\n",
       "      <td>0.000000</td>\n",
       "      <td>0.025297</td>\n",
       "      <td>0.023234</td>\n",
       "      <td>29.093000</td>\n",
       "      <td>0.014392</td>\n",
       "    </tr>\n",
       "    <tr>\n",
       "      <th>25%</th>\n",
       "      <td>7494.250000</td>\n",
       "      <td>8.351236e-02</td>\n",
       "      <td>0.296047</td>\n",
       "      <td>0.450757</td>\n",
       "      <td>0.164972</td>\n",
       "      <td>0.104052</td>\n",
       "      <td>0.036897</td>\n",
       "      <td>98.000750</td>\n",
       "      <td>0.224617</td>\n",
       "    </tr>\n",
       "    <tr>\n",
       "      <th>50%</th>\n",
       "      <td>20723.500000</td>\n",
       "      <td>5.156888e-01</td>\n",
       "      <td>0.419447</td>\n",
       "      <td>0.648374</td>\n",
       "      <td>0.808752</td>\n",
       "      <td>0.123080</td>\n",
       "      <td>0.049594</td>\n",
       "      <td>124.625500</td>\n",
       "      <td>0.446240</td>\n",
       "    </tr>\n",
       "    <tr>\n",
       "      <th>75%</th>\n",
       "      <td>44240.750000</td>\n",
       "      <td>8.555765e-01</td>\n",
       "      <td>0.565339</td>\n",
       "      <td>0.837016</td>\n",
       "      <td>0.915472</td>\n",
       "      <td>0.215151</td>\n",
       "      <td>0.088290</td>\n",
       "      <td>151.450000</td>\n",
       "      <td>0.666914</td>\n",
       "    </tr>\n",
       "    <tr>\n",
       "      <th>max</th>\n",
       "      <td>124722.000000</td>\n",
       "      <td>9.957965e-01</td>\n",
       "      <td>0.961871</td>\n",
       "      <td>0.999768</td>\n",
       "      <td>0.993134</td>\n",
       "      <td>0.971392</td>\n",
       "      <td>0.966177</td>\n",
       "      <td>250.059000</td>\n",
       "      <td>0.983649</td>\n",
       "    </tr>\n",
       "  </tbody>\n",
       "</table>\n",
       "</div>"
      ],
      "text/plain": [
       "            track_id  acousticness  danceability       energy  \\\n",
       "count    4802.000000  4.802000e+03   4802.000000  4802.000000   \n",
       "mean    30164.871720  4.870600e-01      0.436556     0.625126   \n",
       "std     28592.013796  3.681396e-01      0.183502     0.244051   \n",
       "min         2.000000  9.491000e-07      0.051307     0.000279   \n",
       "25%      7494.250000  8.351236e-02      0.296047     0.450757   \n",
       "50%     20723.500000  5.156888e-01      0.419447     0.648374   \n",
       "75%     44240.750000  8.555765e-01      0.565339     0.837016   \n",
       "max    124722.000000  9.957965e-01      0.961871     0.999768   \n",
       "\n",
       "       instrumentalness     liveness  speechiness        tempo      valence  \n",
       "count       4802.000000  4802.000000  4802.000000  4802.000000  4802.000000  \n",
       "mean           0.604096     0.187997     0.104877   126.687944     0.453413  \n",
       "std            0.376487     0.150562     0.145934    34.002473     0.266632  \n",
       "min            0.000000     0.025297     0.023234    29.093000     0.014392  \n",
       "25%            0.164972     0.104052     0.036897    98.000750     0.224617  \n",
       "50%            0.808752     0.123080     0.049594   124.625500     0.446240  \n",
       "75%            0.915472     0.215151     0.088290   151.450000     0.666914  \n",
       "max            0.993134     0.971392     0.966177   250.059000     0.983649  "
      ]
     },
     "metadata": {},
     "output_type": "display_data"
    }
   ],
   "source": [
    "display(data.describe())"
   ]
  },
  {
   "cell_type": "code",
   "execution_count": 17,
   "metadata": {},
   "outputs": [],
   "source": [
    "X = data.drop(['track_id','genre_top'],axis=1)\n",
    "y = data['genre_top']"
   ]
  },
  {
   "cell_type": "code",
   "execution_count": 18,
   "metadata": {},
   "outputs": [],
   "source": [
    "scaler = StandardScaler()\n",
    "X_scaler = scaler.fit_transform(X)"
   ]
  },
  {
   "cell_type": "code",
   "execution_count": 19,
   "metadata": {},
   "outputs": [
    {
     "data": {
      "text/plain": [
       "(4802, 8)"
      ]
     },
     "execution_count": 19,
     "metadata": {},
     "output_type": "execute_result"
    }
   ],
   "source": [
    "X_scaler.shape"
   ]
  },
  {
   "cell_type": "code",
   "execution_count": 20,
   "metadata": {},
   "outputs": [
    {
     "data": {
      "text/plain": [
       "PCA(copy=True, iterated_power='auto', n_components=None, random_state=None,\n",
       "    svd_solver='auto', tol=0.0, whiten=False)"
      ]
     },
     "execution_count": 20,
     "metadata": {},
     "output_type": "execute_result"
    }
   ],
   "source": [
    "pca = PCA()\n",
    "pca.fit(X_scaler)"
   ]
  },
  {
   "cell_type": "code",
   "execution_count": 21,
   "metadata": {},
   "outputs": [
    {
     "name": "stdout",
     "output_type": "stream",
     "text": [
      "[0.24297674 0.18044316 0.13650309 0.12994089 0.11056248 0.08302245\n",
      " 0.06923783 0.04731336]\n"
     ]
    }
   ],
   "source": [
    "variance_pca = pca.explained_variance_ratio_\n",
    "print(variance_pca)"
   ]
  },
  {
   "cell_type": "code",
   "execution_count": 22,
   "metadata": {},
   "outputs": [
    {
     "data": {
      "text/plain": [
       "Text(0.5, 0, 'Principal Component')"
      ]
     },
     "execution_count": 22,
     "metadata": {},
     "output_type": "execute_result"
    },
    {
     "data": {
      "image/png": "[encoded data removed]",
      "text/plain": [
       "<Figure size 432x288 with 1 Axes>"
      ]
     },
     "metadata": {
      "needs_background": "light"
     },
     "output_type": "display_data"
    }
   ],
   "source": [
    "fig , ax = plt.subplots()\n",
    "ax.bar(range(pca.n_components_),variance_pca)\n",
    "ax.set_xlabel('Principal Component')"
   ]
  },
  {
   "cell_type": "code",
   "execution_count": 23,
   "metadata": {},
   "outputs": [],
   "source": [
    "cumulative_variance = np.cumsum(variance_pca)"
   ]
  },
  {
   "cell_type": "code",
   "execution_count": 24,
   "metadata": {},
   "outputs": [
    {
     "data": {
      "text/plain": [
       "array([0.24297674, 0.4234199 , 0.55992299, 0.68986388, 0.80042636,\n",
       "       0.88344881, 0.95268664, 1.        ])"
      ]
     },
     "execution_count": 24,
     "metadata": {},
     "output_type": "execute_result"
    }
   ],
   "source": [
    "cumulative_variance"
   ]
  },
  {
   "cell_type": "code",
   "execution_count": 25,
   "metadata": {},
   "outputs": [
    {
     "data": {
      "text/plain": [
       "<matplotlib.lines.Line2D at 0x249234d6dc8>"
      ]
     },
     "execution_count": 25,
     "metadata": {},
     "output_type": "execute_result"
    },
    {
     "data": {
      "image/png": "[encoded data removed]",
      "text/plain": [
       "<Figure size 432x288 with 1 Axes>"
      ]
     },
     "metadata": {
      "needs_background": "light"
     },
     "output_type": "display_data"
    }
   ],
   "source": [
    "fig , ax = plt.subplots()\n",
    "ax.plot(cumulative_variance)\n",
    "ax.axhline(y=0.9,linestyle='--')"
   ]
  },
  {
   "cell_type": "code",
   "execution_count": 26,
   "metadata": {},
   "outputs": [
    {
     "data": {
      "text/plain": [
       "(4802, 6)"
      ]
     },
     "execution_count": 26,
     "metadata": {},
     "output_type": "execute_result"
    }
   ],
   "source": [
    "pca = PCA(n_components=6,random_state=10)\n",
    "pca.fit(X_scaler)\n",
    "pca_transform =pca.transform(X_scaler)\n",
    "pca_transform.shape"
   ]
  },
  {
   "cell_type": "code",
   "execution_count": 27,
   "metadata": {},
   "outputs": [
    {
     "data": {
      "text/plain": [
       "0.8509575353871773"
      ]
     },
     "execution_count": 27,
     "metadata": {},
     "output_type": "execute_result"
    }
   ],
   "source": [
    "from sklearn.model_selection import train_test_split\n",
    "from sklearn.tree import DecisionTreeClassifier\n",
    "\n",
    "X_train, X_test, y_train , y_test = train_test_split(pca_transform,y,random_state=10,stratify=y)\n",
    "tree = DecisionTreeClassifier(random_state=10)\n",
    "tree.fit(X_train,y_train)\n",
    "predict_tree = tree.predict(X_test)\n",
    "tree.score(X_test,y_test)"
   ]
  },
  {
   "cell_type": "code",
   "execution_count": 28,
   "metadata": {},
   "outputs": [
    {
     "data": {
      "text/plain": [
       "0.8726061615320566"
      ]
     },
     "execution_count": 28,
     "metadata": {},
     "output_type": "execute_result"
    }
   ],
   "source": [
    "from sklearn.linear_model import LogisticRegression\n",
    "\n",
    "logreg = LogisticRegression()\n",
    "logreg.fit(X_train,y_train)\n",
    "predict_logreg = logreg.predict(X_test)\n",
    "logreg.score(X_test,y_test)"
   ]
  },
  {
   "cell_type": "code",
   "execution_count": 29,
   "metadata": {},
   "outputs": [
    {
     "name": "stdout",
     "output_type": "stream",
     "text": [
      "[[138  90]\n",
      " [ 89 884]]\n"
     ]
    }
   ],
   "source": [
    "from sklearn.metrics import confusion_matrix\n",
    "\n",
    "print(confusion_matrix(y_test,predict_tree))\n"
   ]
  },
  {
   "cell_type": "code",
   "execution_count": 30,
   "metadata": {},
   "outputs": [],
   "source": [
    "from sklearn.metrics import classification_report"
   ]
  },
  {
   "cell_type": "code",
   "execution_count": 31,
   "metadata": {},
   "outputs": [
    {
     "name": "stdout",
     "output_type": "stream",
     "text": [
      "              precision    recall  f1-score   support\n",
      "\n",
      "     Hip-Hop       0.61      0.61      0.61       228\n",
      "        Rock       0.91      0.91      0.91       973\n",
      "\n",
      "    accuracy                           0.85      1201\n",
      "   macro avg       0.76      0.76      0.76      1201\n",
      "weighted avg       0.85      0.85      0.85      1201\n",
      "\n"
     ]
    }
   ],
   "source": [
    "print(classification_report(y_test,predict_tree))"
   ]
  },
  {
   "cell_type": "code",
   "execution_count": 32,
   "metadata": {},
   "outputs": [
    {
     "name": "stdout",
     "output_type": "stream",
     "text": [
      "              precision    recall  f1-score   support\n",
      "\n",
      "     Hip-Hop       0.75      0.49      0.59       228\n",
      "        Rock       0.89      0.96      0.92       973\n",
      "\n",
      "    accuracy                           0.87      1201\n",
      "   macro avg       0.82      0.73      0.76      1201\n",
      "weighted avg       0.86      0.87      0.86      1201\n",
      "\n"
     ]
    }
   ],
   "source": [
    "print(classification_report(y_test,predict_logreg))"
   ]
  },
  {
   "cell_type": "code",
   "execution_count": 33,
   "metadata": {},
   "outputs": [
    {
     "data": {
      "text/plain": [
       "Rock       3892\n",
       "Hip-Hop     910\n",
       "Name: genre_top, dtype: int64"
      ]
     },
     "execution_count": 33,
     "metadata": {},
     "output_type": "execute_result"
    }
   ],
   "source": [
    "data.genre_top.value_counts()"
   ]
  },
  {
   "cell_type": "code",
   "execution_count": 34,
   "metadata": {},
   "outputs": [
    {
     "data": {
      "text/plain": [
       "(4802, 10)"
      ]
     },
     "execution_count": 34,
     "metadata": {},
     "output_type": "execute_result"
    }
   ],
   "source": [
    "data.shape"
   ]
  },
  {
   "cell_type": "code",
   "execution_count": 35,
   "metadata": {},
   "outputs": [
    {
     "data": {
      "text/html": [
       "<div>\n",
       "<style scoped>\n",
       "    .dataframe tbody tr th:only-of-type {\n",
       "        vertical-align: middle;\n",
       "    }\n",
       "\n",
       "    .dataframe tbody tr th {\n",
       "        vertical-align: top;\n",
       "    }\n",
       "\n",
       "    .dataframe thead th {\n",
       "        text-align: right;\n",
       "    }\n",
       "</style>\n",
       "<table border=\"1\" class=\"dataframe\">\n",
       "  <thead>\n",
       "    <tr style=\"text-align: right;\">\n",
       "      <th></th>\n",
       "      <th>track_id</th>\n",
       "      <th>acousticness</th>\n",
       "      <th>danceability</th>\n",
       "      <th>energy</th>\n",
       "      <th>instrumentalness</th>\n",
       "      <th>liveness</th>\n",
       "      <th>speechiness</th>\n",
       "      <th>tempo</th>\n",
       "      <th>valence</th>\n",
       "      <th>genre_top</th>\n",
       "    </tr>\n",
       "  </thead>\n",
       "  <tbody>\n",
       "    <tr>\n",
       "      <th>0</th>\n",
       "      <td>2</td>\n",
       "      <td>0.416675</td>\n",
       "      <td>0.675894</td>\n",
       "      <td>0.634476</td>\n",
       "      <td>0.010628</td>\n",
       "      <td>0.177647</td>\n",
       "      <td>0.159310</td>\n",
       "      <td>165.922</td>\n",
       "      <td>0.576661</td>\n",
       "      <td>Hip-Hop</td>\n",
       "    </tr>\n",
       "    <tr>\n",
       "      <th>1</th>\n",
       "      <td>3</td>\n",
       "      <td>0.374408</td>\n",
       "      <td>0.528643</td>\n",
       "      <td>0.817461</td>\n",
       "      <td>0.001851</td>\n",
       "      <td>0.105880</td>\n",
       "      <td>0.461818</td>\n",
       "      <td>126.957</td>\n",
       "      <td>0.269240</td>\n",
       "      <td>Hip-Hop</td>\n",
       "    </tr>\n",
       "    <tr>\n",
       "      <th>2</th>\n",
       "      <td>5</td>\n",
       "      <td>0.043567</td>\n",
       "      <td>0.745566</td>\n",
       "      <td>0.701470</td>\n",
       "      <td>0.000697</td>\n",
       "      <td>0.373143</td>\n",
       "      <td>0.124595</td>\n",
       "      <td>100.260</td>\n",
       "      <td>0.621661</td>\n",
       "      <td>Hip-Hop</td>\n",
       "    </tr>\n",
       "    <tr>\n",
       "      <th>3</th>\n",
       "      <td>134</td>\n",
       "      <td>0.452217</td>\n",
       "      <td>0.513238</td>\n",
       "      <td>0.560410</td>\n",
       "      <td>0.019443</td>\n",
       "      <td>0.096567</td>\n",
       "      <td>0.525519</td>\n",
       "      <td>114.290</td>\n",
       "      <td>0.894072</td>\n",
       "      <td>Hip-Hop</td>\n",
       "    </tr>\n",
       "    <tr>\n",
       "      <th>4</th>\n",
       "      <td>153</td>\n",
       "      <td>0.988306</td>\n",
       "      <td>0.255661</td>\n",
       "      <td>0.979774</td>\n",
       "      <td>0.973006</td>\n",
       "      <td>0.121342</td>\n",
       "      <td>0.051740</td>\n",
       "      <td>90.241</td>\n",
       "      <td>0.034018</td>\n",
       "      <td>Rock</td>\n",
       "    </tr>\n",
       "  </tbody>\n",
       "</table>\n",
       "</div>"
      ],
      "text/plain": [
       "   track_id  acousticness  danceability    energy  instrumentalness  liveness  \\\n",
       "0         2      0.416675      0.675894  0.634476          0.010628  0.177647   \n",
       "1         3      0.374408      0.528643  0.817461          0.001851  0.105880   \n",
       "2         5      0.043567      0.745566  0.701470          0.000697  0.373143   \n",
       "3       134      0.452217      0.513238  0.560410          0.019443  0.096567   \n",
       "4       153      0.988306      0.255661  0.979774          0.973006  0.121342   \n",
       "\n",
       "   speechiness    tempo   valence genre_top  \n",
       "0     0.159310  165.922  0.576661   Hip-Hop  \n",
       "1     0.461818  126.957  0.269240   Hip-Hop  \n",
       "2     0.124595  100.260  0.621661   Hip-Hop  \n",
       "3     0.525519  114.290  0.894072   Hip-Hop  \n",
       "4     0.051740   90.241  0.034018      Rock  "
      ]
     },
     "execution_count": 35,
     "metadata": {},
     "output_type": "execute_result"
    }
   ],
   "source": [
    "data.head()"
   ]
  },
  {
   "cell_type": "code",
   "execution_count": 36,
   "metadata": {},
   "outputs": [],
   "source": [
    "data_genre_rock = data[data['genre_top'] == 'Rock']\n",
    "data_genre_hiphop = data[data['genre_top'] == 'Hip-Hop']"
   ]
  },
  {
   "cell_type": "code",
   "execution_count": 37,
   "metadata": {},
   "outputs": [
    {
     "data": {
      "text/plain": [
       "(3892, 10)"
      ]
     },
     "execution_count": 37,
     "metadata": {},
     "output_type": "execute_result"
    }
   ],
   "source": [
    "data_genre_rock.shape"
   ]
  },
  {
   "cell_type": "code",
   "execution_count": 38,
   "metadata": {},
   "outputs": [
    {
     "data": {
      "text/plain": [
       "(910, 10)"
      ]
     },
     "execution_count": 38,
     "metadata": {},
     "output_type": "execute_result"
    }
   ],
   "source": [
    "data_genre_hiphop.shape"
   ]
  },
  {
   "cell_type": "code",
   "execution_count": 39,
   "metadata": {},
   "outputs": [],
   "source": [
    "data_genre_rock = data_genre_rock.sample(len(data_genre_hiphop),random_state=10)"
   ]
  },
  {
   "cell_type": "code",
   "execution_count": 40,
   "metadata": {},
   "outputs": [
    {
     "data": {
      "text/plain": [
       "(910, 10)"
      ]
     },
     "execution_count": 40,
     "metadata": {},
     "output_type": "execute_result"
    }
   ],
   "source": [
    "data_genre_rock.shape"
   ]
  },
  {
   "cell_type": "code",
   "execution_count": 41,
   "metadata": {},
   "outputs": [],
   "source": [
    "data_new = pd.concat([data_genre_rock,data_genre_hiphop])"
   ]
  },
  {
   "cell_type": "code",
   "execution_count": 42,
   "metadata": {},
   "outputs": [
    {
     "data": {
      "text/plain": [
       "(1820, 10)"
      ]
     },
     "execution_count": 42,
     "metadata": {},
     "output_type": "execute_result"
    }
   ],
   "source": [
    "data_new.shape"
   ]
  },
  {
   "cell_type": "code",
   "execution_count": 43,
   "metadata": {},
   "outputs": [
    {
     "data": {
      "text/html": [
       "<div>\n",
       "<style scoped>\n",
       "    .dataframe tbody tr th:only-of-type {\n",
       "        vertical-align: middle;\n",
       "    }\n",
       "\n",
       "    .dataframe tbody tr th {\n",
       "        vertical-align: top;\n",
       "    }\n",
       "\n",
       "    .dataframe thead th {\n",
       "        text-align: right;\n",
       "    }\n",
       "</style>\n",
       "<table border=\"1\" class=\"dataframe\">\n",
       "  <thead>\n",
       "    <tr style=\"text-align: right;\">\n",
       "      <th></th>\n",
       "      <th>track_id</th>\n",
       "      <th>acousticness</th>\n",
       "      <th>danceability</th>\n",
       "      <th>energy</th>\n",
       "      <th>instrumentalness</th>\n",
       "      <th>liveness</th>\n",
       "      <th>speechiness</th>\n",
       "      <th>tempo</th>\n",
       "      <th>valence</th>\n",
       "    </tr>\n",
       "  </thead>\n",
       "  <tbody>\n",
       "    <tr>\n",
       "      <th>count</th>\n",
       "      <td>1820.000000</td>\n",
       "      <td>1.820000e+03</td>\n",
       "      <td>1820.000000</td>\n",
       "      <td>1820.000000</td>\n",
       "      <td>1820.000000</td>\n",
       "      <td>1820.000000</td>\n",
       "      <td>1820.000000</td>\n",
       "      <td>1820.000000</td>\n",
       "      <td>1820.000000</td>\n",
       "    </tr>\n",
       "    <tr>\n",
       "      <th>mean</th>\n",
       "      <td>30310.054396</td>\n",
       "      <td>4.574804e-01</td>\n",
       "      <td>0.504778</td>\n",
       "      <td>0.601411</td>\n",
       "      <td>0.507594</td>\n",
       "      <td>0.188767</td>\n",
       "      <td>0.160739</td>\n",
       "      <td>123.958476</td>\n",
       "      <td>0.504761</td>\n",
       "    </tr>\n",
       "    <tr>\n",
       "      <th>std</th>\n",
       "      <td>27832.647290</td>\n",
       "      <td>3.533489e-01</td>\n",
       "      <td>0.199113</td>\n",
       "      <td>0.233482</td>\n",
       "      <td>0.403295</td>\n",
       "      <td>0.150557</td>\n",
       "      <td>0.184644</td>\n",
       "      <td>36.262894</td>\n",
       "      <td>0.261308</td>\n",
       "    </tr>\n",
       "    <tr>\n",
       "      <th>min</th>\n",
       "      <td>2.000000</td>\n",
       "      <td>9.491000e-07</td>\n",
       "      <td>0.058431</td>\n",
       "      <td>0.000279</td>\n",
       "      <td>0.000000</td>\n",
       "      <td>0.026589</td>\n",
       "      <td>0.023234</td>\n",
       "      <td>37.245000</td>\n",
       "      <td>0.024452</td>\n",
       "    </tr>\n",
       "    <tr>\n",
       "      <th>25%</th>\n",
       "      <td>11787.750000</td>\n",
       "      <td>8.462968e-02</td>\n",
       "      <td>0.351475</td>\n",
       "      <td>0.437930</td>\n",
       "      <td>0.010461</td>\n",
       "      <td>0.103592</td>\n",
       "      <td>0.041768</td>\n",
       "      <td>93.834750</td>\n",
       "      <td>0.298373</td>\n",
       "    </tr>\n",
       "    <tr>\n",
       "      <th>50%</th>\n",
       "      <td>20500.000000</td>\n",
       "      <td>4.530086e-01</td>\n",
       "      <td>0.501061</td>\n",
       "      <td>0.606961</td>\n",
       "      <td>0.688956</td>\n",
       "      <td>0.123093</td>\n",
       "      <td>0.069304</td>\n",
       "      <td>117.766500</td>\n",
       "      <td>0.517998</td>\n",
       "    </tr>\n",
       "    <tr>\n",
       "      <th>75%</th>\n",
       "      <td>42433.750000</td>\n",
       "      <td>8.026239e-01</td>\n",
       "      <td>0.666382</td>\n",
       "      <td>0.790653</td>\n",
       "      <td>0.896816</td>\n",
       "      <td>0.220066</td>\n",
       "      <td>0.214537</td>\n",
       "      <td>153.353500</td>\n",
       "      <td>0.707226</td>\n",
       "    </tr>\n",
       "    <tr>\n",
       "      <th>max</th>\n",
       "      <td>124722.000000</td>\n",
       "      <td>9.957555e-01</td>\n",
       "      <td>0.961871</td>\n",
       "      <td>0.999094</td>\n",
       "      <td>0.993134</td>\n",
       "      <td>0.947659</td>\n",
       "      <td>0.966177</td>\n",
       "      <td>234.036000</td>\n",
       "      <td>0.983199</td>\n",
       "    </tr>\n",
       "  </tbody>\n",
       "</table>\n",
       "</div>"
      ],
      "text/plain": [
       "            track_id  acousticness  danceability       energy  \\\n",
       "count    1820.000000  1.820000e+03   1820.000000  1820.000000   \n",
       "mean    30310.054396  4.574804e-01      0.504778     0.601411   \n",
       "std     27832.647290  3.533489e-01      0.199113     0.233482   \n",
       "min         2.000000  9.491000e-07      0.058431     0.000279   \n",
       "25%     11787.750000  8.462968e-02      0.351475     0.437930   \n",
       "50%     20500.000000  4.530086e-01      0.501061     0.606961   \n",
       "75%     42433.750000  8.026239e-01      0.666382     0.790653   \n",
       "max    124722.000000  9.957555e-01      0.961871     0.999094   \n",
       "\n",
       "       instrumentalness     liveness  speechiness        tempo      valence  \n",
       "count       1820.000000  1820.000000  1820.000000  1820.000000  1820.000000  \n",
       "mean           0.507594     0.188767     0.160739   123.958476     0.504761  \n",
       "std            0.403295     0.150557     0.184644    36.262894     0.261308  \n",
       "min            0.000000     0.026589     0.023234    37.245000     0.024452  \n",
       "25%            0.010461     0.103592     0.041768    93.834750     0.298373  \n",
       "50%            0.688956     0.123093     0.069304   117.766500     0.517998  \n",
       "75%            0.896816     0.220066     0.214537   153.353500     0.707226  \n",
       "max            0.993134     0.947659     0.966177   234.036000     0.983199  "
      ]
     },
     "execution_count": 43,
     "metadata": {},
     "output_type": "execute_result"
    }
   ],
   "source": [
    "data_new.describe()"
   ]
  },
  {
   "cell_type": "code",
   "execution_count": 44,
   "metadata": {},
   "outputs": [],
   "source": [
    "X = data_new.drop(['track_id','genre_top'],axis=1)\n",
    "y = data_new['genre_top']"
   ]
  },
  {
   "cell_type": "code",
   "execution_count": 45,
   "metadata": {},
   "outputs": [],
   "source": [
    "X_scaler = scaler.fit_transform(X)"
   ]
  },
  {
   "cell_type": "code",
   "execution_count": 46,
   "metadata": {},
   "outputs": [],
   "source": [
    "pca.fit(X_scaler)\n",
    "pca_transform =pca.transform(X_scaler)"
   ]
  },
  {
   "cell_type": "code",
   "execution_count": 47,
   "metadata": {},
   "outputs": [
    {
     "data": {
      "text/plain": [
       "0.7824175824175824"
      ]
     },
     "execution_count": 47,
     "metadata": {},
     "output_type": "execute_result"
    }
   ],
   "source": [
    "X_train, X_test, y_train , y_test = train_test_split(pca_transform,y,random_state=10,stratify=y)\n",
    "tree = DecisionTreeClassifier(random_state=10)\n",
    "tree.fit(X_train,y_train)\n",
    "predict_tree = tree.predict(X_test)\n",
    "tree.score(X_test,y_test)"
   ]
  },
  {
   "cell_type": "code",
   "execution_count": 48,
   "metadata": {},
   "outputs": [
    {
     "data": {
      "text/plain": [
       "0.8153846153846154"
      ]
     },
     "execution_count": 48,
     "metadata": {},
     "output_type": "execute_result"
    }
   ],
   "source": [
    "logreg = LogisticRegression()\n",
    "logreg.fit(X_train,y_train)\n",
    "predict_logreg = logreg.predict(X_test)\n",
    "logreg.score(X_test,y_test)"
   ]
  },
  {
   "cell_type": "code",
   "execution_count": 49,
   "metadata": {},
   "outputs": [],
   "source": [
    "params = {\n",
    "    'criterion':['gini','entropy'],\n",
    "    'max_depth':list(np.arange(1,20)),\n",
    "    'max_features':['auto','sqrt','log2'],\n",
    "    'max_leaf_nodes':[2,5,8,10,13,15,20]\n",
    "}"
   ]
  },
  {
   "cell_type": "code",
   "execution_count": 50,
   "metadata": {
    "scrolled": true
   },
   "outputs": [],
   "source": [
    "from sklearn.model_selection import GridSearchCV\n",
    "\n",
    "gs =GridSearchCV(tree,params)"
   ]
  },
  {
   "cell_type": "code",
   "execution_count": 51,
   "metadata": {},
   "outputs": [
    {
     "data": {
      "text/plain": [
       "GridSearchCV(cv=None, error_score=nan,\n",
       "             estimator=DecisionTreeClassifier(ccp_alpha=0.0, class_weight=None,\n",
       "                                              criterion='gini', max_depth=None,\n",
       "                                              max_features=None,\n",
       "                                              max_leaf_nodes=None,\n",
       "                                              min_impurity_decrease=0.0,\n",
       "                                              min_impurity_split=None,\n",
       "                                              min_samples_leaf=1,\n",
       "                                              min_samples_split=2,\n",
       "                                              min_weight_fraction_leaf=0.0,\n",
       "                                              presort='deprecated',\n",
       "                                              random_state=10,\n",
       "                                              splitter='best'),\n",
       "             iid='deprecated', n_jobs=None,\n",
       "             param_grid={'criterion': ['gini', 'entropy'],\n",
       "                         'max_depth': [1, 2, 3, 4, 5, 6, 7, 8, 9, 10, 11, 12,\n",
       "                                       13, 14, 15, 16, 17, 18, 19],\n",
       "                         'max_features': ['auto', 'sqrt', 'log2'],\n",
       "                         'max_leaf_nodes': [2, 5, 8, 10, 13, 15, 20]},\n",
       "             pre_dispatch='2*n_jobs', refit=True, return_train_score=False,\n",
       "             scoring=None, verbose=0)"
      ]
     },
     "execution_count": 51,
     "metadata": {},
     "output_type": "execute_result"
    }
   ],
   "source": [
    "gs.fit(X_train,y_train)"
   ]
  },
  {
   "cell_type": "code",
   "execution_count": 52,
   "metadata": {},
   "outputs": [
    {
     "data": {
      "text/plain": [
       "{'criterion': 'gini',\n",
       " 'max_depth': 9,\n",
       " 'max_features': 'auto',\n",
       " 'max_leaf_nodes': 15}"
      ]
     },
     "execution_count": 52,
     "metadata": {},
     "output_type": "execute_result"
    }
   ],
   "source": [
    "gs.best_params_"
   ]
  },
  {
   "cell_type": "code",
   "execution_count": 53,
   "metadata": {},
   "outputs": [
    {
     "data": {
      "text/plain": [
       "1.0"
      ]
     },
     "execution_count": 53,
     "metadata": {},
     "output_type": "execute_result"
    }
   ],
   "source": [
    "predict_best =gs.predict(X_test)\n",
    "gs.score(X_test,predict_best)"
   ]
  },
  {
   "cell_type": "code",
   "execution_count": 54,
   "metadata": {},
   "outputs": [
    {
     "data": {
      "text/plain": [
       "0.8622710622710623"
      ]
     },
     "execution_count": 54,
     "metadata": {},
     "output_type": "execute_result"
    }
   ],
   "source": [
    "gs.score(X_train,y_train)"
   ]
  },
  {
   "cell_type": "code",
   "execution_count": 55,
   "metadata": {},
   "outputs": [
    {
     "name": "stdout",
     "output_type": "stream",
     "text": [
      "              precision    recall  f1-score   support\n",
      "\n",
      "     Hip-Hop       0.81      0.80      0.80       227\n",
      "        Rock       0.80      0.82      0.81       228\n",
      "\n",
      "    accuracy                           0.81       455\n",
      "   macro avg       0.81      0.81      0.81       455\n",
      "weighted avg       0.81      0.81      0.81       455\n",
      "\n"
     ]
    }
   ],
   "source": [
    "print(classification_report(y_test,predict_best))"
   ]
  },
  {
   "cell_type": "code",
   "execution_count": 56,
   "metadata": {},
   "outputs": [
    {
     "name": "stdout",
     "output_type": "stream",
     "text": [
      "[[181  46]\n",
      " [ 42 186]]\n"
     ]
    }
   ],
   "source": [
    "print(confusion_matrix(y_test,predict_best))"
   ]
  },
  {
   "cell_type": "code",
   "execution_count": 57,
   "metadata": {},
   "outputs": [
    {
     "data": {
      "text/plain": [
       "1.0"
      ]
     },
     "execution_count": 57,
     "metadata": {},
     "output_type": "execute_result"
    }
   ],
   "source": [
    "from sklearn.ensemble import RandomForestClassifier\n",
    "\n",
    "rf = RandomForestClassifier()\n",
    "rf.fit(X_train,y_train)\n",
    "prediction_rf = rf.predict(X_test)\n",
    "rf.score(X_test,prediction_rf)"
   ]
  },
  {
   "cell_type": "code",
   "execution_count": 58,
   "metadata": {},
   "outputs": [
    {
     "name": "stdout",
     "output_type": "stream",
     "text": [
      "              precision    recall  f1-score   support\n",
      "\n",
      "     Hip-Hop       0.85      0.81      0.83       227\n",
      "        Rock       0.82      0.86      0.84       228\n",
      "\n",
      "    accuracy                           0.84       455\n",
      "   macro avg       0.84      0.84      0.84       455\n",
      "weighted avg       0.84      0.84      0.84       455\n",
      "\n"
     ]
    }
   ],
   "source": [
    "print(classification_report(y_test,prediction_rf))"
   ]
  },
  {
   "cell_type": "code",
   "execution_count": 59,
   "metadata": {},
   "outputs": [],
   "source": [
    "params= { \n",
    "    'criterion':['gini','entropy'], \n",
    "    'max_depth':list(np.arange(1,20)), \n",
    "    'min_samples_split':[2,4,6,8,10],  \n",
    "    'min_weight_fraction_leaf':[0.0,0.5],  \n",
    "}"
   ]
  },
  {
   "cell_type": "code",
   "execution_count": 60,
   "metadata": {},
   "outputs": [],
   "source": [
    "gs_rf =GridSearchCV(rf,params)"
   ]
  },
  {
   "cell_type": "code",
   "execution_count": null,
   "metadata": {},
   "outputs": [],
   "source": []
  }
 ],
 "metadata": {
  "kernelspec": {
   "display_name": "Python 3.7.6 64-bit ('base': conda)",
   "language": "python",
   "name": "python37664bitbasecondaed9237ffe8e548af9c4a8ba38463197a"
  },
  "language_info": {
   "codemirror_mode": {
    "name": "ipython",
    "version": 3
   },
   "file_extension": ".py",
   "mimetype": "text/x-python",
   "name": "python",
   "nbconvert_exporter": "python",
   "pygments_lexer": "ipython3",
   "version": "3.7.6"
  }
 },
 "nbformat": 4,
 "nbformat_minor": 2
}
